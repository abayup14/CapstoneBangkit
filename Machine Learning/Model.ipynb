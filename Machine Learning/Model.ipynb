{
 "cells": [
  {
   "cell_type": "code",
   "execution_count": 1,
   "metadata": {
    "execution": {
     "iopub.execute_input": "2023-10-21T12:09:21.923701Z",
     "iopub.status.busy": "2023-10-21T12:09:21.923333Z",
     "iopub.status.idle": "2023-10-21T12:09:21.928235Z",
     "shell.execute_reply": "2023-10-21T12:09:21.927311Z",
     "shell.execute_reply.started": "2023-10-21T12:09:21.923681Z"
    },
    "id": "sNvWbXJt5TzT"
   },
   "outputs": [
    {
     "name": "stderr",
     "output_type": "stream",
     "text": [
      "2023-11-08 15:43:58.879081: E tensorflow/compiler/xla/stream_executor/cuda/cuda_dnn.cc:9342] Unable to register cuDNN factory: Attempting to register factory for plugin cuDNN when one has already been registered\n",
      "2023-11-08 15:43:58.879206: E tensorflow/compiler/xla/stream_executor/cuda/cuda_fft.cc:609] Unable to register cuFFT factory: Attempting to register factory for plugin cuFFT when one has already been registered\n",
      "2023-11-08 15:43:58.881074: E tensorflow/compiler/xla/stream_executor/cuda/cuda_blas.cc:1518] Unable to register cuBLAS factory: Attempting to register factory for plugin cuBLAS when one has already been registered\n",
      "2023-11-08 15:43:59.052919: I tensorflow/core/platform/cpu_feature_guard.cc:182] This TensorFlow binary is optimized to use available CPU instructions in performance-critical operations.\n",
      "To enable the following instructions: AVX2 FMA, in other operations, rebuild TensorFlow with the appropriate compiler flags.\n"
     ]
    }
   ],
   "source": [
    "import tensorflow as tf\n",
    "import pandas as pd\n",
    "import numpy as np\n",
    "import matplotlib.pyplot as plt"
   ]
  },
  {
   "cell_type": "code",
   "execution_count": 2,
   "metadata": {
    "execution": {
     "iopub.execute_input": "2023-10-21T11:52:33.099510Z",
     "iopub.status.busy": "2023-10-21T11:52:33.098219Z",
     "iopub.status.idle": "2023-10-21T11:52:40.792377Z",
     "shell.execute_reply": "2023-10-21T11:52:40.791535Z",
     "shell.execute_reply.started": "2023-10-21T11:52:33.099472Z"
    },
    "id": "Kcj_uQEV5Z2k",
    "scrolled": true
   },
   "outputs": [],
   "source": [
    "df=pd.read_excel(\"preprocessed.xlsx\")"
   ]
  },
  {
   "cell_type": "code",
   "execution_count": 3,
   "metadata": {
    "execution": {
     "iopub.execute_input": "2023-10-21T11:52:54.596244Z",
     "iopub.status.busy": "2023-10-21T11:52:54.595798Z",
     "iopub.status.idle": "2023-10-21T11:52:54.608830Z",
     "shell.execute_reply": "2023-10-21T11:52:54.608121Z",
     "shell.execute_reply.started": "2023-10-21T11:52:54.596225Z"
    }
   },
   "outputs": [
    {
     "name": "stdout",
     "output_type": "stream",
     "text": [
      "Index(['Age', 'Accessibility', 'EdLevel', 'Employment', 'MentalHealth',\n",
      "       'MainBranch', 'YearsCode', 'YearsCodePro', 'PreviousSalary',\n",
      "       'ComputerSkills', 'Employed'],\n",
      "      dtype='object')\n"
     ]
    }
   ],
   "source": [
    "df.drop(['Unnamed: 0'], axis=1, inplace=True)\n",
    "df.drop(['HaveWorkedWith'], axis=1, inplace=True)\n",
    "print(df.columns)"
   ]
  },
  {
   "cell_type": "code",
   "execution_count": 4,
   "metadata": {},
   "outputs": [
    {
     "data": {
      "text/html": [
       "<div>\n",
       "<style scoped>\n",
       "    .dataframe tbody tr th:only-of-type {\n",
       "        vertical-align: middle;\n",
       "    }\n",
       "\n",
       "    .dataframe tbody tr th {\n",
       "        vertical-align: top;\n",
       "    }\n",
       "\n",
       "    .dataframe thead th {\n",
       "        text-align: right;\n",
       "    }\n",
       "</style>\n",
       "<table border=\"1\" class=\"dataframe\">\n",
       "  <thead>\n",
       "    <tr style=\"text-align: right;\">\n",
       "      <th></th>\n",
       "      <th>Age</th>\n",
       "      <th>Accessibility</th>\n",
       "      <th>EdLevel</th>\n",
       "      <th>Employment</th>\n",
       "      <th>MentalHealth</th>\n",
       "      <th>MainBranch</th>\n",
       "      <th>YearsCode</th>\n",
       "      <th>YearsCodePro</th>\n",
       "      <th>PreviousSalary</th>\n",
       "      <th>ComputerSkills</th>\n",
       "      <th>Employed</th>\n",
       "    </tr>\n",
       "  </thead>\n",
       "  <tbody>\n",
       "    <tr>\n",
       "      <th>0</th>\n",
       "      <td>1</td>\n",
       "      <td>1</td>\n",
       "      <td>2</td>\n",
       "      <td>1</td>\n",
       "      <td>1</td>\n",
       "      <td>1</td>\n",
       "      <td>7</td>\n",
       "      <td>4</td>\n",
       "      <td>51552</td>\n",
       "      <td>4</td>\n",
       "      <td>0</td>\n",
       "    </tr>\n",
       "    <tr>\n",
       "      <th>1</th>\n",
       "      <td>1</td>\n",
       "      <td>1</td>\n",
       "      <td>1</td>\n",
       "      <td>1</td>\n",
       "      <td>1</td>\n",
       "      <td>1</td>\n",
       "      <td>12</td>\n",
       "      <td>5</td>\n",
       "      <td>46482</td>\n",
       "      <td>12</td>\n",
       "      <td>1</td>\n",
       "    </tr>\n",
       "    <tr>\n",
       "      <th>2</th>\n",
       "      <td>1</td>\n",
       "      <td>1</td>\n",
       "      <td>2</td>\n",
       "      <td>1</td>\n",
       "      <td>1</td>\n",
       "      <td>1</td>\n",
       "      <td>15</td>\n",
       "      <td>6</td>\n",
       "      <td>77290</td>\n",
       "      <td>7</td>\n",
       "      <td>0</td>\n",
       "    </tr>\n",
       "    <tr>\n",
       "      <th>3</th>\n",
       "      <td>1</td>\n",
       "      <td>1</td>\n",
       "      <td>1</td>\n",
       "      <td>1</td>\n",
       "      <td>1</td>\n",
       "      <td>1</td>\n",
       "      <td>9</td>\n",
       "      <td>6</td>\n",
       "      <td>46135</td>\n",
       "      <td>13</td>\n",
       "      <td>0</td>\n",
       "    </tr>\n",
       "    <tr>\n",
       "      <th>4</th>\n",
       "      <td>2</td>\n",
       "      <td>1</td>\n",
       "      <td>5</td>\n",
       "      <td>0</td>\n",
       "      <td>1</td>\n",
       "      <td>2</td>\n",
       "      <td>40</td>\n",
       "      <td>30</td>\n",
       "      <td>160932</td>\n",
       "      <td>2</td>\n",
       "      <td>0</td>\n",
       "    </tr>\n",
       "    <tr>\n",
       "      <th>5</th>\n",
       "      <td>1</td>\n",
       "      <td>1</td>\n",
       "      <td>2</td>\n",
       "      <td>1</td>\n",
       "      <td>1</td>\n",
       "      <td>1</td>\n",
       "      <td>9</td>\n",
       "      <td>2</td>\n",
       "      <td>38915</td>\n",
       "      <td>5</td>\n",
       "      <td>0</td>\n",
       "    </tr>\n",
       "    <tr>\n",
       "      <th>6</th>\n",
       "      <td>2</td>\n",
       "      <td>1</td>\n",
       "      <td>2</td>\n",
       "      <td>1</td>\n",
       "      <td>1</td>\n",
       "      <td>1</td>\n",
       "      <td>26</td>\n",
       "      <td>18</td>\n",
       "      <td>77831</td>\n",
       "      <td>17</td>\n",
       "      <td>1</td>\n",
       "    </tr>\n",
       "    <tr>\n",
       "      <th>7</th>\n",
       "      <td>1</td>\n",
       "      <td>1</td>\n",
       "      <td>2</td>\n",
       "      <td>1</td>\n",
       "      <td>1</td>\n",
       "      <td>2</td>\n",
       "      <td>14</td>\n",
       "      <td>5</td>\n",
       "      <td>81319</td>\n",
       "      <td>4</td>\n",
       "      <td>0</td>\n",
       "    </tr>\n",
       "    <tr>\n",
       "      <th>8</th>\n",
       "      <td>2</td>\n",
       "      <td>1</td>\n",
       "      <td>1</td>\n",
       "      <td>1</td>\n",
       "      <td>1</td>\n",
       "      <td>1</td>\n",
       "      <td>39</td>\n",
       "      <td>21</td>\n",
       "      <td>68507</td>\n",
       "      <td>3</td>\n",
       "      <td>0</td>\n",
       "    </tr>\n",
       "    <tr>\n",
       "      <th>9</th>\n",
       "      <td>2</td>\n",
       "      <td>1</td>\n",
       "      <td>2</td>\n",
       "      <td>1</td>\n",
       "      <td>1</td>\n",
       "      <td>1</td>\n",
       "      <td>20</td>\n",
       "      <td>16</td>\n",
       "      <td>37752</td>\n",
       "      <td>6</td>\n",
       "      <td>0</td>\n",
       "    </tr>\n",
       "  </tbody>\n",
       "</table>\n",
       "</div>"
      ],
      "text/plain": [
       "   Age  Accessibility  EdLevel  Employment  MentalHealth  MainBranch  \\\n",
       "0    1              1        2           1             1           1   \n",
       "1    1              1        1           1             1           1   \n",
       "2    1              1        2           1             1           1   \n",
       "3    1              1        1           1             1           1   \n",
       "4    2              1        5           0             1           2   \n",
       "5    1              1        2           1             1           1   \n",
       "6    2              1        2           1             1           1   \n",
       "7    1              1        2           1             1           2   \n",
       "8    2              1        1           1             1           1   \n",
       "9    2              1        2           1             1           1   \n",
       "\n",
       "   YearsCode  YearsCodePro  PreviousSalary  ComputerSkills  Employed  \n",
       "0          7             4           51552               4         0  \n",
       "1         12             5           46482              12         1  \n",
       "2         15             6           77290               7         0  \n",
       "3          9             6           46135              13         0  \n",
       "4         40            30          160932               2         0  \n",
       "5          9             2           38915               5         0  \n",
       "6         26            18           77831              17         1  \n",
       "7         14             5           81319               4         0  \n",
       "8         39            21           68507               3         0  \n",
       "9         20            16           37752               6         0  "
      ]
     },
     "execution_count": 4,
     "metadata": {},
     "output_type": "execute_result"
    }
   ],
   "source": [
    "df.head(10)"
   ]
  },
  {
   "cell_type": "code",
   "execution_count": 5,
   "metadata": {
    "execution": {
     "iopub.execute_input": "2023-10-21T11:54:32.157477Z",
     "iopub.status.busy": "2023-10-21T11:54:32.156903Z",
     "iopub.status.idle": "2023-10-21T11:54:32.175529Z",
     "shell.execute_reply": "2023-10-21T11:54:32.174468Z",
     "shell.execute_reply.started": "2023-10-21T11:54:32.157449Z"
    },
    "id": "X640sUph6Xef"
   },
   "outputs": [],
   "source": [
    "def split(df, train_split=0.8, val_split=0.1, test_split=0.1):\n",
    "    df_sample = df.sample(frac=1, random_state=12)\n",
    "    indices_or_sections = [int(train_split * len(df)), int((1 - val_split - test_split) * len(df))]\n",
    "    train, val, test = np.split(df_sample, indices_or_sections)\n",
    "    return train, val, test\n",
    "train, val, test=split(df, 0.9,0,0.1)\n",
    "train_x=train.drop(['Employed'], axis=1)\n",
    "train_y=train['Employed']"
   ]
  },
  {
   "cell_type": "code",
   "execution_count": null,
   "metadata": {
    "execution": {
     "iopub.execute_input": "2023-10-21T12:09:27.419123Z",
     "iopub.status.busy": "2023-10-21T12:09:27.418302Z",
     "iopub.status.idle": "2023-10-21T12:09:27.429422Z",
     "shell.execute_reply": "2023-10-21T12:09:27.428605Z",
     "shell.execute_reply.started": "2023-10-21T12:09:27.419095Z"
    },
    "id": "qcITO4v27Xp8"
   },
   "outputs": [],
   "source": [
    "model=tf.keras.Sequential([\n",
    "    tf.keras.layers.Dense(5, activation='relu'),\n",
    "    tf.keras.layers.Dense(10, activation='relu'),\n",
    "    tf.keras.layers.Dense(6, activation='relu'),\n",
    "    tf.keras.layers.Dense(2, activation='softmax')\n",
    "])"
   ]
  },
  {
   "cell_type": "code",
   "execution_count": 11,
   "metadata": {
    "colab": {
     "base_uri": "https://localhost:8080/"
    },
    "execution": {
     "iopub.execute_input": "2023-10-21T12:09:32.086000Z",
     "iopub.status.busy": "2023-10-21T12:09:32.085170Z",
     "iopub.status.idle": "2023-10-21T12:14:46.849525Z",
     "shell.execute_reply": "2023-10-21T12:14:46.848679Z",
     "shell.execute_reply.started": "2023-10-21T12:09:32.085975Z"
    },
    "id": "asJHL9UC7jPp",
    "outputId": "058127b8-f4e5-4e5e-c4fd-4859aec3ebda"
   },
   "outputs": [
    {
     "name": "stdout",
     "output_type": "stream",
     "text": [
      "Epoch 1/20\n",
      "1757/1757 - 23s - loss: 1.0521 - accuracy: 0.7642 - val_loss: 0.5219 - val_accuracy: 0.7365 - 23s/epoch - 13ms/step\n",
      "Epoch 2/20\n",
      "1757/1757 - 18s - loss: 0.4941 - accuracy: 0.7805 - val_loss: 0.4692 - val_accuracy: 0.7822 - 18s/epoch - 10ms/step\n",
      "Epoch 3/20\n",
      "1757/1757 - 18s - loss: 0.4909 - accuracy: 0.7722 - val_loss: 0.4988 - val_accuracy: 0.7836 - 18s/epoch - 10ms/step\n",
      "Epoch 4/20\n",
      "1757/1757 - 18s - loss: 0.4822 - accuracy: 0.7825 - val_loss: 0.5500 - val_accuracy: 0.7420 - 18s/epoch - 10ms/step\n",
      "Epoch 5/20\n",
      "1757/1757 - 18s - loss: 0.5235 - accuracy: 0.7473 - val_loss: 0.4742 - val_accuracy: 0.7713 - 18s/epoch - 10ms/step\n",
      "Epoch 6/20\n",
      "1757/1757 - 18s - loss: 0.5109 - accuracy: 0.7741 - val_loss: 0.4901 - val_accuracy: 0.7787 - 18s/epoch - 10ms/step\n",
      "Epoch 7/20\n",
      "1757/1757 - 18s - loss: 0.5005 - accuracy: 0.7701 - val_loss: 0.4713 - val_accuracy: 0.7802 - 18s/epoch - 10ms/step\n",
      "Epoch 8/20\n",
      "1757/1757 - 18s - loss: 0.4867 - accuracy: 0.7742 - val_loss: 0.4577 - val_accuracy: 0.7839 - 18s/epoch - 10ms/step\n",
      "Epoch 9/20\n",
      "1757/1757 - 18s - loss: 0.5815 - accuracy: 0.5157 - val_loss: 0.5827 - val_accuracy: 0.4628 - 18s/epoch - 10ms/step\n",
      "Epoch 10/20\n",
      "1757/1757 - 18s - loss: 0.6585 - accuracy: 0.5286 - val_loss: 0.6668 - val_accuracy: 0.5457 - 18s/epoch - 10ms/step\n",
      "Epoch 11/20\n",
      "1757/1757 - 18s - loss: 0.6226 - accuracy: 0.5777 - val_loss: 0.5969 - val_accuracy: 0.4636 - 18s/epoch - 10ms/step\n",
      "Epoch 12/20\n",
      "1757/1757 - 18s - loss: 0.6069 - accuracy: 0.5387 - val_loss: 0.5873 - val_accuracy: 0.6698 - 18s/epoch - 10ms/step\n",
      "Epoch 13/20\n",
      "1757/1757 - 18s - loss: 0.5099 - accuracy: 0.7707 - val_loss: 0.4773 - val_accuracy: 0.7816 - 18s/epoch - 10ms/step\n",
      "Epoch 14/20\n",
      "1757/1757 - 18s - loss: 0.4857 - accuracy: 0.7773 - val_loss: 0.4747 - val_accuracy: 0.7777 - 18s/epoch - 10ms/step\n",
      "Epoch 15/20\n",
      "1757/1757 - 18s - loss: 0.4784 - accuracy: 0.7787 - val_loss: 0.4963 - val_accuracy: 0.7831 - 18s/epoch - 10ms/step\n",
      "Epoch 16/20\n",
      "1757/1757 - 19s - loss: 0.4662 - accuracy: 0.7812 - val_loss: 0.5168 - val_accuracy: 0.7798 - 19s/epoch - 11ms/step\n",
      "Epoch 17/20\n",
      "1757/1757 - 18s - loss: 0.4887 - accuracy: 0.7780 - val_loss: 0.4496 - val_accuracy: 0.7860 - 18s/epoch - 10ms/step\n",
      "Epoch 18/20\n",
      "1757/1757 - 18s - loss: 0.4528 - accuracy: 0.7817 - val_loss: 0.4466 - val_accuracy: 0.7855 - 18s/epoch - 10ms/step\n",
      "Epoch 19/20\n",
      "1757/1757 - 18s - loss: 0.4588 - accuracy: 0.7813 - val_loss: 0.4595 - val_accuracy: 0.7864 - 18s/epoch - 10ms/step\n",
      "Epoch 20/20\n",
      "1757/1757 - 18s - loss: 0.4675 - accuracy: 0.7807 - val_loss: 0.4498 - val_accuracy: 0.7833 - 18s/epoch - 10ms/step\n"
     ]
    }
   ],
   "source": [
    "model.compile(\n",
    "    optimizer=tf.keras.optimizers.Adam(),\n",
    "    loss=tf.keras.losses.SparseCategoricalCrossentropy(),\n",
    "    metrics=['accuracy']\n",
    "    )\n",
    "col_train=['Age', 'Accessibility', 'EdLevel',\n",
    "       'YearsCode',\n",
    "       'ComputerSkills']\n",
    "history=model.fit(train_x[col_train], train_y,\n",
    "                  validation_split = 0.15, \n",
    "                  epochs=20,\n",
    "                  verbose=2\n",
    "                 )"
   ]
  },
  {
   "cell_type": "code",
   "execution_count": 8,
   "metadata": {
    "colab": {
     "base_uri": "https://localhost:8080/"
    },
    "execution": {
     "iopub.execute_input": "2023-10-21T12:14:46.851447Z",
     "iopub.status.busy": "2023-10-21T12:14:46.851019Z",
     "iopub.status.idle": "2023-10-21T12:14:47.092665Z",
     "shell.execute_reply": "2023-10-21T12:14:47.091817Z",
     "shell.execute_reply.started": "2023-10-21T12:14:46.851432Z"
    },
    "id": "8UuiKrs2AJm5",
    "outputId": "bf14c8d2-871c-485f-cbe9-df3596a7b2f9"
   },
   "outputs": [
    {
     "data": {
      "image/png": "[encoded data removed]",
      "text/plain": [
       "<Figure size 640x480 with 1 Axes>"
      ]
     },
     "metadata": {},
     "output_type": "display_data"
    },
    {
     "name": "stdout",
     "output_type": "stream",
     "text": [
      "\n"
     ]
    },
    {
     "data": {
      "image/png": "[encoded data removed]",
      "text/plain": [
       "<Figure size 640x480 with 1 Axes>"
      ]
     },
     "metadata": {},
     "output_type": "display_data"
    }
   ],
   "source": [
    "plt.plot(history.history['accuracy'])\n",
    "plt.plot(history.history['val_accuracy'])\n",
    "plt.title('model accuracy')\n",
    "plt.ylabel('accuracy')\n",
    "plt.xlabel('epoch')\n",
    "plt.legend(['train', 'val'], loc='upper left')\n",
    "plt.show()\n",
    "print()\n",
    "plt.plot(history.history[\"loss\"])\n",
    "plt.plot(history.history[\"val_loss\"])\n",
    "plt.title(\"model loss\")\n",
    "plt.xlabel(\"epoch\")\n",
    "plt.ylabel(\"loss\")\n",
    "plt.legend([\"train\", \"val\"], loc=\"upper left\")\n",
    "plt.show()"
   ]
  },
  {
   "cell_type": "code",
   "execution_count": 23,
   "metadata": {
    "colab": {
     "base_uri": "https://localhost:8080/"
    },
    "execution": {
     "iopub.execute_input": "2023-10-21T12:14:47.094230Z",
     "iopub.status.busy": "2023-10-21T12:14:47.093613Z",
     "iopub.status.idle": "2023-10-21T12:14:47.108103Z",
     "shell.execute_reply": "2023-10-21T12:14:47.107289Z",
     "shell.execute_reply.started": "2023-10-21T12:14:47.094213Z"
    },
    "id": "zmFgH6kWtc-P",
    "outputId": "28a6e4bf-d866-441f-dde9-1fc8e7b443b5"
   },
   "outputs": [
    {
     "name": "stdout",
     "output_type": "stream",
     "text": [
      "Model: \"sequential_3\"\n",
      "_________________________________________________________________\n",
      " Layer (type)                Output Shape              Param #   \n",
      "=================================================================\n",
      " dense_9 (Dense)             (None, 12)                132       \n",
      "                                                                 \n",
      " dense_10 (Dense)            (None, 10)                130       \n",
      "                                                                 \n",
      " dense_11 (Dense)            (None, 2)                 22        \n",
      "                                                                 \n",
      "=================================================================\n",
      "Total params: 284 (1.11 KB)\n",
      "Trainable params: 284 (1.11 KB)\n",
      "Non-trainable params: 0 (0.00 Byte)\n",
      "_________________________________________________________________\n"
     ]
    }
   ],
   "source": [
    "model.summary()"
   ]
  },
  {
   "cell_type": "code",
   "execution_count": null,
   "metadata": {},
   "outputs": [],
   "source": []
  }
 ],
 "metadata": {
  "colab": {
   "provenance": []
  },
  "kernelspec": {
   "display_name": "Python 3 (ipykernel)",
   "language": "python",
   "name": "python3"
  },
  "language_info": {
   "codemirror_mode": {
    "name": "ipython",
    "version": 3
   },
   "file_extension": ".py",
   "mimetype": "text/x-python",
   "name": "python",
   "nbconvert_exporter": "python",
   "pygments_lexer": "ipython3",
   "version": "3.10.12"
  },
  "widgets": {
   "application/vnd.jupyter.widget-state+json": {
    "state": {},
    "version_major": 2,
    "version_minor": 0
   }
  }
 },
 "nbformat": 4,
 "nbformat_minor": 4
}
