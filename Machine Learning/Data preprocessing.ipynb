{
 "cells": [
  {
   "cell_type": "code",
   "execution_count": 45,
   "id": "10eac336",
   "metadata": {},
   "outputs": [],
   "source": [
    "import pandas as pd\n",
    "from tensorflow.keras.preprocessing.text import Tokenizer"
   ]
  },
  {
   "cell_type": "code",
   "execution_count": 46,
   "id": "46a71add",
   "metadata": {},
   "outputs": [],
   "source": [
    "df=pd.read_excel('employment.xlsx')"
   ]
  },
  {
   "cell_type": "code",
   "execution_count": 47,
   "id": "7b41b233",
   "metadata": {},
   "outputs": [
    {
     "name": "stdout",
     "output_type": "stream",
     "text": [
      "   Unnamed: 0.1  Unnamed: 0  Age Accessibility        EdLevel  Employment  \\\n",
      "0             0           0  <35            No         Master           1   \n",
      "1             1           1  <35            No  Undergraduate           1   \n",
      "2             2           2  <35            No         Master           1   \n",
      "3             3           3  <35            No  Undergraduate           1   \n",
      "4             4           4  >35            No            PhD           0   \n",
      "\n",
      "  Gender MentalHealth MainBranch  YearsCode  YearsCodePro    Country  \\\n",
      "0    Man           No        Dev          7             4     Sweden   \n",
      "1    Man           No        Dev         12             5      Spain   \n",
      "2    Man           No        Dev         15             6    Germany   \n",
      "3    Man           No        Dev          9             6     Canada   \n",
      "4    Man           No     NotDev         40            30  Singapore   \n",
      "\n",
      "   PreviousSalary                                     HaveWorkedWith  \\\n",
      "0           51552                          C++;Python;Git;PostgreSQL   \n",
      "1           46482  Bash/Shell;HTML/CSS;JavaScript;Node.js;SQL;Typ...   \n",
      "2           77290             C;C++;Java;Perl;Ruby;Git;Ruby on Rails   \n",
      "3           46135  Bash/Shell;HTML/CSS;JavaScript;PHP;Ruby;SQL;Gi...   \n",
      "4          160932                                         C++;Python   \n",
      "\n",
      "   ComputerSkills  Employed  \n",
      "0               4         0  \n",
      "1              12         1  \n",
      "2               7         0  \n",
      "3              13         0  \n",
      "4               2         0  \n"
     ]
    }
   ],
   "source": [
    "print(df.head())"
   ]
  },
  {
   "cell_type": "code",
   "execution_count": 74,
   "id": "0506fbbf",
   "metadata": {},
   "outputs": [
    {
     "name": "stdout",
     "output_type": "stream",
     "text": [
      "['<35' '>35']\n",
      "['No' 'Yes']\n",
      "['Master' 'Undergraduate' 'PhD' 'Other' 'NoHigherEd']\n",
      "[1 0]\n",
      "['No' 'Yes']\n",
      "['Dev' 'NotDev']\n",
      "[ 7 12 15  9 40 26 14 39 20  4  6 19  8 22 34 21  5 25 24 10 31 18 38 13\n",
      "  3 17 27  1 30  2 41 42 16 35 23 28 37 44 11 36 45 50 33 43 29 32 47 48\n",
      "  0 46 49]\n",
      "[ 4  5  6 30  2 18 21 16 10  0  3 15  1 12  8  7 17 14 26 25 34 11 24 22\n",
      " 13  9 20 31 23 39 27 19 35 33 50 37 43 40 29 38 32 42 28 36 44 47 45 41\n",
      " 49 48 46]\n",
      "[ 51552  46482  77290 ...  35619  43324 110245]\n",
      "['C++;Python;Git;PostgreSQL'\n",
      " 'Bash/Shell;HTML/CSS;JavaScript;Node.js;SQL;TypeScript;Git;Express;React.js;Vue.js;AWS;PostgreSQL'\n",
      " 'C;C++;Java;Perl;Ruby;Git;Ruby on Rails' ...\n",
      " 'C#;HTML/CSS;Java;JavaScript;npm;ASP.NET Core ;AWS;DigitalOcean;Managed Hosting;MySQL;PostgreSQL'\n",
      " 'HTML/CSS;JavaScript;TypeScript;Docker;Express;Node.js;React.js;AWS;Firebase;Heroku;MongoDB;PostgreSQL'\n",
      " 'C#;HTML/CSS;JavaScript;SQL;TypeScript;npm;Yarn;Angular;ASP.NET;jQuery;React.js;AWS;DynamoDB;Microsoft SQL Server;SQLite']\n",
      "[  4  12   7  13   2   5  17   3   6  18  16  25  14  39   8  24  21  10\n",
      "  11  33  26  19  23  20  28  22  15   1   9  32  29  30  36  27  53  43\n",
      "  31  40   0  41  38  44  35  42  34  37  78  51  47  63  50  49  62  48\n",
      "  52  54  45  55  46  68  91  61  57  90  58  65 105  67  56  79  64 101\n",
      " 107]\n",
      "[0 1]\n"
     ]
    }
   ],
   "source": [
    "df_drop=df.drop(['Unnamed: 0.1', 'Unnamed: 0'], axis=1)\n",
    "#We dropped Gender and Country column since it's not relevant and may discriminate groups\n",
    "df_drop=df_drop.drop(['Gender','Country'], axis=1)\n",
    "for col in df_drop.columns:\n",
    "    print(df_drop[col].unique())"
   ]
  },
  {
   "cell_type": "code",
   "execution_count": 75,
   "id": "ccad854d",
   "metadata": {
    "scrolled": true
   },
   "outputs": [
    {
     "name": "stdout",
     "output_type": "stream",
     "text": [
      "{'no': 1, 'yes': 2}\n",
      "{'undergraduate': 1, 'master': 2, 'other': 3, 'nohighered': 4, 'phd': 5}\n",
      "{'no': 1, 'yes': 2}\n",
      "{'dev': 1, 'notdev': 2}\n"
     ]
    }
   ],
   "source": [
    "columns=['Accessibility', 'EdLevel', 'MentalHealth', 'MainBranch']\n",
    "for col in columns:\n",
    "    tokenizer=Tokenizer()\n",
    "    tokenizer.fit_on_texts(df_drop[col])\n",
    "    df_drop[col]=df_drop[col].str.lower()\n",
    "    df_drop[col].replace(tokenizer.word_index, inplace=True)\n",
    "    print(tokenizer.word_index)"
   ]
  },
  {
   "cell_type": "code",
   "execution_count": 78,
   "id": "06fb440b",
   "metadata": {},
   "outputs": [
    {
     "name": "stdout",
     "output_type": "stream",
     "text": [
      "{'l35': 1, 'm35': 2}\n"
     ]
    }
   ],
   "source": [
    "df_drop.loc[df_drop[\"Age\"]==\">35\", \"Age\"]=\"m35\"\n",
    "df_drop.loc[df_drop[\"Age\"]==\"<35\", \"Age\"]=\"l35\"\n",
    "tokenizer=Tokenizer()\n",
    "tokenizer.fit_on_texts(df_drop['Age'])\n",
    "df_drop[\"Age\"].replace(tokenizer.word_index, inplace=True)\n",
    "print(tokenizer.word_index)"
   ]
  },
  {
   "cell_type": "code",
   "execution_count": 80,
   "id": "2c10d9dd",
   "metadata": {},
   "outputs": [
    {
     "name": "stdout",
     "output_type": "stream",
     "text": [
      "   Age  Accessibility  EdLevel  Employment  MentalHealth  MainBranch  \\\n",
      "0    1              1        2           1             1           1   \n",
      "1    1              1        1           1             1           1   \n",
      "2    1              1        2           1             1           1   \n",
      "3    1              1        1           1             1           1   \n",
      "4    2              1        5           0             1           2   \n",
      "\n",
      "   YearsCode  YearsCodePro  PreviousSalary  \\\n",
      "0          7             4           51552   \n",
      "1         12             5           46482   \n",
      "2         15             6           77290   \n",
      "3          9             6           46135   \n",
      "4         40            30          160932   \n",
      "\n",
      "                                      HaveWorkedWith  ComputerSkills  Employed  \n",
      "0                          C++;Python;Git;PostgreSQL               4         0  \n",
      "1  Bash/Shell;HTML/CSS;JavaScript;Node.js;SQL;Typ...              12         1  \n",
      "2             C;C++;Java;Perl;Ruby;Git;Ruby on Rails               7         0  \n",
      "3  Bash/Shell;HTML/CSS;JavaScript;PHP;Ruby;SQL;Gi...              13         0  \n",
      "4                                         C++;Python               2         0  \n"
     ]
    }
   ],
   "source": [
    "print(df_drop.head())"
   ]
  },
  {
   "cell_type": "code",
   "execution_count": 82,
   "id": "2641d8cb",
   "metadata": {
    "collapsed": true
   },
   "outputs": [
    {
     "ename": "AttributeError",
     "evalue": "module 'pandas' has no attribute 'to_excel'",
     "output_type": "error",
     "traceback": [
      "\u001b[1;31m---------------------------------------------------------------------------\u001b[0m",
      "\u001b[1;31mAttributeError\u001b[0m                            Traceback (most recent call last)",
      "Cell \u001b[1;32mIn[82], line 1\u001b[0m\n\u001b[1;32m----> 1\u001b[0m \u001b[43mpd\u001b[49m\u001b[38;5;241;43m.\u001b[39;49m\u001b[43mto_excel\u001b[49m(df_drop, \u001b[38;5;124m\"\u001b[39m\u001b[38;5;124mpreprocessed.xlsx\u001b[39m\u001b[38;5;124m\"\u001b[39m)\n",
      "\u001b[1;31mAttributeError\u001b[0m: module 'pandas' has no attribute 'to_excel'"
     ]
    }
   ],
   "source": [
    "df_drop.to_excel(\"preprocessed.xlsx\")"
   ]
  }
 ],
 "metadata": {
  "kernelspec": {
   "display_name": "Python 3 (ipykernel)",
   "language": "python",
   "name": "python3"
  },
  "language_info": {
   "codemirror_mode": {
    "name": "ipython",
    "version": 3
   },
   "file_extension": ".py",
   "mimetype": "text/x-python",
   "name": "python",
   "nbconvert_exporter": "python",
   "pygments_lexer": "ipython3",
   "version": "3.11.4"
  }
 },
 "nbformat": 4,
 "nbformat_minor": 5
}
