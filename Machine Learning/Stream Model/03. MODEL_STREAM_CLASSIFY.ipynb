{
 "cells": [
  {
   "cell_type": "code",
   "execution_count": 8,
   "metadata": {},
   "outputs": [],
   "source": [
    "import tensorflow as tf\n",
    "import pandas as pd\n",
    "from sklearn.model_selection import train_test_split\n",
    "import matplotlib.pyplot as plt"
   ]
  },
  {
   "cell_type": "code",
   "execution_count": 2,
   "metadata": {},
   "outputs": [
    {
     "data": {
      "text/html": [
       "<div>\n",
       "<style scoped>\n",
       "    .dataframe tbody tr th:only-of-type {\n",
       "        vertical-align: middle;\n",
       "    }\n",
       "\n",
       "    .dataframe tbody tr th {\n",
       "        vertical-align: top;\n",
       "    }\n",
       "\n",
       "    .dataframe thead th {\n",
       "        text-align: right;\n",
       "    }\n",
       "</style>\n",
       "<table border=\"1\" class=\"dataframe\">\n",
       "  <thead>\n",
       "    <tr style=\"text-align: right;\">\n",
       "      <th></th>\n",
       "      <th>STREAM_PLACEMENT_DESC</th>\n",
       "      <th>GENDER</th>\n",
       "      <th>HOMELESS</th>\n",
       "      <th>PWD</th>\n",
       "      <th>CALD</th>\n",
       "      <th>REFUGEE</th>\n",
       "      <th>AGE_GROUP</th>\n",
       "      <th>UE_GROUP</th>\n",
       "      <th>EDUCATION_ADJ</th>\n",
       "    </tr>\n",
       "  </thead>\n",
       "  <tbody>\n",
       "    <tr>\n",
       "      <th>0</th>\n",
       "      <td>0</td>\n",
       "      <td>2</td>\n",
       "      <td>0</td>\n",
       "      <td>0</td>\n",
       "      <td>1</td>\n",
       "      <td>0</td>\n",
       "      <td>6</td>\n",
       "      <td>1</td>\n",
       "      <td>9</td>\n",
       "    </tr>\n",
       "    <tr>\n",
       "      <th>1</th>\n",
       "      <td>1</td>\n",
       "      <td>2</td>\n",
       "      <td>1</td>\n",
       "      <td>0</td>\n",
       "      <td>0</td>\n",
       "      <td>0</td>\n",
       "      <td>3</td>\n",
       "      <td>3</td>\n",
       "      <td>5</td>\n",
       "    </tr>\n",
       "    <tr>\n",
       "      <th>2</th>\n",
       "      <td>1</td>\n",
       "      <td>1</td>\n",
       "      <td>0</td>\n",
       "      <td>1</td>\n",
       "      <td>0</td>\n",
       "      <td>0</td>\n",
       "      <td>4</td>\n",
       "      <td>4</td>\n",
       "      <td>2</td>\n",
       "    </tr>\n",
       "    <tr>\n",
       "      <th>3</th>\n",
       "      <td>1</td>\n",
       "      <td>2</td>\n",
       "      <td>1</td>\n",
       "      <td>1</td>\n",
       "      <td>0</td>\n",
       "      <td>0</td>\n",
       "      <td>4</td>\n",
       "      <td>3</td>\n",
       "      <td>3</td>\n",
       "    </tr>\n",
       "    <tr>\n",
       "      <th>4</th>\n",
       "      <td>0</td>\n",
       "      <td>2</td>\n",
       "      <td>0</td>\n",
       "      <td>0</td>\n",
       "      <td>0</td>\n",
       "      <td>0</td>\n",
       "      <td>1</td>\n",
       "      <td>1</td>\n",
       "      <td>3</td>\n",
       "    </tr>\n",
       "    <tr>\n",
       "      <th>5</th>\n",
       "      <td>1</td>\n",
       "      <td>1</td>\n",
       "      <td>0</td>\n",
       "      <td>1</td>\n",
       "      <td>0</td>\n",
       "      <td>0</td>\n",
       "      <td>2</td>\n",
       "      <td>4</td>\n",
       "      <td>4</td>\n",
       "    </tr>\n",
       "    <tr>\n",
       "      <th>6</th>\n",
       "      <td>0</td>\n",
       "      <td>2</td>\n",
       "      <td>0</td>\n",
       "      <td>0</td>\n",
       "      <td>0</td>\n",
       "      <td>0</td>\n",
       "      <td>3</td>\n",
       "      <td>1</td>\n",
       "      <td>4</td>\n",
       "    </tr>\n",
       "    <tr>\n",
       "      <th>7</th>\n",
       "      <td>1</td>\n",
       "      <td>1</td>\n",
       "      <td>1</td>\n",
       "      <td>1</td>\n",
       "      <td>0</td>\n",
       "      <td>0</td>\n",
       "      <td>3</td>\n",
       "      <td>4</td>\n",
       "      <td>2</td>\n",
       "    </tr>\n",
       "    <tr>\n",
       "      <th>8</th>\n",
       "      <td>1</td>\n",
       "      <td>1</td>\n",
       "      <td>0</td>\n",
       "      <td>1</td>\n",
       "      <td>0</td>\n",
       "      <td>0</td>\n",
       "      <td>5</td>\n",
       "      <td>2</td>\n",
       "      <td>3</td>\n",
       "    </tr>\n",
       "    <tr>\n",
       "      <th>9</th>\n",
       "      <td>0</td>\n",
       "      <td>1</td>\n",
       "      <td>0</td>\n",
       "      <td>1</td>\n",
       "      <td>0</td>\n",
       "      <td>0</td>\n",
       "      <td>4</td>\n",
       "      <td>2</td>\n",
       "      <td>7</td>\n",
       "    </tr>\n",
       "  </tbody>\n",
       "</table>\n",
       "</div>"
      ],
      "text/plain": [
       "   STREAM_PLACEMENT_DESC  GENDER  HOMELESS  PWD  CALD  REFUGEE  AGE_GROUP  \\\n",
       "0                      0       2         0    0     1        0          6   \n",
       "1                      1       2         1    0     0        0          3   \n",
       "2                      1       1         0    1     0        0          4   \n",
       "3                      1       2         1    1     0        0          4   \n",
       "4                      0       2         0    0     0        0          1   \n",
       "5                      1       1         0    1     0        0          2   \n",
       "6                      0       2         0    0     0        0          3   \n",
       "7                      1       1         1    1     0        0          3   \n",
       "8                      1       1         0    1     0        0          5   \n",
       "9                      0       1         0    1     0        0          4   \n",
       "\n",
       "   UE_GROUP  EDUCATION_ADJ  \n",
       "0         1              9  \n",
       "1         3              5  \n",
       "2         4              2  \n",
       "3         3              3  \n",
       "4         1              3  \n",
       "5         4              4  \n",
       "6         1              4  \n",
       "7         4              2  \n",
       "8         2              3  \n",
       "9         2              7  "
      ]
     },
     "execution_count": 2,
     "metadata": {},
     "output_type": "execute_result"
    }
   ],
   "source": [
    "data = pd.read_csv(\"stream_classify_preprocessing.csv\", index_col=0)\n",
    "data.head(10)"
   ]
  },
  {
   "cell_type": "code",
   "execution_count": 3,
   "metadata": {},
   "outputs": [],
   "source": [
    "data_x = data[[\"GENDER\",\"HOMELESS\",\"PWD\",\"CALD\",\"REFUGEE\",\"AGE_GROUP\",\"UE_GROUP\",\"EDUCATION_ADJ\"]]\n",
    "data_y = data[[\"STREAM_PLACEMENT_DESC\"]]"
   ]
  },
  {
   "cell_type": "code",
   "execution_count": 20,
   "metadata": {},
   "outputs": [
    {
     "name": "stdout",
     "output_type": "stream",
     "text": [
      "Data before splitting: 485972\n",
      "Train data: 388777\n",
      "Validation data: 97195\n"
     ]
    }
   ],
   "source": [
    "x_train, x_valid, y_train, y_valid = train_test_split(data_x, data_y, test_size=0.2, random_state=1)\n",
    "\n",
    "print(f\"Data before splitting: {len(data_x)}\")\n",
    "print(f\"Train data: {len(x_train)}\")\n",
    "print(f\"Validation data: {len(x_valid)}\")"
   ]
  },
  {
   "cell_type": "code",
   "execution_count": 11,
   "metadata": {},
   "outputs": [],
   "source": [
    "EPOCH = 15\n",
    "LEARNING_RATE = 1e-3"
   ]
  },
  {
   "cell_type": "code",
   "execution_count": 22,
   "metadata": {},
   "outputs": [
    {
     "name": "stdout",
     "output_type": "stream",
     "text": [
      "Epoch 1/15\n",
      "380/380 [==============================] - 2s 2ms/step - loss: 0.4830 - accuracy: 0.7626 - val_loss: 0.4464 - val_accuracy: 0.7829\n",
      "Epoch 2/15\n",
      "380/380 [==============================] - 1s 2ms/step - loss: 0.4439 - accuracy: 0.7816 - val_loss: 0.4410 - val_accuracy: 0.7837\n",
      "Epoch 3/15\n",
      "380/380 [==============================] - 1s 2ms/step - loss: 0.4411 - accuracy: 0.7836 - val_loss: 0.4392 - val_accuracy: 0.7847\n",
      "Epoch 4/15\n",
      "380/380 [==============================] - 1s 2ms/step - loss: 0.4396 - accuracy: 0.7843 - val_loss: 0.4384 - val_accuracy: 0.7853\n",
      "Epoch 5/15\n",
      "380/380 [==============================] - 1s 2ms/step - loss: 0.4389 - accuracy: 0.7845 - val_loss: 0.4374 - val_accuracy: 0.7854\n",
      "Epoch 6/15\n",
      "380/380 [==============================] - 1s 2ms/step - loss: 0.4383 - accuracy: 0.7849 - val_loss: 0.4383 - val_accuracy: 0.7843\n",
      "Epoch 7/15\n",
      "380/380 [==============================] - 1s 2ms/step - loss: 0.4380 - accuracy: 0.7851 - val_loss: 0.4368 - val_accuracy: 0.7858\n",
      "Epoch 8/15\n",
      "380/380 [==============================] - 1s 2ms/step - loss: 0.4379 - accuracy: 0.7848 - val_loss: 0.4366 - val_accuracy: 0.7860\n",
      "Epoch 9/15\n",
      "380/380 [==============================] - 1s 2ms/step - loss: 0.4377 - accuracy: 0.7852 - val_loss: 0.4375 - val_accuracy: 0.7852\n",
      "Epoch 10/15\n",
      "380/380 [==============================] - 1s 2ms/step - loss: 0.4375 - accuracy: 0.7856 - val_loss: 0.4366 - val_accuracy: 0.7860\n",
      "Epoch 11/15\n",
      "380/380 [==============================] - 1s 2ms/step - loss: 0.4375 - accuracy: 0.7859 - val_loss: 0.4362 - val_accuracy: 0.7863\n",
      "Epoch 12/15\n",
      "380/380 [==============================] - 1s 2ms/step - loss: 0.4375 - accuracy: 0.7855 - val_loss: 0.4363 - val_accuracy: 0.7855\n",
      "Epoch 13/15\n",
      "380/380 [==============================] - 1s 2ms/step - loss: 0.4374 - accuracy: 0.7856 - val_loss: 0.4372 - val_accuracy: 0.7851\n",
      "Epoch 14/15\n",
      "380/380 [==============================] - 1s 2ms/step - loss: 0.4373 - accuracy: 0.7856 - val_loss: 0.4359 - val_accuracy: 0.7863\n",
      "Epoch 15/15\n",
      "380/380 [==============================] - 1s 2ms/step - loss: 0.4371 - accuracy: 0.7858 - val_loss: 0.4363 - val_accuracy: 0.7863\n"
     ]
    }
   ],
   "source": [
    "tf.keras.backend.clear_session()\n",
    "\n",
    "model = tf.keras.Sequential([\n",
    "    tf.keras.layers.Dense(8, activation=\"relu\"),\n",
    "    tf.keras.layers.Dense(16, activation=\"relu\"),\n",
    "    tf.keras.layers.Dense(8, activation=\"relu\"),\n",
    "    tf.keras.layers.Dense(4, activation=\"relu\"),\n",
    "    tf.keras.layers.Dense(1, activation=\"sigmoid\")\n",
    "])\n",
    "\n",
    "model.compile(optimizer=tf.keras.optimizers.Adam(), \n",
    "              loss=tf.keras.losses.BinaryCrossentropy(),\n",
    "              metrics=[\"accuracy\"])\n",
    "history = model.fit(x_train, y_train, epochs=EPOCH, validation_data=(x_valid, y_valid), batch_size=1024)"
   ]
  },
  {
   "cell_type": "code",
   "execution_count": 23,
   "metadata": {},
   "outputs": [
    {
     "data": {
      "image/png": "[encoded data removed]",
      "text/plain": [
       "<Figure size 640x480 with 1 Axes>"
      ]
     },
     "metadata": {},
     "output_type": "display_data"
    },
    {
     "data": {
      "image/png": "[encoded data removed]",
      "text/plain": [
       "<Figure size 640x480 with 1 Axes>"
      ]
     },
     "metadata": {},
     "output_type": "display_data"
    }
   ],
   "source": [
    "acc = history.history['accuracy']\n",
    "val_acc = history.history['val_accuracy']\n",
    "loss = history.history['loss']\n",
    "val_loss = history.history['val_loss']\n",
    "\n",
    "epochs = range(len(acc))\n",
    "\n",
    "plt.plot(epochs, acc, 'r', label='Training accuracy')\n",
    "plt.plot(epochs, val_acc, 'b', label='Validation accuracy')\n",
    "plt.title('Training and validation accuracy')\n",
    "plt.legend()\n",
    "plt.figure()\n",
    "\n",
    "plt.plot(epochs, loss, 'r', label='Training Loss')\n",
    "plt.plot(epochs, val_loss, 'b', label='Validation Loss')\n",
    "plt.title('Training and validation loss')\n",
    "plt.legend()\n",
    "\n",
    "plt.show()"
   ]
  },
  {
   "cell_type": "code",
   "execution_count": 29,
   "metadata": {},
   "outputs": [
    {
     "name": "stdout",
     "output_type": "stream",
     "text": [
      "1/1 [==============================] - 0s 38ms/step\n"
     ]
    },
    {
     "data": {
      "text/plain": [
       "array([[0.64649224]], dtype=float32)"
      ]
     },
     "execution_count": 29,
     "metadata": {},
     "output_type": "execute_result"
    }
   ],
   "source": [
    "# model.predict([[2,0,0,1,0,6,1,9]]) #0\n",
    "# model.predict([[2,1,0,0,0,3,3,5]]) #harusnya 1\n",
    "# model.predict([[1,0,1,0,0,4,4,2]]) #1\n",
    "model.predict([[2,1,1,0,0,4,3,3]]) #1"
   ]
  },
  {
   "cell_type": "code",
   "execution_count": 30,
   "metadata": {},
   "outputs": [
    {
     "name": "stderr",
     "output_type": "stream",
     "text": [
      "c:\\Users\\vince\\AppData\\Local\\Programs\\Python\\Python39\\lib\\site-packages\\keras\\src\\engine\\training.py:3000: UserWarning: You are saving your model as an HDF5 file via `model.save()`. This file format is considered legacy. We recommend using instead the native Keras format, e.g. `model.save('my_model.keras')`.\n",
      "  saving_api.save_model(\n"
     ]
    }
   ],
   "source": [
    "saved_model = \"model_stream_classify.h5\"\n",
    "model.save(saved_model)"
   ]
  }
 ],
 "metadata": {
  "kernelspec": {
   "display_name": "Python 3",
   "language": "python",
   "name": "python3"
  },
  "language_info": {
   "codemirror_mode": {
    "name": "ipython",
    "version": 3
   },
   "file_extension": ".py",
   "mimetype": "text/x-python",
   "name": "python",
   "nbconvert_exporter": "python",
   "pygments_lexer": "ipython3",
   "version": "3.9.2"
  }
 },
 "nbformat": 4,
 "nbformat_minor": 2
}
