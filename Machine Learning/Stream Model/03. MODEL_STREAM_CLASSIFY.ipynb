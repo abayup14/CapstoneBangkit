{
 "cells": [
  {
   "cell_type": "code",
   "execution_count": 2,
   "metadata": {},
   "outputs": [],
   "source": [
    "import tensorflow as tf\n",
    "import pandas as pd\n",
    "from sklearn.model_selection import train_test_split\n",
    "import matplotlib.pyplot as plt"
   ]
  },
  {
   "cell_type": "code",
   "execution_count": 3,
   "metadata": {},
   "outputs": [
    {
     "data": {
      "text/html": [
       "<div>\n",
       "<style scoped>\n",
       "    .dataframe tbody tr th:only-of-type {\n",
       "        vertical-align: middle;\n",
       "    }\n",
       "\n",
       "    .dataframe tbody tr th {\n",
       "        vertical-align: top;\n",
       "    }\n",
       "\n",
       "    .dataframe thead th {\n",
       "        text-align: right;\n",
       "    }\n",
       "</style>\n",
       "<table border=\"1\" class=\"dataframe\">\n",
       "  <thead>\n",
       "    <tr style=\"text-align: right;\">\n",
       "      <th></th>\n",
       "      <th>STREAM_PLACEMENT_DESC</th>\n",
       "      <th>GENDER</th>\n",
       "      <th>HOMELESS</th>\n",
       "      <th>PWD</th>\n",
       "      <th>CALD</th>\n",
       "      <th>REFUGEE</th>\n",
       "      <th>AGE_GROUP</th>\n",
       "      <th>UE_GROUP</th>\n",
       "      <th>EDUCATION_ADJ</th>\n",
       "    </tr>\n",
       "  </thead>\n",
       "  <tbody>\n",
       "    <tr>\n",
       "      <th>0</th>\n",
       "      <td>0</td>\n",
       "      <td>2</td>\n",
       "      <td>0</td>\n",
       "      <td>0</td>\n",
       "      <td>1</td>\n",
       "      <td>0</td>\n",
       "      <td>6</td>\n",
       "      <td>1</td>\n",
       "      <td>9</td>\n",
       "    </tr>\n",
       "    <tr>\n",
       "      <th>1</th>\n",
       "      <td>1</td>\n",
       "      <td>2</td>\n",
       "      <td>1</td>\n",
       "      <td>0</td>\n",
       "      <td>0</td>\n",
       "      <td>0</td>\n",
       "      <td>3</td>\n",
       "      <td>3</td>\n",
       "      <td>5</td>\n",
       "    </tr>\n",
       "    <tr>\n",
       "      <th>2</th>\n",
       "      <td>1</td>\n",
       "      <td>1</td>\n",
       "      <td>0</td>\n",
       "      <td>1</td>\n",
       "      <td>0</td>\n",
       "      <td>0</td>\n",
       "      <td>4</td>\n",
       "      <td>4</td>\n",
       "      <td>2</td>\n",
       "    </tr>\n",
       "    <tr>\n",
       "      <th>3</th>\n",
       "      <td>1</td>\n",
       "      <td>2</td>\n",
       "      <td>1</td>\n",
       "      <td>1</td>\n",
       "      <td>0</td>\n",
       "      <td>0</td>\n",
       "      <td>4</td>\n",
       "      <td>3</td>\n",
       "      <td>3</td>\n",
       "    </tr>\n",
       "    <tr>\n",
       "      <th>4</th>\n",
       "      <td>0</td>\n",
       "      <td>2</td>\n",
       "      <td>0</td>\n",
       "      <td>0</td>\n",
       "      <td>0</td>\n",
       "      <td>0</td>\n",
       "      <td>1</td>\n",
       "      <td>1</td>\n",
       "      <td>3</td>\n",
       "    </tr>\n",
       "    <tr>\n",
       "      <th>5</th>\n",
       "      <td>1</td>\n",
       "      <td>1</td>\n",
       "      <td>0</td>\n",
       "      <td>1</td>\n",
       "      <td>0</td>\n",
       "      <td>0</td>\n",
       "      <td>2</td>\n",
       "      <td>4</td>\n",
       "      <td>4</td>\n",
       "    </tr>\n",
       "    <tr>\n",
       "      <th>6</th>\n",
       "      <td>0</td>\n",
       "      <td>2</td>\n",
       "      <td>0</td>\n",
       "      <td>0</td>\n",
       "      <td>0</td>\n",
       "      <td>0</td>\n",
       "      <td>3</td>\n",
       "      <td>1</td>\n",
       "      <td>4</td>\n",
       "    </tr>\n",
       "    <tr>\n",
       "      <th>7</th>\n",
       "      <td>1</td>\n",
       "      <td>1</td>\n",
       "      <td>1</td>\n",
       "      <td>1</td>\n",
       "      <td>0</td>\n",
       "      <td>0</td>\n",
       "      <td>3</td>\n",
       "      <td>4</td>\n",
       "      <td>2</td>\n",
       "    </tr>\n",
       "    <tr>\n",
       "      <th>8</th>\n",
       "      <td>1</td>\n",
       "      <td>1</td>\n",
       "      <td>0</td>\n",
       "      <td>1</td>\n",
       "      <td>0</td>\n",
       "      <td>0</td>\n",
       "      <td>5</td>\n",
       "      <td>2</td>\n",
       "      <td>3</td>\n",
       "    </tr>\n",
       "    <tr>\n",
       "      <th>9</th>\n",
       "      <td>0</td>\n",
       "      <td>1</td>\n",
       "      <td>0</td>\n",
       "      <td>1</td>\n",
       "      <td>0</td>\n",
       "      <td>0</td>\n",
       "      <td>4</td>\n",
       "      <td>2</td>\n",
       "      <td>7</td>\n",
       "    </tr>\n",
       "  </tbody>\n",
       "</table>\n",
       "</div>"
      ],
      "text/plain": [
       "   STREAM_PLACEMENT_DESC  GENDER  HOMELESS  PWD  CALD  REFUGEE  AGE_GROUP  \\\n",
       "0                      0       2         0    0     1        0          6   \n",
       "1                      1       2         1    0     0        0          3   \n",
       "2                      1       1         0    1     0        0          4   \n",
       "3                      1       2         1    1     0        0          4   \n",
       "4                      0       2         0    0     0        0          1   \n",
       "5                      1       1         0    1     0        0          2   \n",
       "6                      0       2         0    0     0        0          3   \n",
       "7                      1       1         1    1     0        0          3   \n",
       "8                      1       1         0    1     0        0          5   \n",
       "9                      0       1         0    1     0        0          4   \n",
       "\n",
       "   UE_GROUP  EDUCATION_ADJ  \n",
       "0         1              9  \n",
       "1         3              5  \n",
       "2         4              2  \n",
       "3         3              3  \n",
       "4         1              3  \n",
       "5         4              4  \n",
       "6         1              4  \n",
       "7         4              2  \n",
       "8         2              3  \n",
       "9         2              7  "
      ]
     },
     "execution_count": 3,
     "metadata": {},
     "output_type": "execute_result"
    }
   ],
   "source": [
    "data = pd.read_csv(\"stream_classify_preprocessing.csv\", index_col=0)\n",
    "data.head(10)"
   ]
  },
  {
   "cell_type": "code",
   "execution_count": 4,
   "metadata": {},
   "outputs": [],
   "source": [
    "data_x = data[[\"GENDER\",\"HOMELESS\",\"PWD\",\"CALD\",\"REFUGEE\",\"AGE_GROUP\",\"UE_GROUP\",\"EDUCATION_ADJ\"]]\n",
    "data_y = data[[\"STREAM_PLACEMENT_DESC\"]]"
   ]
  },
  {
   "cell_type": "code",
   "execution_count": 5,
   "metadata": {},
   "outputs": [
    {
     "name": "stdout",
     "output_type": "stream",
     "text": [
      "Data before splitting: 485972\n",
      "Train data: 388777\n",
      "Validation data: 97195\n"
     ]
    }
   ],
   "source": [
    "x_train, x_valid, y_train, y_valid = train_test_split(data_x, data_y, test_size=0.2, random_state=1)\n",
    "\n",
    "print(f\"Data before splitting: {len(data_x)}\")\n",
    "print(f\"Train data: {len(x_train)}\")\n",
    "print(f\"Validation data: {len(x_valid)}\")"
   ]
  },
  {
   "cell_type": "code",
   "execution_count": 6,
   "metadata": {},
   "outputs": [],
   "source": [
    "EPOCH = 15\n",
    "LEARNING_RATE = 1e-3"
   ]
  },
  {
   "cell_type": "code",
   "execution_count": 7,
   "metadata": {},
   "outputs": [
    {
     "name": "stdout",
     "output_type": "stream",
     "text": [
      "Epoch 1/15\n"
     ]
    },
    {
     "name": "stderr",
     "output_type": "stream",
     "text": [
      "2023-12-16 05:04:42.419954: I tensorflow/compiler/xla/stream_executor/cuda/cuda_gpu_executor.cc:880] could not open file to read NUMA node: /sys/bus/pci/devices/0000:01:00.0/numa_node\n",
      "Your kernel may have been built without NUMA support.\n",
      "2023-12-16 05:04:42.463277: I tensorflow/compiler/xla/stream_executor/cuda/cuda_gpu_executor.cc:880] could not open file to read NUMA node: /sys/bus/pci/devices/0000:01:00.0/numa_node\n",
      "Your kernel may have been built without NUMA support.\n",
      "2023-12-16 05:04:42.463345: I tensorflow/compiler/xla/stream_executor/cuda/cuda_gpu_executor.cc:880] could not open file to read NUMA node: /sys/bus/pci/devices/0000:01:00.0/numa_node\n",
      "Your kernel may have been built without NUMA support.\n",
      "2023-12-16 05:04:42.467264: I tensorflow/compiler/xla/stream_executor/cuda/cuda_gpu_executor.cc:880] could not open file to read NUMA node: /sys/bus/pci/devices/0000:01:00.0/numa_node\n",
      "Your kernel may have been built without NUMA support.\n",
      "2023-12-16 05:04:42.467331: I tensorflow/compiler/xla/stream_executor/cuda/cuda_gpu_executor.cc:880] could not open file to read NUMA node: /sys/bus/pci/devices/0000:01:00.0/numa_node\n",
      "Your kernel may have been built without NUMA support.\n",
      "2023-12-16 05:04:42.467357: I tensorflow/compiler/xla/stream_executor/cuda/cuda_gpu_executor.cc:880] could not open file to read NUMA node: /sys/bus/pci/devices/0000:01:00.0/numa_node\n",
      "Your kernel may have been built without NUMA support.\n",
      "2023-12-16 05:04:42.585946: I tensorflow/compiler/xla/stream_executor/cuda/cuda_gpu_executor.cc:880] could not open file to read NUMA node: /sys/bus/pci/devices/0000:01:00.0/numa_node\n",
      "Your kernel may have been built without NUMA support.\n",
      "2023-12-16 05:04:42.586014: I tensorflow/compiler/xla/stream_executor/cuda/cuda_gpu_executor.cc:880] could not open file to read NUMA node: /sys/bus/pci/devices/0000:01:00.0/numa_node\n",
      "Your kernel may have been built without NUMA support.\n",
      "2023-12-16 05:04:42.586024: I tensorflow/core/common_runtime/gpu/gpu_device.cc:1977] Could not identify NUMA node of platform GPU id 0, defaulting to 0.  Your kernel may not have been built with NUMA support.\n",
      "2023-12-16 05:04:42.586040: I tensorflow/core/common_runtime/gpu/gpu_process_state.cc:236] Using CUDA malloc Async allocator for GPU: 0\n",
      "2023-12-16 05:04:42.586220: I tensorflow/compiler/xla/stream_executor/cuda/cuda_gpu_executor.cc:880] could not open file to read NUMA node: /sys/bus/pci/devices/0000:01:00.0/numa_node\n",
      "Your kernel may have been built without NUMA support.\n",
      "2023-12-16 05:04:42.586268: I tensorflow/core/common_runtime/gpu/gpu_device.cc:1886] Created device /job:localhost/replica:0/task:0/device:GPU:0 with 1778 MB memory:  -> device: 0, name: NVIDIA GeForce RTX 3050 Laptop GPU, pci bus id: 0000:01:00.0, compute capability: 8.6\n",
      "2023-12-16 05:04:44.216569: I tensorflow/compiler/xla/service/service.cc:168] XLA service 0x7fc5503bd880 initialized for platform CUDA (this does not guarantee that XLA will be used). Devices:\n",
      "2023-12-16 05:04:44.216621: I tensorflow/compiler/xla/service/service.cc:176]   StreamExecutor device (0): NVIDIA GeForce RTX 3050 Laptop GPU, Compute Capability 8.6\n",
      "2023-12-16 05:04:44.223006: I tensorflow/compiler/mlir/tensorflow/utils/dump_mlir_util.cc:269] disabling MLIR crash reproducer, set env var `MLIR_CRASH_REPRODUCER_DIRECTORY` to enable.\n",
      "2023-12-16 05:04:44.262930: I tensorflow/compiler/xla/stream_executor/cuda/cuda_dnn.cc:442] Loaded cuDNN version 8906\n",
      "2023-12-16 05:04:44.343266: I ./tensorflow/compiler/jit/device_compiler.h:186] Compiled cluster using XLA!  This line is logged at most once for the lifetime of the process.\n"
     ]
    },
    {
     "name": "stdout",
     "output_type": "stream",
     "text": [
      "380/380 [==============================] - 6s 11ms/step - loss: 0.5569 - accuracy: 0.7504 - val_loss: 0.4474 - val_accuracy: 0.7843\n",
      "Epoch 2/15\n",
      "380/380 [==============================] - 4s 9ms/step - loss: 0.4424 - accuracy: 0.7837 - val_loss: 0.4392 - val_accuracy: 0.7842\n",
      "Epoch 3/15\n",
      "380/380 [==============================] - 3s 9ms/step - loss: 0.4397 - accuracy: 0.7848 - val_loss: 0.4383 - val_accuracy: 0.7866\n",
      "Epoch 4/15\n",
      "380/380 [==============================] - 3s 8ms/step - loss: 0.4390 - accuracy: 0.7849 - val_loss: 0.4369 - val_accuracy: 0.7866\n",
      "Epoch 5/15\n",
      "380/380 [==============================] - 3s 8ms/step - loss: 0.4384 - accuracy: 0.7851 - val_loss: 0.4370 - val_accuracy: 0.7871\n",
      "Epoch 6/15\n",
      "380/380 [==============================] - 3s 8ms/step - loss: 0.4381 - accuracy: 0.7850 - val_loss: 0.4370 - val_accuracy: 0.7858\n",
      "Epoch 7/15\n",
      "380/380 [==============================] - 3s 8ms/step - loss: 0.4377 - accuracy: 0.7851 - val_loss: 0.4361 - val_accuracy: 0.7869\n",
      "Epoch 8/15\n",
      "380/380 [==============================] - 3s 8ms/step - loss: 0.4373 - accuracy: 0.7854 - val_loss: 0.4358 - val_accuracy: 0.7868\n",
      "Epoch 9/15\n",
      "380/380 [==============================] - 3s 7ms/step - loss: 0.4368 - accuracy: 0.7858 - val_loss: 0.4357 - val_accuracy: 0.7864\n",
      "Epoch 10/15\n",
      "380/380 [==============================] - 2s 7ms/step - loss: 0.4365 - accuracy: 0.7859 - val_loss: 0.4351 - val_accuracy: 0.7876\n",
      "Epoch 11/15\n",
      "380/380 [==============================] - 3s 7ms/step - loss: 0.4364 - accuracy: 0.7861 - val_loss: 0.4359 - val_accuracy: 0.7861\n",
      "Epoch 12/15\n",
      "380/380 [==============================] - 3s 8ms/step - loss: 0.4360 - accuracy: 0.7865 - val_loss: 0.4347 - val_accuracy: 0.7874\n",
      "Epoch 13/15\n",
      "380/380 [==============================] - 3s 8ms/step - loss: 0.4360 - accuracy: 0.7865 - val_loss: 0.4351 - val_accuracy: 0.7863\n",
      "Epoch 14/15\n",
      "380/380 [==============================] - 3s 8ms/step - loss: 0.4356 - accuracy: 0.7866 - val_loss: 0.4345 - val_accuracy: 0.7878\n",
      "Epoch 15/15\n",
      "380/380 [==============================] - 3s 8ms/step - loss: 0.4355 - accuracy: 0.7867 - val_loss: 0.4359 - val_accuracy: 0.7853\n"
     ]
    }
   ],
   "source": [
    "tf.keras.backend.clear_session()\n",
    "\n",
    "model = tf.keras.Sequential([\n",
    "    tf.keras.layers.Dense(8, activation=\"relu\"),\n",
    "    tf.keras.layers.Dense(16, activation=\"relu\"),\n",
    "    tf.keras.layers.Dense(8, activation=\"relu\"),\n",
    "    tf.keras.layers.Dense(4, activation=\"relu\"),\n",
    "    tf.keras.layers.Dense(1, activation=\"sigmoid\")\n",
    "])\n",
    "\n",
    "model.compile(optimizer=tf.keras.optimizers.Adam(), \n",
    "              loss=tf.keras.losses.BinaryCrossentropy(),\n",
    "              metrics=[\"accuracy\"])\n",
    "history = model.fit(x_train, y_train, epochs=EPOCH, validation_data=(x_valid, y_valid), batch_size=1024)"
   ]
  },
  {
   "cell_type": "code",
   "execution_count": 11,
   "metadata": {},
   "outputs": [
    {
     "data": {
      "image/png": "[encoded data removed]",
      "text/plain": [
       "<Figure size 640x480 with 1 Axes>"
      ]
     },
     "metadata": {},
     "output_type": "display_data"
    },
    {
     "data": {
      "image/png": "[encoded data removed]",
      "text/plain": [
       "<Figure size 640x480 with 1 Axes>"
      ]
     },
     "metadata": {},
     "output_type": "display_data"
    }
   ],
   "source": [
    "acc = history.history['accuracy']\n",
    "val_acc = history.history['val_accuracy']\n",
    "loss = history.history['loss']\n",
    "val_loss = history.history['val_loss']\n",
    "\n",
    "epochs = range(len(acc))\n",
    "\n",
    "plt.plot(epochs, acc, 'r', label='Training accuracy')\n",
    "plt.plot(epochs, val_acc, 'b', label='Validation accuracy')\n",
    "plt.title('Training and validation accuracy')\n",
    "plt.legend()\n",
    "plt.figure()\n",
    "\n",
    "plt.plot(epochs, loss, 'r', label='Training Loss')\n",
    "plt.plot(epochs, val_loss, 'b', label='Validation Loss')\n",
    "plt.title('Training and validation loss')\n",
    "plt.legend()\n",
    "\n",
    "plt.show()"
   ]
  },
  {
   "cell_type": "code",
   "execution_count": 12,
   "metadata": {},
   "outputs": [
    {
     "name": "stdout",
     "output_type": "stream",
     "text": [
      "1/1 [==============================] - 0s 32ms/step\n"
     ]
    },
    {
     "data": {
      "text/plain": [
       "array([[0.56033313]], dtype=float32)"
      ]
     },
     "execution_count": 12,
     "metadata": {},
     "output_type": "execute_result"
    }
   ],
   "source": [
    "# model.predict([[2,0,0,1,0,6,1,9]]) #0\n",
    "# model.predict([[2,1,0,0,0,3,3,5]]) #harusnya 1\n",
    "# model.predict([[1,0,1,0,0,4,4,2]]) #1\n",
    "model.predict([[2,1,1,0,0,4,3,3]]) #1"
   ]
  },
  {
   "cell_type": "code",
   "execution_count": 13,
   "metadata": {},
   "outputs": [],
   "source": [
    "saved_model = \"model_stream_classify.h5\"\n",
    "model.save(saved_model)"
   ]
  }
 ],
 "metadata": {
  "kernelspec": {
   "display_name": "Python 3",
   "language": "python",
   "name": "python3"
  },
  "language_info": {
   "codemirror_mode": {
    "name": "ipython",
    "version": 3
   },
   "file_extension": ".py",
   "mimetype": "text/x-python",
   "name": "python",
   "nbconvert_exporter": "python",
   "pygments_lexer": "ipython3",
   "version": "3.10.12"
  }
 },
 "nbformat": 4,
 "nbformat_minor": 2
}
