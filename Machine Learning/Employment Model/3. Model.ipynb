{
 "cells": [
  {
   "cell_type": "code",
   "execution_count": 48,
   "id": "initial_id",
   "metadata": {
    "ExecuteTime": {
     "end_time": "2023-12-05T03:58:28.152901Z",
     "start_time": "2023-12-05T03:58:28.139529800Z"
    },
    "collapsed": true
   },
   "outputs": [],
   "source": [
    "import tensorflow as tf\n",
    "import pandas as pd\n",
    "from sklearn.model_selection import train_test_split"
   ]
  },
  {
   "cell_type": "code",
   "execution_count": 49,
   "id": "d09446fa63c95b89",
   "metadata": {
    "ExecuteTime": {
     "end_time": "2023-12-05T03:58:29.053002200Z",
     "start_time": "2023-12-05T03:58:28.969915200Z"
    },
    "collapsed": false
   },
   "outputs": [
    {
     "data": {
      "text/html": [
       "<div>\n",
       "<style scoped>\n",
       "    .dataframe tbody tr th:only-of-type {\n",
       "        vertical-align: middle;\n",
       "    }\n",
       "\n",
       "    .dataframe tbody tr th {\n",
       "        vertical-align: top;\n",
       "    }\n",
       "\n",
       "    .dataframe thead th {\n",
       "        text-align: right;\n",
       "    }\n",
       "</style>\n",
       "<table border=\"1\" class=\"dataframe\">\n",
       "  <thead>\n",
       "    <tr style=\"text-align: right;\">\n",
       "      <th></th>\n",
       "      <th>Age</th>\n",
       "      <th>EdLevel</th>\n",
       "      <th>YearsExp</th>\n",
       "      <th>YearsProExp</th>\n",
       "      <th>PreviousSalary</th>\n",
       "      <th>NumSkills</th>\n",
       "      <th>Employed</th>\n",
       "      <th>YearsExpComb</th>\n",
       "    </tr>\n",
       "  </thead>\n",
       "  <tbody>\n",
       "    <tr>\n",
       "      <th>0</th>\n",
       "      <td>1</td>\n",
       "      <td>4</td>\n",
       "      <td>2.079442</td>\n",
       "      <td>1.609438</td>\n",
       "      <td>51552</td>\n",
       "      <td>4</td>\n",
       "      <td>0</td>\n",
       "      <td>3.688879</td>\n",
       "    </tr>\n",
       "    <tr>\n",
       "      <th>1</th>\n",
       "      <td>1</td>\n",
       "      <td>3</td>\n",
       "      <td>2.564949</td>\n",
       "      <td>1.791759</td>\n",
       "      <td>46482</td>\n",
       "      <td>12</td>\n",
       "      <td>1</td>\n",
       "      <td>4.356709</td>\n",
       "    </tr>\n",
       "    <tr>\n",
       "      <th>2</th>\n",
       "      <td>1</td>\n",
       "      <td>4</td>\n",
       "      <td>2.772589</td>\n",
       "      <td>1.945910</td>\n",
       "      <td>77290</td>\n",
       "      <td>7</td>\n",
       "      <td>0</td>\n",
       "      <td>4.718499</td>\n",
       "    </tr>\n",
       "    <tr>\n",
       "      <th>3</th>\n",
       "      <td>1</td>\n",
       "      <td>3</td>\n",
       "      <td>2.302585</td>\n",
       "      <td>1.945910</td>\n",
       "      <td>46135</td>\n",
       "      <td>13</td>\n",
       "      <td>0</td>\n",
       "      <td>4.248495</td>\n",
       "    </tr>\n",
       "    <tr>\n",
       "      <th>4</th>\n",
       "      <td>0</td>\n",
       "      <td>5</td>\n",
       "      <td>3.713572</td>\n",
       "      <td>3.433987</td>\n",
       "      <td>160932</td>\n",
       "      <td>2</td>\n",
       "      <td>0</td>\n",
       "      <td>7.147559</td>\n",
       "    </tr>\n",
       "    <tr>\n",
       "      <th>5</th>\n",
       "      <td>1</td>\n",
       "      <td>4</td>\n",
       "      <td>2.302585</td>\n",
       "      <td>1.098612</td>\n",
       "      <td>38915</td>\n",
       "      <td>5</td>\n",
       "      <td>0</td>\n",
       "      <td>3.401197</td>\n",
       "    </tr>\n",
       "    <tr>\n",
       "      <th>6</th>\n",
       "      <td>0</td>\n",
       "      <td>4</td>\n",
       "      <td>3.295837</td>\n",
       "      <td>2.944439</td>\n",
       "      <td>77831</td>\n",
       "      <td>17</td>\n",
       "      <td>1</td>\n",
       "      <td>6.240276</td>\n",
       "    </tr>\n",
       "    <tr>\n",
       "      <th>7</th>\n",
       "      <td>1</td>\n",
       "      <td>4</td>\n",
       "      <td>2.708050</td>\n",
       "      <td>1.791759</td>\n",
       "      <td>81319</td>\n",
       "      <td>4</td>\n",
       "      <td>0</td>\n",
       "      <td>4.499810</td>\n",
       "    </tr>\n",
       "    <tr>\n",
       "      <th>8</th>\n",
       "      <td>0</td>\n",
       "      <td>3</td>\n",
       "      <td>3.688879</td>\n",
       "      <td>3.091042</td>\n",
       "      <td>68507</td>\n",
       "      <td>3</td>\n",
       "      <td>0</td>\n",
       "      <td>6.779922</td>\n",
       "    </tr>\n",
       "    <tr>\n",
       "      <th>9</th>\n",
       "      <td>0</td>\n",
       "      <td>4</td>\n",
       "      <td>3.044522</td>\n",
       "      <td>2.833213</td>\n",
       "      <td>37752</td>\n",
       "      <td>6</td>\n",
       "      <td>0</td>\n",
       "      <td>5.877736</td>\n",
       "    </tr>\n",
       "  </tbody>\n",
       "</table>\n",
       "</div>"
      ],
      "text/plain": [
       "   Age  EdLevel  YearsExp  YearsProExp  PreviousSalary  NumSkills  Employed  \\\n",
       "0    1        4  2.079442     1.609438           51552          4         0   \n",
       "1    1        3  2.564949     1.791759           46482         12         1   \n",
       "2    1        4  2.772589     1.945910           77290          7         0   \n",
       "3    1        3  2.302585     1.945910           46135         13         0   \n",
       "4    0        5  3.713572     3.433987          160932          2         0   \n",
       "5    1        4  2.302585     1.098612           38915          5         0   \n",
       "6    0        4  3.295837     2.944439           77831         17         1   \n",
       "7    1        4  2.708050     1.791759           81319          4         0   \n",
       "8    0        3  3.688879     3.091042           68507          3         0   \n",
       "9    0        4  3.044522     2.833213           37752          6         0   \n",
       "\n",
       "   YearsExpComb  \n",
       "0      3.688879  \n",
       "1      4.356709  \n",
       "2      4.718499  \n",
       "3      4.248495  \n",
       "4      7.147559  \n",
       "5      3.401197  \n",
       "6      6.240276  \n",
       "7      4.499810  \n",
       "8      6.779922  \n",
       "9      5.877736  "
      ]
     },
     "execution_count": 49,
     "metadata": {},
     "output_type": "execute_result"
    }
   ],
   "source": [
    "data = pd.read_csv(\"preprocessing.csv\", index_col=0)\n",
    "data.head(10)"
   ]
  },
  {
   "cell_type": "code",
   "execution_count": 50,
   "id": "2aa7d2f4a91acdb1",
   "metadata": {
    "ExecuteTime": {
     "end_time": "2023-12-05T03:58:29.736954900Z",
     "start_time": "2023-12-05T03:58:29.732239Z"
    },
    "collapsed": false
   },
   "outputs": [
    {
     "data": {
      "text/html": [
       "<div>\n",
       "<style scoped>\n",
       "    .dataframe tbody tr th:only-of-type {\n",
       "        vertical-align: middle;\n",
       "    }\n",
       "\n",
       "    .dataframe tbody tr th {\n",
       "        vertical-align: top;\n",
       "    }\n",
       "\n",
       "    .dataframe thead th {\n",
       "        text-align: right;\n",
       "    }\n",
       "</style>\n",
       "<table border=\"1\" class=\"dataframe\">\n",
       "  <thead>\n",
       "    <tr style=\"text-align: right;\">\n",
       "      <th></th>\n",
       "      <th>Age</th>\n",
       "      <th>EdLevel</th>\n",
       "      <th>YearsExpComb</th>\n",
       "      <th>NumSkills</th>\n",
       "    </tr>\n",
       "  </thead>\n",
       "  <tbody>\n",
       "    <tr>\n",
       "      <th>0</th>\n",
       "      <td>1</td>\n",
       "      <td>4</td>\n",
       "      <td>3.688879</td>\n",
       "      <td>4</td>\n",
       "    </tr>\n",
       "    <tr>\n",
       "      <th>1</th>\n",
       "      <td>1</td>\n",
       "      <td>3</td>\n",
       "      <td>4.356709</td>\n",
       "      <td>12</td>\n",
       "    </tr>\n",
       "    <tr>\n",
       "      <th>2</th>\n",
       "      <td>1</td>\n",
       "      <td>4</td>\n",
       "      <td>4.718499</td>\n",
       "      <td>7</td>\n",
       "    </tr>\n",
       "    <tr>\n",
       "      <th>3</th>\n",
       "      <td>1</td>\n",
       "      <td>3</td>\n",
       "      <td>4.248495</td>\n",
       "      <td>13</td>\n",
       "    </tr>\n",
       "    <tr>\n",
       "      <th>4</th>\n",
       "      <td>0</td>\n",
       "      <td>5</td>\n",
       "      <td>7.147559</td>\n",
       "      <td>2</td>\n",
       "    </tr>\n",
       "    <tr>\n",
       "      <th>5</th>\n",
       "      <td>1</td>\n",
       "      <td>4</td>\n",
       "      <td>3.401197</td>\n",
       "      <td>5</td>\n",
       "    </tr>\n",
       "    <tr>\n",
       "      <th>6</th>\n",
       "      <td>0</td>\n",
       "      <td>4</td>\n",
       "      <td>6.240276</td>\n",
       "      <td>17</td>\n",
       "    </tr>\n",
       "    <tr>\n",
       "      <th>7</th>\n",
       "      <td>1</td>\n",
       "      <td>4</td>\n",
       "      <td>4.499810</td>\n",
       "      <td>4</td>\n",
       "    </tr>\n",
       "    <tr>\n",
       "      <th>8</th>\n",
       "      <td>0</td>\n",
       "      <td>3</td>\n",
       "      <td>6.779922</td>\n",
       "      <td>3</td>\n",
       "    </tr>\n",
       "    <tr>\n",
       "      <th>9</th>\n",
       "      <td>0</td>\n",
       "      <td>4</td>\n",
       "      <td>5.877736</td>\n",
       "      <td>6</td>\n",
       "    </tr>\n",
       "  </tbody>\n",
       "</table>\n",
       "</div>"
      ],
      "text/plain": [
       "   Age  EdLevel  YearsExpComb  NumSkills\n",
       "0    1        4      3.688879          4\n",
       "1    1        3      4.356709         12\n",
       "2    1        4      4.718499          7\n",
       "3    1        3      4.248495         13\n",
       "4    0        5      7.147559          2\n",
       "5    1        4      3.401197          5\n",
       "6    0        4      6.240276         17\n",
       "7    1        4      4.499810          4\n",
       "8    0        3      6.779922          3\n",
       "9    0        4      5.877736          6"
      ]
     },
     "execution_count": 50,
     "metadata": {},
     "output_type": "execute_result"
    }
   ],
   "source": [
    "# df_x = data[[\"Age\", \"EdLevel\", \"YearsExp\", \"YearsProExp\", \"NumSkills\"]]\n",
    "df_x = data[[\"Age\", \"EdLevel\", \"YearsExpComb\", \"NumSkills\"]]\n",
    "#df_x['sum_exp']=df_x[\"YearsExp\"]+df_x[\"YearsProExp\"]\n",
    "df_x.head(10)"
   ]
  },
  {
   "cell_type": "code",
   "execution_count": 51,
   "id": "c09ca0a7cc83bd9a",
   "metadata": {
    "ExecuteTime": {
     "end_time": "2023-12-05T03:58:30.470986800Z",
     "start_time": "2023-12-05T03:58:30.447592100Z"
    },
    "collapsed": false
   },
   "outputs": [
    {
     "data": {
      "text/html": [
       "<div>\n",
       "<style scoped>\n",
       "    .dataframe tbody tr th:only-of-type {\n",
       "        vertical-align: middle;\n",
       "    }\n",
       "\n",
       "    .dataframe tbody tr th {\n",
       "        vertical-align: top;\n",
       "    }\n",
       "\n",
       "    .dataframe thead th {\n",
       "        text-align: right;\n",
       "    }\n",
       "</style>\n",
       "<table border=\"1\" class=\"dataframe\">\n",
       "  <thead>\n",
       "    <tr style=\"text-align: right;\">\n",
       "      <th></th>\n",
       "      <th>Employed</th>\n",
       "    </tr>\n",
       "  </thead>\n",
       "  <tbody>\n",
       "    <tr>\n",
       "      <th>0</th>\n",
       "      <td>0</td>\n",
       "    </tr>\n",
       "    <tr>\n",
       "      <th>1</th>\n",
       "      <td>1</td>\n",
       "    </tr>\n",
       "    <tr>\n",
       "      <th>2</th>\n",
       "      <td>0</td>\n",
       "    </tr>\n",
       "    <tr>\n",
       "      <th>3</th>\n",
       "      <td>0</td>\n",
       "    </tr>\n",
       "    <tr>\n",
       "      <th>4</th>\n",
       "      <td>0</td>\n",
       "    </tr>\n",
       "    <tr>\n",
       "      <th>5</th>\n",
       "      <td>0</td>\n",
       "    </tr>\n",
       "    <tr>\n",
       "      <th>6</th>\n",
       "      <td>1</td>\n",
       "    </tr>\n",
       "    <tr>\n",
       "      <th>7</th>\n",
       "      <td>0</td>\n",
       "    </tr>\n",
       "    <tr>\n",
       "      <th>8</th>\n",
       "      <td>0</td>\n",
       "    </tr>\n",
       "    <tr>\n",
       "      <th>9</th>\n",
       "      <td>0</td>\n",
       "    </tr>\n",
       "  </tbody>\n",
       "</table>\n",
       "</div>"
      ],
      "text/plain": [
       "   Employed\n",
       "0         0\n",
       "1         1\n",
       "2         0\n",
       "3         0\n",
       "4         0\n",
       "5         0\n",
       "6         1\n",
       "7         0\n",
       "8         0\n",
       "9         0"
      ]
     },
     "execution_count": 51,
     "metadata": {},
     "output_type": "execute_result"
    }
   ],
   "source": [
    "df_y = data[[\"Employed\"]]\n",
    "df_y.head(10)"
   ]
  },
  {
   "cell_type": "code",
   "execution_count": 52,
   "id": "9abce8fb1ac44f56",
   "metadata": {
    "ExecuteTime": {
     "end_time": "2023-12-05T03:58:31.354186500Z",
     "start_time": "2023-12-05T03:58:31.302487600Z"
    },
    "collapsed": false
   },
   "outputs": [
    {
     "name": "stdout",
     "output_type": "stream",
     "text": [
      "Data before splitting: 73462\n",
      "Train data: 58769\n",
      "Validation data: 14693\n"
     ]
    }
   ],
   "source": [
    "x_train, x_valid, y_train, y_valid = train_test_split(df_x, df_y, test_size=0.2, random_state=4)\n",
    "\n",
    "print(f\"Data before splitting: {len(df_x)}\")\n",
    "print(f\"Train data: {len(x_train)}\")\n",
    "print(f\"Validation data: {len(x_valid)}\")"
   ]
  },
  {
   "cell_type": "code",
   "execution_count": 53,
   "id": "bcc99801cb5f9e4c",
   "metadata": {
    "ExecuteTime": {
     "end_time": "2023-12-05T03:58:31.907514600Z",
     "start_time": "2023-12-05T03:58:31.899511200Z"
    },
    "collapsed": false
   },
   "outputs": [],
   "source": [
    "EPOCH = 20"
   ]
  },
  {
   "cell_type": "code",
   "execution_count": 54,
   "id": "1f6b4bd114190c1",
   "metadata": {
    "ExecuteTime": {
     "end_time": "2023-12-05T03:58:32.489632100Z",
     "start_time": "2023-12-05T03:58:32.478515500Z"
    },
    "collapsed": false
   },
   "outputs": [
    {
     "name": "stdout",
     "output_type": "stream",
     "text": [
      "4\n"
     ]
    }
   ],
   "source": [
    "len_feature = len(df_x.columns)\n",
    "print(len_feature)"
   ]
  },
  {
   "cell_type": "code",
   "execution_count": 55,
   "id": "9b5f55f4313cc65e",
   "metadata": {
    "ExecuteTime": {
     "end_time": "2023-12-05T04:02:02.716771400Z",
     "start_time": "2023-12-05T03:59:20.219821700Z"
    },
    "collapsed": false
   },
   "outputs": [
    {
     "name": "stdout",
     "output_type": "stream",
     "text": [
      "Epoch 1/20\n",
      "460/460 [==============================] - 5s 7ms/step - loss: 0.6424 - accuracy: 0.7013 - val_loss: 0.5573 - val_accuracy: 0.7667\n",
      "Epoch 2/20\n",
      "460/460 [==============================] - 3s 6ms/step - loss: 0.5329 - accuracy: 0.7692 - val_loss: 0.5151 - val_accuracy: 0.7698\n",
      "Epoch 3/20\n",
      "460/460 [==============================] - 4s 8ms/step - loss: 0.5054 - accuracy: 0.7718 - val_loss: 0.4968 - val_accuracy: 0.7728\n",
      "Epoch 4/20\n",
      "460/460 [==============================] - 3s 7ms/step - loss: 0.4918 - accuracy: 0.7733 - val_loss: 0.4854 - val_accuracy: 0.7747\n",
      "Epoch 5/20\n",
      "460/460 [==============================] - 3s 6ms/step - loss: 0.4830 - accuracy: 0.7735 - val_loss: 0.4782 - val_accuracy: 0.7750\n",
      "Epoch 6/20\n",
      "460/460 [==============================] - 3s 7ms/step - loss: 0.4769 - accuracy: 0.7740 - val_loss: 0.4730 - val_accuracy: 0.7762\n",
      "Epoch 7/20\n",
      "460/460 [==============================] - 3s 6ms/step - loss: 0.4724 - accuracy: 0.7749 - val_loss: 0.4681 - val_accuracy: 0.7774\n",
      "Epoch 8/20\n",
      "460/460 [==============================] - 3s 6ms/step - loss: 0.4689 - accuracy: 0.7757 - val_loss: 0.4649 - val_accuracy: 0.7784\n",
      "Epoch 9/20\n",
      "460/460 [==============================] - 3s 7ms/step - loss: 0.4654 - accuracy: 0.7769 - val_loss: 0.4621 - val_accuracy: 0.7787\n",
      "Epoch 10/20\n",
      "460/460 [==============================] - 3s 7ms/step - loss: 0.4627 - accuracy: 0.7780 - val_loss: 0.4589 - val_accuracy: 0.7806\n",
      "Epoch 11/20\n",
      "460/460 [==============================] - 3s 6ms/step - loss: 0.4598 - accuracy: 0.7794 - val_loss: 0.4570 - val_accuracy: 0.7788\n",
      "Epoch 12/20\n",
      "460/460 [==============================] - 3s 7ms/step - loss: 0.4573 - accuracy: 0.7808 - val_loss: 0.4547 - val_accuracy: 0.7808\n",
      "Epoch 13/20\n",
      "460/460 [==============================] - 3s 7ms/step - loss: 0.4552 - accuracy: 0.7820 - val_loss: 0.4528 - val_accuracy: 0.7816\n",
      "Epoch 14/20\n",
      "460/460 [==============================] - 3s 7ms/step - loss: 0.4532 - accuracy: 0.7821 - val_loss: 0.4506 - val_accuracy: 0.7803\n",
      "Epoch 15/20\n",
      "460/460 [==============================] - 4s 8ms/step - loss: 0.4518 - accuracy: 0.7822 - val_loss: 0.4499 - val_accuracy: 0.7840\n",
      "Epoch 16/20\n",
      "460/460 [==============================] - 3s 6ms/step - loss: 0.4505 - accuracy: 0.7830 - val_loss: 0.4479 - val_accuracy: 0.7813\n",
      "Epoch 17/20\n",
      "460/460 [==============================] - 3s 6ms/step - loss: 0.4497 - accuracy: 0.7821 - val_loss: 0.4473 - val_accuracy: 0.7846\n",
      "Epoch 18/20\n",
      "460/460 [==============================] - 3s 6ms/step - loss: 0.4484 - accuracy: 0.7832 - val_loss: 0.4466 - val_accuracy: 0.7836\n",
      "Epoch 19/20\n",
      "460/460 [==============================] - 3s 7ms/step - loss: 0.4477 - accuracy: 0.7828 - val_loss: 0.4462 - val_accuracy: 0.7845\n",
      "Epoch 20/20\n",
      "460/460 [==============================] - 3s 6ms/step - loss: 0.4475 - accuracy: 0.7824 - val_loss: 0.4447 - val_accuracy: 0.7828\n"
     ]
    }
   ],
   "source": [
    "tf.keras.backend.clear_session()\n",
    "\n",
    "model = tf.keras.Sequential([\n",
    "    tf.keras.layers.Dense(6, activation=\"relu\"),\n",
    "    tf.keras.layers.Dense(4, activation=\"relu\"),\n",
    "    tf.keras.layers.Dense(1, activation=\"sigmoid\")\n",
    "])\n",
    "\n",
    "model.compile(optimizer=tf.keras.optimizers.Adam(), \n",
    "              loss=tf.keras.losses.BinaryCrossentropy(),\n",
    "              metrics=[\"accuracy\"])\n",
    "# col_train=[\"Age\", \"EdLevel\", \"YearsExp\", \"YearsProExp\", \"NumSkills\"]\n",
    "# col_train=[\"Age\", \"EdLevel\", \"NumSkills\", \"sum_exp\"]\n",
    "history = model.fit(x_train, y_train, epochs=EPOCH, validation_data=(x_valid, y_valid), batch_size=128)"
   ]
  },
  {
   "cell_type": "code",
   "execution_count": 56,
   "id": "c6d89dc9251e38f4",
   "metadata": {
    "ExecuteTime": {
     "end_time": "2023-12-05T04:02:11.347750200Z",
     "start_time": "2023-12-05T04:02:10.877913600Z"
    },
    "collapsed": false
   },
   "outputs": [
    {
     "data": {
      "image/png": "[encoded data removed]",
      "text/plain": [
       "<Figure size 640x480 with 1 Axes>"
      ]
     },
     "metadata": {},
     "output_type": "display_data"
    },
    {
     "data": {
      "image/png": "[encoded data removed]",
      "text/plain": [
       "<Figure size 640x480 with 1 Axes>"
      ]
     },
     "metadata": {},
     "output_type": "display_data"
    }
   ],
   "source": [
    "import matplotlib.pyplot as plt\n",
    "\n",
    "acc = history.history['accuracy']\n",
    "val_acc = history.history['val_accuracy']\n",
    "loss = history.history['loss']\n",
    "val_loss = history.history['val_loss']\n",
    "\n",
    "epochs = range(len(acc))\n",
    "\n",
    "plt.plot(epochs, acc, 'r', label='Training accuracy')\n",
    "plt.plot(epochs, val_acc, 'b', label='Validation accuracy')\n",
    "plt.title('Training and validation accuracy')\n",
    "plt.legend()\n",
    "plt.figure()\n",
    "\n",
    "plt.plot(epochs, loss, 'r', label='Training Loss')\n",
    "plt.plot(epochs, val_loss, 'b', label='Validation Loss')\n",
    "plt.title('Training and validation loss')\n",
    "plt.legend()\n",
    "\n",
    "plt.show()"
   ]
  },
  {
   "cell_type": "code",
   "execution_count": 58,
   "id": "50accbaaee714e46",
   "metadata": {
    "ExecuteTime": {
     "end_time": "2023-12-05T04:02:11.392494900Z",
     "start_time": "2023-12-05T04:02:11.347750200Z"
    },
    "collapsed": false
   },
   "outputs": [],
   "source": [
    "saved_model = \"emp_model.h5\"\n",
    "model.save(saved_model)"
   ]
  },
  {
   "cell_type": "code",
   "execution_count": null,
   "id": "79507c8ce520402b",
   "metadata": {
    "ExecuteTime": {
     "start_time": "2023-12-05T03:01:26.197630100Z"
    },
    "collapsed": false
   },
   "outputs": [],
   "source": []
  }
 ],
 "metadata": {
  "kernelspec": {
   "display_name": "Python 3",
   "language": "python",
   "name": "python3"
  },
  "language_info": {
   "codemirror_mode": {
    "name": "ipython",
    "version": 3
   },
   "file_extension": ".py",
   "mimetype": "text/x-python",
   "name": "python",
   "nbconvert_exporter": "python",
   "pygments_lexer": "ipython3",
   "version": "3.10.12"
  }
 },
 "nbformat": 4,
 "nbformat_minor": 5
}
