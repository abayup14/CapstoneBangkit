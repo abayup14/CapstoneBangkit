{
 "cells": [
  {
   "cell_type": "code",
   "execution_count": 19,
   "id": "initial_id",
   "metadata": {
    "ExecuteTime": {
     "end_time": "2023-12-05T01:20:55.371475500Z",
     "start_time": "2023-12-05T01:20:52.295238400Z"
    },
    "collapsed": true
   },
   "outputs": [],
   "source": [
    "import tensorflow as tf\n",
    "import pandas as pd\n",
    "from sklearn.model_selection import train_test_split"
   ]
  },
  {
   "cell_type": "code",
   "execution_count": 30,
   "id": "d09446fa63c95b89",
   "metadata": {
    "ExecuteTime": {
     "end_time": "2023-12-05T01:20:55.429406500Z",
     "start_time": "2023-12-05T01:20:55.373844100Z"
    },
    "collapsed": false
   },
   "outputs": [
    {
     "data": {
      "text/html": [
       "<div>\n",
       "<style scoped>\n",
       "    .dataframe tbody tr th:only-of-type {\n",
       "        vertical-align: middle;\n",
       "    }\n",
       "\n",
       "    .dataframe tbody tr th {\n",
       "        vertical-align: top;\n",
       "    }\n",
       "\n",
       "    .dataframe thead th {\n",
       "        text-align: right;\n",
       "    }\n",
       "</style>\n",
       "<table border=\"1\" class=\"dataframe\">\n",
       "  <thead>\n",
       "    <tr style=\"text-align: right;\">\n",
       "      <th></th>\n",
       "      <th>Age</th>\n",
       "      <th>EdLevel</th>\n",
       "      <th>YearsExp</th>\n",
       "      <th>YearsProExp</th>\n",
       "      <th>PreviousSalary</th>\n",
       "      <th>NumSkills</th>\n",
       "      <th>Employed</th>\n",
       "    </tr>\n",
       "  </thead>\n",
       "  <tbody>\n",
       "    <tr>\n",
       "      <th>0</th>\n",
       "      <td>0</td>\n",
       "      <td>4</td>\n",
       "      <td>7</td>\n",
       "      <td>4</td>\n",
       "      <td>51552</td>\n",
       "      <td>4</td>\n",
       "      <td>0</td>\n",
       "    </tr>\n",
       "    <tr>\n",
       "      <th>1</th>\n",
       "      <td>0</td>\n",
       "      <td>3</td>\n",
       "      <td>12</td>\n",
       "      <td>5</td>\n",
       "      <td>46482</td>\n",
       "      <td>12</td>\n",
       "      <td>1</td>\n",
       "    </tr>\n",
       "    <tr>\n",
       "      <th>2</th>\n",
       "      <td>0</td>\n",
       "      <td>4</td>\n",
       "      <td>15</td>\n",
       "      <td>6</td>\n",
       "      <td>77290</td>\n",
       "      <td>7</td>\n",
       "      <td>0</td>\n",
       "    </tr>\n",
       "    <tr>\n",
       "      <th>3</th>\n",
       "      <td>0</td>\n",
       "      <td>3</td>\n",
       "      <td>9</td>\n",
       "      <td>6</td>\n",
       "      <td>46135</td>\n",
       "      <td>13</td>\n",
       "      <td>0</td>\n",
       "    </tr>\n",
       "    <tr>\n",
       "      <th>4</th>\n",
       "      <td>1</td>\n",
       "      <td>5</td>\n",
       "      <td>40</td>\n",
       "      <td>30</td>\n",
       "      <td>160932</td>\n",
       "      <td>2</td>\n",
       "      <td>0</td>\n",
       "    </tr>\n",
       "    <tr>\n",
       "      <th>5</th>\n",
       "      <td>0</td>\n",
       "      <td>4</td>\n",
       "      <td>9</td>\n",
       "      <td>2</td>\n",
       "      <td>38915</td>\n",
       "      <td>5</td>\n",
       "      <td>0</td>\n",
       "    </tr>\n",
       "    <tr>\n",
       "      <th>6</th>\n",
       "      <td>1</td>\n",
       "      <td>4</td>\n",
       "      <td>26</td>\n",
       "      <td>18</td>\n",
       "      <td>77831</td>\n",
       "      <td>17</td>\n",
       "      <td>1</td>\n",
       "    </tr>\n",
       "    <tr>\n",
       "      <th>7</th>\n",
       "      <td>0</td>\n",
       "      <td>4</td>\n",
       "      <td>14</td>\n",
       "      <td>5</td>\n",
       "      <td>81319</td>\n",
       "      <td>4</td>\n",
       "      <td>0</td>\n",
       "    </tr>\n",
       "    <tr>\n",
       "      <th>8</th>\n",
       "      <td>1</td>\n",
       "      <td>3</td>\n",
       "      <td>39</td>\n",
       "      <td>21</td>\n",
       "      <td>68507</td>\n",
       "      <td>3</td>\n",
       "      <td>0</td>\n",
       "    </tr>\n",
       "    <tr>\n",
       "      <th>9</th>\n",
       "      <td>1</td>\n",
       "      <td>4</td>\n",
       "      <td>20</td>\n",
       "      <td>16</td>\n",
       "      <td>37752</td>\n",
       "      <td>6</td>\n",
       "      <td>0</td>\n",
       "    </tr>\n",
       "  </tbody>\n",
       "</table>\n",
       "</div>"
      ],
      "text/plain": [
       "   Age  EdLevel  YearsExp  YearsProExp  PreviousSalary  NumSkills  Employed\n",
       "0    0        4         7            4           51552          4         0\n",
       "1    0        3        12            5           46482         12         1\n",
       "2    0        4        15            6           77290          7         0\n",
       "3    0        3         9            6           46135         13         0\n",
       "4    1        5        40           30          160932          2         0\n",
       "5    0        4         9            2           38915          5         0\n",
       "6    1        4        26           18           77831         17         1\n",
       "7    0        4        14            5           81319          4         0\n",
       "8    1        3        39           21           68507          3         0\n",
       "9    1        4        20           16           37752          6         0"
      ]
     },
     "execution_count": 30,
     "metadata": {},
     "output_type": "execute_result"
    }
   ],
   "source": [
    "data = pd.read_csv(\"preprocessing.csv\", index_col=0)\n",
    "data.head(10)"
   ]
  },
  {
   "cell_type": "code",
   "execution_count": 31,
   "id": "2aa7d2f4a91acdb1",
   "metadata": {
    "ExecuteTime": {
     "end_time": "2023-12-05T01:20:58.452818400Z",
     "start_time": "2023-12-05T01:20:58.436094800Z"
    },
    "collapsed": false
   },
   "outputs": [
    {
     "data": {
      "text/html": [
       "<div>\n",
       "<style scoped>\n",
       "    .dataframe tbody tr th:only-of-type {\n",
       "        vertical-align: middle;\n",
       "    }\n",
       "\n",
       "    .dataframe tbody tr th {\n",
       "        vertical-align: top;\n",
       "    }\n",
       "\n",
       "    .dataframe thead th {\n",
       "        text-align: right;\n",
       "    }\n",
       "</style>\n",
       "<table border=\"1\" class=\"dataframe\">\n",
       "  <thead>\n",
       "    <tr style=\"text-align: right;\">\n",
       "      <th></th>\n",
       "      <th>Age</th>\n",
       "      <th>EdLevel</th>\n",
       "      <th>YearsExp</th>\n",
       "      <th>YearsProExp</th>\n",
       "      <th>PreviousSalary</th>\n",
       "      <th>NumSkills</th>\n",
       "      <th>sum_exp</th>\n",
       "      <th>sal_per_skill</th>\n",
       "    </tr>\n",
       "  </thead>\n",
       "  <tbody>\n",
       "    <tr>\n",
       "      <th>0</th>\n",
       "      <td>0</td>\n",
       "      <td>4</td>\n",
       "      <td>7</td>\n",
       "      <td>4</td>\n",
       "      <td>51552</td>\n",
       "      <td>4</td>\n",
       "      <td>11</td>\n",
       "      <td>12888.000000</td>\n",
       "    </tr>\n",
       "    <tr>\n",
       "      <th>1</th>\n",
       "      <td>0</td>\n",
       "      <td>3</td>\n",
       "      <td>12</td>\n",
       "      <td>5</td>\n",
       "      <td>46482</td>\n",
       "      <td>12</td>\n",
       "      <td>17</td>\n",
       "      <td>3873.500000</td>\n",
       "    </tr>\n",
       "    <tr>\n",
       "      <th>2</th>\n",
       "      <td>0</td>\n",
       "      <td>4</td>\n",
       "      <td>15</td>\n",
       "      <td>6</td>\n",
       "      <td>77290</td>\n",
       "      <td>7</td>\n",
       "      <td>21</td>\n",
       "      <td>11041.428571</td>\n",
       "    </tr>\n",
       "    <tr>\n",
       "      <th>3</th>\n",
       "      <td>0</td>\n",
       "      <td>3</td>\n",
       "      <td>9</td>\n",
       "      <td>6</td>\n",
       "      <td>46135</td>\n",
       "      <td>13</td>\n",
       "      <td>15</td>\n",
       "      <td>3548.846154</td>\n",
       "    </tr>\n",
       "    <tr>\n",
       "      <th>4</th>\n",
       "      <td>1</td>\n",
       "      <td>5</td>\n",
       "      <td>40</td>\n",
       "      <td>30</td>\n",
       "      <td>160932</td>\n",
       "      <td>2</td>\n",
       "      <td>70</td>\n",
       "      <td>80466.000000</td>\n",
       "    </tr>\n",
       "    <tr>\n",
       "      <th>5</th>\n",
       "      <td>0</td>\n",
       "      <td>4</td>\n",
       "      <td>9</td>\n",
       "      <td>2</td>\n",
       "      <td>38915</td>\n",
       "      <td>5</td>\n",
       "      <td>11</td>\n",
       "      <td>7783.000000</td>\n",
       "    </tr>\n",
       "    <tr>\n",
       "      <th>6</th>\n",
       "      <td>1</td>\n",
       "      <td>4</td>\n",
       "      <td>26</td>\n",
       "      <td>18</td>\n",
       "      <td>77831</td>\n",
       "      <td>17</td>\n",
       "      <td>44</td>\n",
       "      <td>4578.294118</td>\n",
       "    </tr>\n",
       "    <tr>\n",
       "      <th>7</th>\n",
       "      <td>0</td>\n",
       "      <td>4</td>\n",
       "      <td>14</td>\n",
       "      <td>5</td>\n",
       "      <td>81319</td>\n",
       "      <td>4</td>\n",
       "      <td>19</td>\n",
       "      <td>20329.750000</td>\n",
       "    </tr>\n",
       "    <tr>\n",
       "      <th>8</th>\n",
       "      <td>1</td>\n",
       "      <td>3</td>\n",
       "      <td>39</td>\n",
       "      <td>21</td>\n",
       "      <td>68507</td>\n",
       "      <td>3</td>\n",
       "      <td>60</td>\n",
       "      <td>22835.666667</td>\n",
       "    </tr>\n",
       "    <tr>\n",
       "      <th>9</th>\n",
       "      <td>1</td>\n",
       "      <td>4</td>\n",
       "      <td>20</td>\n",
       "      <td>16</td>\n",
       "      <td>37752</td>\n",
       "      <td>6</td>\n",
       "      <td>36</td>\n",
       "      <td>6292.000000</td>\n",
       "    </tr>\n",
       "  </tbody>\n",
       "</table>\n",
       "</div>"
      ],
      "text/plain": [
       "   Age  EdLevel  YearsExp  YearsProExp  PreviousSalary  NumSkills  sum_exp  \\\n",
       "0    0        4         7            4           51552          4       11   \n",
       "1    0        3        12            5           46482         12       17   \n",
       "2    0        4        15            6           77290          7       21   \n",
       "3    0        3         9            6           46135         13       15   \n",
       "4    1        5        40           30          160932          2       70   \n",
       "5    0        4         9            2           38915          5       11   \n",
       "6    1        4        26           18           77831         17       44   \n",
       "7    0        4        14            5           81319          4       19   \n",
       "8    1        3        39           21           68507          3       60   \n",
       "9    1        4        20           16           37752          6       36   \n",
       "\n",
       "   sal_per_skill  \n",
       "0   12888.000000  \n",
       "1    3873.500000  \n",
       "2   11041.428571  \n",
       "3    3548.846154  \n",
       "4   80466.000000  \n",
       "5    7783.000000  \n",
       "6    4578.294118  \n",
       "7   20329.750000  \n",
       "8   22835.666667  \n",
       "9    6292.000000  "
      ]
     },
     "execution_count": 31,
     "metadata": {},
     "output_type": "execute_result"
    }
   ],
   "source": [
    "df_x = data[[\"Age\", \"EdLevel\", \"YearsExp\", \"YearsProExp\", \"PreviousSalary\", \"NumSkills\"]]\n",
    "df_x['sum_exp']=df_x[\"YearsExp\"]+df_x[\"YearsProExp\"]\n",
    "df_x.head(10)"
   ]
  },
  {
   "cell_type": "code",
   "execution_count": 32,
   "id": "c09ca0a7cc83bd9a",
   "metadata": {
    "ExecuteTime": {
     "end_time": "2023-12-05T01:21:00.642374400Z",
     "start_time": "2023-12-05T01:21:00.604517500Z"
    },
    "collapsed": false
   },
   "outputs": [
    {
     "data": {
      "text/html": [
       "<div>\n",
       "<style scoped>\n",
       "    .dataframe tbody tr th:only-of-type {\n",
       "        vertical-align: middle;\n",
       "    }\n",
       "\n",
       "    .dataframe tbody tr th {\n",
       "        vertical-align: top;\n",
       "    }\n",
       "\n",
       "    .dataframe thead th {\n",
       "        text-align: right;\n",
       "    }\n",
       "</style>\n",
       "<table border=\"1\" class=\"dataframe\">\n",
       "  <thead>\n",
       "    <tr style=\"text-align: right;\">\n",
       "      <th></th>\n",
       "      <th>Employed</th>\n",
       "    </tr>\n",
       "  </thead>\n",
       "  <tbody>\n",
       "    <tr>\n",
       "      <th>0</th>\n",
       "      <td>0</td>\n",
       "    </tr>\n",
       "    <tr>\n",
       "      <th>1</th>\n",
       "      <td>1</td>\n",
       "    </tr>\n",
       "    <tr>\n",
       "      <th>2</th>\n",
       "      <td>0</td>\n",
       "    </tr>\n",
       "    <tr>\n",
       "      <th>3</th>\n",
       "      <td>0</td>\n",
       "    </tr>\n",
       "    <tr>\n",
       "      <th>4</th>\n",
       "      <td>0</td>\n",
       "    </tr>\n",
       "    <tr>\n",
       "      <th>5</th>\n",
       "      <td>0</td>\n",
       "    </tr>\n",
       "    <tr>\n",
       "      <th>6</th>\n",
       "      <td>1</td>\n",
       "    </tr>\n",
       "    <tr>\n",
       "      <th>7</th>\n",
       "      <td>0</td>\n",
       "    </tr>\n",
       "    <tr>\n",
       "      <th>8</th>\n",
       "      <td>0</td>\n",
       "    </tr>\n",
       "    <tr>\n",
       "      <th>9</th>\n",
       "      <td>0</td>\n",
       "    </tr>\n",
       "  </tbody>\n",
       "</table>\n",
       "</div>"
      ],
      "text/plain": [
       "   Employed\n",
       "0         0\n",
       "1         1\n",
       "2         0\n",
       "3         0\n",
       "4         0\n",
       "5         0\n",
       "6         1\n",
       "7         0\n",
       "8         0\n",
       "9         0"
      ]
     },
     "execution_count": 32,
     "metadata": {},
     "output_type": "execute_result"
    }
   ],
   "source": [
    "df_y = data[[\"Employed\"]]\n",
    "df_y.head(10)"
   ]
  },
  {
   "cell_type": "code",
   "execution_count": 33,
   "id": "9abce8fb1ac44f56",
   "metadata": {
    "ExecuteTime": {
     "end_time": "2023-12-05T01:21:02.168935900Z",
     "start_time": "2023-12-05T01:21:02.101109500Z"
    },
    "collapsed": false
   },
   "outputs": [
    {
     "name": "stdout",
     "output_type": "stream",
     "text": [
      "Data before splitting: 73462\n",
      "Train data: 58769\n",
      "Validation data: 14693\n"
     ]
    }
   ],
   "source": [
    "x_train, x_valid, y_train, y_valid = train_test_split(df_x, df_y, test_size=0.2, random_state=4)\n",
    "\n",
    "print(f\"Data before splitting: {len(df_x)}\")\n",
    "print(f\"Train data: {len(x_train)}\")\n",
    "print(f\"Validation data: {len(x_valid)}\")"
   ]
  },
  {
   "cell_type": "code",
   "execution_count": 34,
   "id": "bcc99801cb5f9e4c",
   "metadata": {
    "ExecuteTime": {
     "end_time": "2023-12-05T01:21:03.265506500Z",
     "start_time": "2023-12-05T01:21:03.256006100Z"
    },
    "collapsed": false
   },
   "outputs": [],
   "source": [
    "EPOCH = 15\n",
    "LEARNING_RATE = 1e-3"
   ]
  },
  {
   "cell_type": "code",
   "execution_count": 37,
   "id": "9b5f55f4313cc65e",
   "metadata": {
    "ExecuteTime": {
     "end_time": "2023-12-05T01:23:43.704309500Z",
     "start_time": "2023-12-05T01:21:03.928275800Z"
    },
    "collapsed": false
   },
   "outputs": [
    {
     "name": "stdout",
     "output_type": "stream",
     "text": [
      "Epoch 1/15\n",
      "1837/1837 [==============================] - 4s 2ms/step - loss: 0.4991 - accuracy: 0.7481 - val_loss: 0.4574 - val_accuracy: 0.7779\n",
      "Epoch 2/15\n",
      "1837/1837 [==============================] - 3s 2ms/step - loss: 0.4575 - accuracy: 0.7754 - val_loss: 0.4502 - val_accuracy: 0.7798\n",
      "Epoch 3/15\n",
      "1837/1837 [==============================] - 3s 2ms/step - loss: 0.4532 - accuracy: 0.7792 - val_loss: 0.4503 - val_accuracy: 0.7821\n",
      "Epoch 4/15\n",
      "1837/1837 [==============================] - 3s 2ms/step - loss: 0.4504 - accuracy: 0.7797 - val_loss: 0.4462 - val_accuracy: 0.7804\n",
      "Epoch 5/15\n",
      "1837/1837 [==============================] - 3s 2ms/step - loss: 0.4493 - accuracy: 0.7810 - val_loss: 0.4451 - val_accuracy: 0.7824\n",
      "Epoch 6/15\n",
      "1837/1837 [==============================] - 4s 2ms/step - loss: 0.4484 - accuracy: 0.7812 - val_loss: 0.4495 - val_accuracy: 0.7806\n",
      "Epoch 7/15\n",
      "1837/1837 [==============================] - 4s 2ms/step - loss: 0.4480 - accuracy: 0.7823 - val_loss: 0.4510 - val_accuracy: 0.7776\n",
      "Epoch 8/15\n",
      "1837/1837 [==============================] - 3s 2ms/step - loss: 0.4467 - accuracy: 0.7817 - val_loss: 0.4413 - val_accuracy: 0.7818\n",
      "Epoch 9/15\n",
      "1837/1837 [==============================] - 4s 2ms/step - loss: 0.4468 - accuracy: 0.7818 - val_loss: 0.4409 - val_accuracy: 0.7855\n",
      "Epoch 10/15\n",
      "1837/1837 [==============================] - 4s 2ms/step - loss: 0.4461 - accuracy: 0.7828 - val_loss: 0.4469 - val_accuracy: 0.7801\n",
      "Epoch 11/15\n",
      "1833/1837 [============================>.] - ETA: 0s - loss: 0.4455 - accuracy: 0.7821"
     ]
    }
   ],
   "source": [
    "len_feature = len(df_x.columns)\n",
    "\n",
    "tf.keras.backend.clear_session()\n",
    "\n",
    "model = tf.keras.Sequential([\n",
    "    # tf.keras.layers.Input(shape=(5,)),\n",
    "    tf.keras.layers.Dense(16, activation=\"relu\"),\n",
    "    tf.keras.layers.Dense(8, activation=\"relu\"),\n",
    "    tf.keras.layers.Dense(1, activation=\"sigmoid\")\n",
    "])\n",
    "\n",
    "model.compile(optimizer=tf.keras.optimizers.Adam(), \n",
    "              loss=tf.keras.losses.BinaryCrossentropy(),\n",
    "              metrics=[\"accuracy\"])\n",
    "# col_train=[\"Age\", \"EdLevel\", \"YearsExp\", \"YearsProExp\", \"NumSkills\", \"sum_exp\"]\n",
    "col_train=[\"Age\", \"EdLevel\", \"YearsExp\", \"YearsProExp\", \"NumSkills\", \"sum_exp\"]\n",
    "history = model.fit(x_train[col_train], y_train, epochs=EPOCH, validation_data=(x_valid[col_train], y_valid))"
   ]
  },
  {
   "cell_type": "code",
   "execution_count": 28,
   "id": "c6d89dc9251e38f4",
   "metadata": {
    "ExecuteTime": {
     "end_time": "2023-12-05T01:23:44.193730900Z",
     "start_time": "2023-12-05T01:23:43.702965300Z"
    },
    "collapsed": false
   },
   "outputs": [
    {
     "data": {
      "image/png": "[encoded data removed]",
      "text/plain": [
       "<Figure size 640x480 with 1 Axes>"
      ]
     },
     "metadata": {},
     "output_type": "display_data"
    },
    {
     "data": {
      "image/png": "[encoded data removed]",
      "text/plain": [
       "<Figure size 640x480 with 1 Axes>"
      ]
     },
     "metadata": {},
     "output_type": "display_data"
    }
   ],
   "source": [
    "import matplotlib.pyplot as plt\n",
    "\n",
    "acc = history.history['accuracy']\n",
    "val_acc = history.history['val_accuracy']\n",
    "loss = history.history['loss']\n",
    "val_loss = history.history['val_loss']\n",
    "\n",
    "epochs = range(len(acc))\n",
    "\n",
    "plt.plot(epochs, acc, 'r', label='Training accuracy')\n",
    "plt.plot(epochs, val_acc, 'b', label='Validation accuracy')\n",
    "plt.title('Training and validation accuracy')\n",
    "plt.legend()\n",
    "plt.figure()\n",
    "\n",
    "plt.plot(epochs, loss, 'r', label='Training Loss')\n",
    "plt.plot(epochs, val_loss, 'b', label='Validation Loss')\n",
    "plt.title('Training and validation loss')\n",
    "plt.legend()\n",
    "\n",
    "plt.show()"
   ]
  },
  {
   "cell_type": "code",
   "execution_count": 27,
   "id": "50accbaaee714e46",
   "metadata": {
    "ExecuteTime": {
     "end_time": "2023-12-05T01:23:44.315267300Z",
     "start_time": "2023-12-05T01:23:44.196726800Z"
    },
    "collapsed": false
   },
   "outputs": [
    {
     "ename": "ValueError",
     "evalue": "in user code:\n\n    File \"/home/vincentius/.local/lib/python3.10/site-packages/keras/src/engine/training.py\", line 2440, in predict_function  *\n        return step_function(self, iterator)\n    File \"/home/vincentius/.local/lib/python3.10/site-packages/keras/src/engine/training.py\", line 2425, in step_function  **\n        outputs = model.distribute_strategy.run(run_step, args=(data,))\n    File \"/home/vincentius/.local/lib/python3.10/site-packages/keras/src/engine/training.py\", line 2413, in run_step  **\n        outputs = model.predict_step(data)\n    File \"/home/vincentius/.local/lib/python3.10/site-packages/keras/src/engine/training.py\", line 2381, in predict_step\n        return self(x, training=False)\n    File \"/home/vincentius/.local/lib/python3.10/site-packages/keras/src/utils/traceback_utils.py\", line 70, in error_handler\n        raise e.with_traceback(filtered_tb) from None\n    File \"/home/vincentius/.local/lib/python3.10/site-packages/keras/src/engine/input_spec.py\", line 280, in assert_input_compatibility\n        raise ValueError(\n\n    ValueError: Exception encountered when calling layer 'sequential' (type Sequential).\n    \n    Input 0 of layer \"dense\" is incompatible with the layer: expected axis -1 of input shape to have value 5, but received input with shape (None, 17)\n    \n    Call arguments received by layer 'sequential' (type Sequential):\n      • inputs=tf.Tensor(shape=(None, 17), dtype=float32)\n      • training=False\n      • mask=None\n",
     "output_type": "error",
     "traceback": [
      "\u001b[0;31m---------------------------------------------------------------------------\u001b[0m",
      "\u001b[0;31mValueError\u001b[0m                                Traceback (most recent call last)",
      "\u001b[1;32m/mnt/c/Users/vbwpr/Documents/Project/Bangkit/hAIre/Machine Learning/Employment Model/model.ipynb Cell 9\u001b[0m line \u001b[0;36m1\n\u001b[0;32m----> <a href='vscode-notebook-cell://wsl%2Bubuntu/mnt/c/Users/vbwpr/Documents/Project/Bangkit/hAIre/Machine%20Learning/Employment%20Model/model.ipynb#X11sdnNjb2RlLXJlbW90ZQ%3D%3D?line=0'>1</a>\u001b[0m model\u001b[39m.\u001b[39;49mpredict([[\u001b[39m1\u001b[39;49m,\u001b[39m0\u001b[39;49m,\u001b[39m1\u001b[39;49m,\u001b[39m0\u001b[39;49m,\u001b[39m1\u001b[39;49m,\u001b[39m0\u001b[39;49m,\u001b[39m0\u001b[39;49m,\u001b[39m1\u001b[39;49m,\u001b[39m0\u001b[39;49m,\u001b[39m1\u001b[39;49m,\u001b[39m0\u001b[39;49m,\u001b[39m4\u001b[39;49m,\u001b[39m1\u001b[39;49m,\u001b[39m0.14\u001b[39;49m,\u001b[39m0.08\u001b[39;49m,\u001b[39m0.230139\u001b[39;49m,\u001b[39m0.037383\u001b[39;49m]])\n",
      "File \u001b[0;32m~/.local/lib/python3.10/site-packages/keras/src/utils/traceback_utils.py:70\u001b[0m, in \u001b[0;36mfilter_traceback.<locals>.error_handler\u001b[0;34m(*args, **kwargs)\u001b[0m\n\u001b[1;32m     67\u001b[0m     filtered_tb \u001b[39m=\u001b[39m _process_traceback_frames(e\u001b[39m.\u001b[39m__traceback__)\n\u001b[1;32m     68\u001b[0m     \u001b[39m# To get the full stack trace, call:\u001b[39;00m\n\u001b[1;32m     69\u001b[0m     \u001b[39m# `tf.debugging.disable_traceback_filtering()`\u001b[39;00m\n\u001b[0;32m---> 70\u001b[0m     \u001b[39mraise\u001b[39;00m e\u001b[39m.\u001b[39mwith_traceback(filtered_tb) \u001b[39mfrom\u001b[39;00m \u001b[39mNone\u001b[39;00m\n\u001b[1;32m     71\u001b[0m \u001b[39mfinally\u001b[39;00m:\n\u001b[1;32m     72\u001b[0m     \u001b[39mdel\u001b[39;00m filtered_tb\n",
      "File \u001b[0;32m/tmp/__autograph_generated_filea3ds7jmp.py:15\u001b[0m, in \u001b[0;36mouter_factory.<locals>.inner_factory.<locals>.tf__predict_function\u001b[0;34m(iterator)\u001b[0m\n\u001b[1;32m     13\u001b[0m \u001b[39mtry\u001b[39;00m:\n\u001b[1;32m     14\u001b[0m     do_return \u001b[39m=\u001b[39m \u001b[39mTrue\u001b[39;00m\n\u001b[0;32m---> 15\u001b[0m     retval_ \u001b[39m=\u001b[39m ag__\u001b[39m.\u001b[39mconverted_call(ag__\u001b[39m.\u001b[39mld(step_function), (ag__\u001b[39m.\u001b[39mld(\u001b[39mself\u001b[39m), ag__\u001b[39m.\u001b[39mld(iterator)), \u001b[39mNone\u001b[39;00m, fscope)\n\u001b[1;32m     16\u001b[0m \u001b[39mexcept\u001b[39;00m:\n\u001b[1;32m     17\u001b[0m     do_return \u001b[39m=\u001b[39m \u001b[39mFalse\u001b[39;00m\n",
      "\u001b[0;31mValueError\u001b[0m: in user code:\n\n    File \"/home/vincentius/.local/lib/python3.10/site-packages/keras/src/engine/training.py\", line 2440, in predict_function  *\n        return step_function(self, iterator)\n    File \"/home/vincentius/.local/lib/python3.10/site-packages/keras/src/engine/training.py\", line 2425, in step_function  **\n        outputs = model.distribute_strategy.run(run_step, args=(data,))\n    File \"/home/vincentius/.local/lib/python3.10/site-packages/keras/src/engine/training.py\", line 2413, in run_step  **\n        outputs = model.predict_step(data)\n    File \"/home/vincentius/.local/lib/python3.10/site-packages/keras/src/engine/training.py\", line 2381, in predict_step\n        return self(x, training=False)\n    File \"/home/vincentius/.local/lib/python3.10/site-packages/keras/src/utils/traceback_utils.py\", line 70, in error_handler\n        raise e.with_traceback(filtered_tb) from None\n    File \"/home/vincentius/.local/lib/python3.10/site-packages/keras/src/engine/input_spec.py\", line 280, in assert_input_compatibility\n        raise ValueError(\n\n    ValueError: Exception encountered when calling layer 'sequential' (type Sequential).\n    \n    Input 0 of layer \"dense\" is incompatible with the layer: expected axis -1 of input shape to have value 5, but received input with shape (None, 17)\n    \n    Call arguments received by layer 'sequential' (type Sequential):\n      • inputs=tf.Tensor(shape=(None, 17), dtype=float32)\n      • training=False\n      • mask=None\n"
     ]
    }
   ],
   "source": [
    "model.predict([[1,0,1,0,1,0,0,1,0,1,0,4,1,0.14,0.08,0.230139,0.037383]])"
   ]
  },
  {
   "cell_type": "code",
   "execution_count": null,
   "id": "79507c8ce520402b",
   "metadata": {
    "collapsed": false
   },
   "outputs": [],
   "source": []
  }
 ],
 "metadata": {
  "kernelspec": {
   "display_name": "Python 3",
   "language": "python",
   "name": "python3"
  },
  "language_info": {
   "codemirror_mode": {
    "name": "ipython",
    "version": 3
   },
   "file_extension": ".py",
   "mimetype": "text/x-python",
   "name": "python",
   "nbconvert_exporter": "python",
   "pygments_lexer": "ipython3",
   "version": "3.10.12"
  }
 },
 "nbformat": 4,
 "nbformat_minor": 5
}
