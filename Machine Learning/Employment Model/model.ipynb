{
 "cells": [
  {
   "cell_type": "code",
   "execution_count": 1,
   "id": "initial_id",
   "metadata": {
    "ExecuteTime": {
     "end_time": "2023-12-05T01:20:55.371475500Z",
     "start_time": "2023-12-05T01:20:52.295238400Z"
    },
    "collapsed": true
   },
   "outputs": [
    {
     "name": "stderr",
     "output_type": "stream",
     "text": [
      "2023-12-05 09:33:00.423090: I tensorflow/core/util/port.cc:113] oneDNN custom operations are on. You may see slightly different numerical results due to floating-point round-off errors from different computation orders. To turn them off, set the environment variable `TF_ENABLE_ONEDNN_OPTS=0`.\n",
      "2023-12-05 09:33:00.883862: E external/local_xla/xla/stream_executor/cuda/cuda_dnn.cc:9261] Unable to register cuDNN factory: Attempting to register factory for plugin cuDNN when one has already been registered\n",
      "2023-12-05 09:33:00.883967: E external/local_xla/xla/stream_executor/cuda/cuda_fft.cc:607] Unable to register cuFFT factory: Attempting to register factory for plugin cuFFT when one has already been registered\n",
      "2023-12-05 09:33:00.939121: E external/local_xla/xla/stream_executor/cuda/cuda_blas.cc:1515] Unable to register cuBLAS factory: Attempting to register factory for plugin cuBLAS when one has already been registered\n",
      "2023-12-05 09:33:01.233359: I tensorflow/core/platform/cpu_feature_guard.cc:182] This TensorFlow binary is optimized to use available CPU instructions in performance-critical operations.\n",
      "To enable the following instructions: AVX2 AVX512F AVX512_VNNI FMA, in other operations, rebuild TensorFlow with the appropriate compiler flags.\n",
      "2023-12-05 09:33:04.252807: W tensorflow/compiler/tf2tensorrt/utils/py_utils.cc:38] TF-TRT Warning: Could not find TensorRT\n"
     ]
    }
   ],
   "source": [
    "import tensorflow as tf\n",
    "import pandas as pd\n",
    "from sklearn.model_selection import train_test_split"
   ]
  },
  {
   "cell_type": "code",
   "execution_count": 2,
   "id": "d09446fa63c95b89",
   "metadata": {
    "ExecuteTime": {
     "end_time": "2023-12-05T01:20:55.429406500Z",
     "start_time": "2023-12-05T01:20:55.373844100Z"
    },
    "collapsed": false
   },
   "outputs": [
    {
     "data": {
      "text/html": [
       "<div>\n",
       "<style scoped>\n",
       "    .dataframe tbody tr th:only-of-type {\n",
       "        vertical-align: middle;\n",
       "    }\n",
       "\n",
       "    .dataframe tbody tr th {\n",
       "        vertical-align: top;\n",
       "    }\n",
       "\n",
       "    .dataframe thead th {\n",
       "        text-align: right;\n",
       "    }\n",
       "</style>\n",
       "<table border=\"1\" class=\"dataframe\">\n",
       "  <thead>\n",
       "    <tr style=\"text-align: right;\">\n",
       "      <th></th>\n",
       "      <th>Age</th>\n",
       "      <th>EdLevel</th>\n",
       "      <th>YearsExp</th>\n",
       "      <th>YearsProExp</th>\n",
       "      <th>PreviousSalary</th>\n",
       "      <th>NumSkills</th>\n",
       "      <th>Employed</th>\n",
       "    </tr>\n",
       "  </thead>\n",
       "  <tbody>\n",
       "    <tr>\n",
       "      <th>0</th>\n",
       "      <td>0</td>\n",
       "      <td>4</td>\n",
       "      <td>7</td>\n",
       "      <td>4</td>\n",
       "      <td>51552</td>\n",
       "      <td>4</td>\n",
       "      <td>0</td>\n",
       "    </tr>\n",
       "    <tr>\n",
       "      <th>1</th>\n",
       "      <td>0</td>\n",
       "      <td>3</td>\n",
       "      <td>12</td>\n",
       "      <td>5</td>\n",
       "      <td>46482</td>\n",
       "      <td>12</td>\n",
       "      <td>1</td>\n",
       "    </tr>\n",
       "    <tr>\n",
       "      <th>2</th>\n",
       "      <td>0</td>\n",
       "      <td>4</td>\n",
       "      <td>15</td>\n",
       "      <td>6</td>\n",
       "      <td>77290</td>\n",
       "      <td>7</td>\n",
       "      <td>0</td>\n",
       "    </tr>\n",
       "    <tr>\n",
       "      <th>3</th>\n",
       "      <td>0</td>\n",
       "      <td>3</td>\n",
       "      <td>9</td>\n",
       "      <td>6</td>\n",
       "      <td>46135</td>\n",
       "      <td>13</td>\n",
       "      <td>0</td>\n",
       "    </tr>\n",
       "    <tr>\n",
       "      <th>4</th>\n",
       "      <td>1</td>\n",
       "      <td>5</td>\n",
       "      <td>40</td>\n",
       "      <td>30</td>\n",
       "      <td>160932</td>\n",
       "      <td>2</td>\n",
       "      <td>0</td>\n",
       "    </tr>\n",
       "    <tr>\n",
       "      <th>5</th>\n",
       "      <td>0</td>\n",
       "      <td>4</td>\n",
       "      <td>9</td>\n",
       "      <td>2</td>\n",
       "      <td>38915</td>\n",
       "      <td>5</td>\n",
       "      <td>0</td>\n",
       "    </tr>\n",
       "    <tr>\n",
       "      <th>6</th>\n",
       "      <td>1</td>\n",
       "      <td>4</td>\n",
       "      <td>26</td>\n",
       "      <td>18</td>\n",
       "      <td>77831</td>\n",
       "      <td>17</td>\n",
       "      <td>1</td>\n",
       "    </tr>\n",
       "    <tr>\n",
       "      <th>7</th>\n",
       "      <td>0</td>\n",
       "      <td>4</td>\n",
       "      <td>14</td>\n",
       "      <td>5</td>\n",
       "      <td>81319</td>\n",
       "      <td>4</td>\n",
       "      <td>0</td>\n",
       "    </tr>\n",
       "    <tr>\n",
       "      <th>8</th>\n",
       "      <td>1</td>\n",
       "      <td>3</td>\n",
       "      <td>39</td>\n",
       "      <td>21</td>\n",
       "      <td>68507</td>\n",
       "      <td>3</td>\n",
       "      <td>0</td>\n",
       "    </tr>\n",
       "    <tr>\n",
       "      <th>9</th>\n",
       "      <td>1</td>\n",
       "      <td>4</td>\n",
       "      <td>20</td>\n",
       "      <td>16</td>\n",
       "      <td>37752</td>\n",
       "      <td>6</td>\n",
       "      <td>0</td>\n",
       "    </tr>\n",
       "  </tbody>\n",
       "</table>\n",
       "</div>"
      ],
      "text/plain": [
       "   Age  EdLevel  YearsExp  YearsProExp  PreviousSalary  NumSkills  Employed\n",
       "0    0        4         7            4           51552          4         0\n",
       "1    0        3        12            5           46482         12         1\n",
       "2    0        4        15            6           77290          7         0\n",
       "3    0        3         9            6           46135         13         0\n",
       "4    1        5        40           30          160932          2         0\n",
       "5    0        4         9            2           38915          5         0\n",
       "6    1        4        26           18           77831         17         1\n",
       "7    0        4        14            5           81319          4         0\n",
       "8    1        3        39           21           68507          3         0\n",
       "9    1        4        20           16           37752          6         0"
      ]
     },
     "execution_count": 2,
     "metadata": {},
     "output_type": "execute_result"
    }
   ],
   "source": [
    "data = pd.read_csv(\"preprocessing.csv\", index_col=0)\n",
    "data.head(10)"
   ]
  },
  {
   "cell_type": "code",
   "execution_count": 3,
   "id": "2aa7d2f4a91acdb1",
   "metadata": {
    "ExecuteTime": {
     "end_time": "2023-12-05T01:20:58.452818400Z",
     "start_time": "2023-12-05T01:20:58.436094800Z"
    },
    "collapsed": false
   },
   "outputs": [
    {
     "data": {
      "text/html": [
       "<div>\n",
       "<style scoped>\n",
       "    .dataframe tbody tr th:only-of-type {\n",
       "        vertical-align: middle;\n",
       "    }\n",
       "\n",
       "    .dataframe tbody tr th {\n",
       "        vertical-align: top;\n",
       "    }\n",
       "\n",
       "    .dataframe thead th {\n",
       "        text-align: right;\n",
       "    }\n",
       "</style>\n",
       "<table border=\"1\" class=\"dataframe\">\n",
       "  <thead>\n",
       "    <tr style=\"text-align: right;\">\n",
       "      <th></th>\n",
       "      <th>Age</th>\n",
       "      <th>EdLevel</th>\n",
       "      <th>YearsExp</th>\n",
       "      <th>YearsProExp</th>\n",
       "      <th>PreviousSalary</th>\n",
       "      <th>NumSkills</th>\n",
       "      <th>sum_exp</th>\n",
       "    </tr>\n",
       "  </thead>\n",
       "  <tbody>\n",
       "    <tr>\n",
       "      <th>0</th>\n",
       "      <td>0</td>\n",
       "      <td>4</td>\n",
       "      <td>7</td>\n",
       "      <td>4</td>\n",
       "      <td>51552</td>\n",
       "      <td>4</td>\n",
       "      <td>11</td>\n",
       "    </tr>\n",
       "    <tr>\n",
       "      <th>1</th>\n",
       "      <td>0</td>\n",
       "      <td>3</td>\n",
       "      <td>12</td>\n",
       "      <td>5</td>\n",
       "      <td>46482</td>\n",
       "      <td>12</td>\n",
       "      <td>17</td>\n",
       "    </tr>\n",
       "    <tr>\n",
       "      <th>2</th>\n",
       "      <td>0</td>\n",
       "      <td>4</td>\n",
       "      <td>15</td>\n",
       "      <td>6</td>\n",
       "      <td>77290</td>\n",
       "      <td>7</td>\n",
       "      <td>21</td>\n",
       "    </tr>\n",
       "    <tr>\n",
       "      <th>3</th>\n",
       "      <td>0</td>\n",
       "      <td>3</td>\n",
       "      <td>9</td>\n",
       "      <td>6</td>\n",
       "      <td>46135</td>\n",
       "      <td>13</td>\n",
       "      <td>15</td>\n",
       "    </tr>\n",
       "    <tr>\n",
       "      <th>4</th>\n",
       "      <td>1</td>\n",
       "      <td>5</td>\n",
       "      <td>40</td>\n",
       "      <td>30</td>\n",
       "      <td>160932</td>\n",
       "      <td>2</td>\n",
       "      <td>70</td>\n",
       "    </tr>\n",
       "    <tr>\n",
       "      <th>5</th>\n",
       "      <td>0</td>\n",
       "      <td>4</td>\n",
       "      <td>9</td>\n",
       "      <td>2</td>\n",
       "      <td>38915</td>\n",
       "      <td>5</td>\n",
       "      <td>11</td>\n",
       "    </tr>\n",
       "    <tr>\n",
       "      <th>6</th>\n",
       "      <td>1</td>\n",
       "      <td>4</td>\n",
       "      <td>26</td>\n",
       "      <td>18</td>\n",
       "      <td>77831</td>\n",
       "      <td>17</td>\n",
       "      <td>44</td>\n",
       "    </tr>\n",
       "    <tr>\n",
       "      <th>7</th>\n",
       "      <td>0</td>\n",
       "      <td>4</td>\n",
       "      <td>14</td>\n",
       "      <td>5</td>\n",
       "      <td>81319</td>\n",
       "      <td>4</td>\n",
       "      <td>19</td>\n",
       "    </tr>\n",
       "    <tr>\n",
       "      <th>8</th>\n",
       "      <td>1</td>\n",
       "      <td>3</td>\n",
       "      <td>39</td>\n",
       "      <td>21</td>\n",
       "      <td>68507</td>\n",
       "      <td>3</td>\n",
       "      <td>60</td>\n",
       "    </tr>\n",
       "    <tr>\n",
       "      <th>9</th>\n",
       "      <td>1</td>\n",
       "      <td>4</td>\n",
       "      <td>20</td>\n",
       "      <td>16</td>\n",
       "      <td>37752</td>\n",
       "      <td>6</td>\n",
       "      <td>36</td>\n",
       "    </tr>\n",
       "  </tbody>\n",
       "</table>\n",
       "</div>"
      ],
      "text/plain": [
       "   Age  EdLevel  YearsExp  YearsProExp  PreviousSalary  NumSkills  sum_exp\n",
       "0    0        4         7            4           51552          4       11\n",
       "1    0        3        12            5           46482         12       17\n",
       "2    0        4        15            6           77290          7       21\n",
       "3    0        3         9            6           46135         13       15\n",
       "4    1        5        40           30          160932          2       70\n",
       "5    0        4         9            2           38915          5       11\n",
       "6    1        4        26           18           77831         17       44\n",
       "7    0        4        14            5           81319          4       19\n",
       "8    1        3        39           21           68507          3       60\n",
       "9    1        4        20           16           37752          6       36"
      ]
     },
     "execution_count": 3,
     "metadata": {},
     "output_type": "execute_result"
    }
   ],
   "source": [
    "df_x = data[[\"Age\", \"EdLevel\", \"YearsExp\", \"YearsProExp\", \"PreviousSalary\", \"NumSkills\"]]\n",
    "df_x['sum_exp']=df_x[\"YearsExp\"]+df_x[\"YearsProExp\"]\n",
    "df_x.head(10)"
   ]
  },
  {
   "cell_type": "code",
   "execution_count": 4,
   "id": "c09ca0a7cc83bd9a",
   "metadata": {
    "ExecuteTime": {
     "end_time": "2023-12-05T01:21:00.642374400Z",
     "start_time": "2023-12-05T01:21:00.604517500Z"
    },
    "collapsed": false
   },
   "outputs": [
    {
     "data": {
      "text/html": [
       "<div>\n",
       "<style scoped>\n",
       "    .dataframe tbody tr th:only-of-type {\n",
       "        vertical-align: middle;\n",
       "    }\n",
       "\n",
       "    .dataframe tbody tr th {\n",
       "        vertical-align: top;\n",
       "    }\n",
       "\n",
       "    .dataframe thead th {\n",
       "        text-align: right;\n",
       "    }\n",
       "</style>\n",
       "<table border=\"1\" class=\"dataframe\">\n",
       "  <thead>\n",
       "    <tr style=\"text-align: right;\">\n",
       "      <th></th>\n",
       "      <th>Employed</th>\n",
       "    </tr>\n",
       "  </thead>\n",
       "  <tbody>\n",
       "    <tr>\n",
       "      <th>0</th>\n",
       "      <td>0</td>\n",
       "    </tr>\n",
       "    <tr>\n",
       "      <th>1</th>\n",
       "      <td>1</td>\n",
       "    </tr>\n",
       "    <tr>\n",
       "      <th>2</th>\n",
       "      <td>0</td>\n",
       "    </tr>\n",
       "    <tr>\n",
       "      <th>3</th>\n",
       "      <td>0</td>\n",
       "    </tr>\n",
       "    <tr>\n",
       "      <th>4</th>\n",
       "      <td>0</td>\n",
       "    </tr>\n",
       "    <tr>\n",
       "      <th>5</th>\n",
       "      <td>0</td>\n",
       "    </tr>\n",
       "    <tr>\n",
       "      <th>6</th>\n",
       "      <td>1</td>\n",
       "    </tr>\n",
       "    <tr>\n",
       "      <th>7</th>\n",
       "      <td>0</td>\n",
       "    </tr>\n",
       "    <tr>\n",
       "      <th>8</th>\n",
       "      <td>0</td>\n",
       "    </tr>\n",
       "    <tr>\n",
       "      <th>9</th>\n",
       "      <td>0</td>\n",
       "    </tr>\n",
       "  </tbody>\n",
       "</table>\n",
       "</div>"
      ],
      "text/plain": [
       "   Employed\n",
       "0         0\n",
       "1         1\n",
       "2         0\n",
       "3         0\n",
       "4         0\n",
       "5         0\n",
       "6         1\n",
       "7         0\n",
       "8         0\n",
       "9         0"
      ]
     },
     "execution_count": 4,
     "metadata": {},
     "output_type": "execute_result"
    }
   ],
   "source": [
    "df_y = data[[\"Employed\"]]\n",
    "df_y.head(10)"
   ]
  },
  {
   "cell_type": "code",
   "execution_count": 11,
   "id": "9abce8fb1ac44f56",
   "metadata": {
    "ExecuteTime": {
     "end_time": "2023-12-05T01:21:02.168935900Z",
     "start_time": "2023-12-05T01:21:02.101109500Z"
    },
    "collapsed": false
   },
   "outputs": [
    {
     "name": "stdout",
     "output_type": "stream",
     "text": [
      "Data before splitting: 73462\n",
      "Train data: 58769\n",
      "Validation data: 14693\n"
     ]
    }
   ],
   "source": [
    "x_train, x_valid, y_train, y_valid = train_test_split(df_x, df_y, test_size=0.2, random_state=4)\n",
    "\n",
    "print(f\"Data before splitting: {len(df_x)}\")\n",
    "print(f\"Train data: {len(x_train)}\")\n",
    "print(f\"Validation data: {len(x_valid)}\")"
   ]
  },
  {
   "cell_type": "code",
   "execution_count": 12,
   "id": "bcc99801cb5f9e4c",
   "metadata": {
    "ExecuteTime": {
     "end_time": "2023-12-05T01:21:03.265506500Z",
     "start_time": "2023-12-05T01:21:03.256006100Z"
    },
    "collapsed": false
   },
   "outputs": [],
   "source": [
    "EPOCH = 15\n",
    "LEARNING_RATE = 1e-3"
   ]
  },
  {
   "cell_type": "code",
   "execution_count": 15,
   "id": "9b5f55f4313cc65e",
   "metadata": {
    "ExecuteTime": {
     "end_time": "2023-12-05T01:23:43.704309500Z",
     "start_time": "2023-12-05T01:21:03.928275800Z"
    },
    "collapsed": false
   },
   "outputs": [
    {
     "name": "stdout",
     "output_type": "stream",
     "text": [
      "Epoch 1/15\n",
      "1837/1837 [==============================] - 14s 7ms/step - loss: 0.5543 - accuracy: 0.7159 - val_loss: 0.4849 - val_accuracy: 0.7797\n",
      "Epoch 2/15\n",
      "1837/1837 [==============================] - 13s 7ms/step - loss: 0.4680 - accuracy: 0.7821 - val_loss: 0.4597 - val_accuracy: 0.7842\n",
      "Epoch 3/15\n",
      "1837/1837 [==============================] - 12s 7ms/step - loss: 0.4567 - accuracy: 0.7808 - val_loss: 0.4548 - val_accuracy: 0.7838\n",
      "Epoch 4/15\n",
      "1837/1837 [==============================] - 12s 7ms/step - loss: 0.4532 - accuracy: 0.7822 - val_loss: 0.4505 - val_accuracy: 0.7806\n",
      "Epoch 5/15\n",
      "1837/1837 [==============================] - 12s 7ms/step - loss: 0.4518 - accuracy: 0.7817 - val_loss: 0.4495 - val_accuracy: 0.7847\n",
      "Epoch 6/15\n",
      "1837/1837 [==============================] - 12s 7ms/step - loss: 0.4509 - accuracy: 0.7814 - val_loss: 0.4507 - val_accuracy: 0.7784\n",
      "Epoch 7/15\n",
      "1837/1837 [==============================] - 12s 7ms/step - loss: 0.4506 - accuracy: 0.7819 - val_loss: 0.4478 - val_accuracy: 0.7812\n",
      "Epoch 8/15\n",
      "1837/1837 [==============================] - 12s 7ms/step - loss: 0.4503 - accuracy: 0.7813 - val_loss: 0.4473 - val_accuracy: 0.7831\n",
      "Epoch 9/15\n",
      "1837/1837 [==============================] - 13s 7ms/step - loss: 0.4501 - accuracy: 0.7819 - val_loss: 0.4470 - val_accuracy: 0.7837\n",
      "Epoch 10/15\n",
      "1837/1837 [==============================] - 12s 7ms/step - loss: 0.4498 - accuracy: 0.7818 - val_loss: 0.4477 - val_accuracy: 0.7811\n",
      "Epoch 11/15\n",
      "1837/1837 [==============================] - 12s 7ms/step - loss: 0.4497 - accuracy: 0.7816 - val_loss: 0.4469 - val_accuracy: 0.7812\n",
      "Epoch 12/15\n",
      "1837/1837 [==============================] - 13s 7ms/step - loss: 0.4489 - accuracy: 0.7821 - val_loss: 0.4475 - val_accuracy: 0.7860\n",
      "Epoch 13/15\n",
      "1837/1837 [==============================] - 13s 7ms/step - loss: 0.4482 - accuracy: 0.7827 - val_loss: 0.4451 - val_accuracy: 0.7836\n",
      "Epoch 14/15\n",
      "1837/1837 [==============================] - 13s 7ms/step - loss: 0.4474 - accuracy: 0.7826 - val_loss: 0.4444 - val_accuracy: 0.7840\n",
      "Epoch 15/15\n",
      "1837/1837 [==============================] - 12s 7ms/step - loss: 0.4471 - accuracy: 0.7832 - val_loss: 0.4444 - val_accuracy: 0.7828\n"
     ]
    }
   ],
   "source": [
    "len_feature = len(df_x.columns)\n",
    "\n",
    "tf.keras.backend.clear_session()\n",
    "\n",
    "model = tf.keras.Sequential([\n",
    "    tf.keras.layers.Input(shape=(4,)),\n",
    "    tf.keras.layers.Dense(8, activation=\"relu\"),\n",
    "    tf.keras.layers.Dense(4, activation=\"relu\"),\n",
    "    tf.keras.layers.Dense(1, activation=\"sigmoid\")\n",
    "])\n",
    "\n",
    "model.compile(optimizer=tf.keras.optimizers.Adam(), \n",
    "              loss=tf.keras.losses.BinaryCrossentropy(),\n",
    "              metrics=[\"accuracy\"])\n",
    "# col_train=[\"Age\", \"EdLevel\", \"YearsExp\", \"YearsProExp\", \"NumSkills\", \"sum_exp\"]\n",
    "col_train=[\"Age\", \"EdLevel\", \"NumSkills\", \"sum_exp\"]\n",
    "history = model.fit(x_train[col_train], y_train, epochs=EPOCH, validation_data=(x_valid[col_train], y_valid))"
   ]
  },
  {
   "cell_type": "code",
   "execution_count": 16,
   "id": "c6d89dc9251e38f4",
   "metadata": {
    "ExecuteTime": {
     "end_time": "2023-12-05T01:23:44.193730900Z",
     "start_time": "2023-12-05T01:23:43.702965300Z"
    },
    "collapsed": false
   },
   "outputs": [
    {
     "data": {
      "image/png": "[encoded data removed]",
      "text/plain": [
       "<Figure size 640x480 with 1 Axes>"
      ]
     },
     "metadata": {},
     "output_type": "display_data"
    },
    {
     "data": {
      "image/png": "[encoded data removed]",
      "text/plain": [
       "<Figure size 640x480 with 1 Axes>"
      ]
     },
     "metadata": {},
     "output_type": "display_data"
    }
   ],
   "source": [
    "import matplotlib.pyplot as plt\n",
    "\n",
    "acc = history.history['accuracy']\n",
    "val_acc = history.history['val_accuracy']\n",
    "loss = history.history['loss']\n",
    "val_loss = history.history['val_loss']\n",
    "\n",
    "epochs = range(len(acc))\n",
    "\n",
    "plt.plot(epochs, acc, 'r', label='Training accuracy')\n",
    "plt.plot(epochs, val_acc, 'b', label='Validation accuracy')\n",
    "plt.title('Training and validation accuracy')\n",
    "plt.legend()\n",
    "plt.figure()\n",
    "\n",
    "plt.plot(epochs, loss, 'r', label='Training Loss')\n",
    "plt.plot(epochs, val_loss, 'b', label='Validation Loss')\n",
    "plt.title('Training and validation loss')\n",
    "plt.legend()\n",
    "\n",
    "plt.show()"
   ]
  },
  {
   "cell_type": "code",
   "execution_count": 19,
   "id": "50accbaaee714e46",
   "metadata": {
    "ExecuteTime": {
     "end_time": "2023-12-05T01:23:44.315267300Z",
     "start_time": "2023-12-05T01:23:44.196726800Z"
    },
    "collapsed": false
   },
   "outputs": [],
   "source": [
    "saved_model = \"model.h5\"\n",
    "model.save(saved_model)"
   ]
  },
  {
   "cell_type": "code",
   "execution_count": null,
   "id": "79507c8ce520402b",
   "metadata": {
    "collapsed": false
   },
   "outputs": [],
   "source": []
  }
 ],
 "metadata": {
  "kernelspec": {
   "display_name": "Python 3",
   "language": "python",
   "name": "python3"
  },
  "language_info": {
   "codemirror_mode": {
    "name": "ipython",
    "version": 3
   },
   "file_extension": ".py",
   "mimetype": "text/x-python",
   "name": "python",
   "nbconvert_exporter": "python",
   "pygments_lexer": "ipython3",
   "version": "3.0.0"
  }
 },
 "nbformat": 4,
 "nbformat_minor": 5
}
