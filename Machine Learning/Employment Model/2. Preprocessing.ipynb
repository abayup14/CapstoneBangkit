{
 "cells": [
  {
   "cell_type": "code",
   "execution_count": 1,
   "metadata": {
    "ExecuteTime": {
     "end_time": "2023-12-05T03:58:19.462507Z",
     "start_time": "2023-12-05T03:58:19.205949800Z"
    }
   },
   "outputs": [],
   "source": [
    "import pandas as pd"
   ]
  },
  {
   "cell_type": "code",
   "execution_count": 2,
   "metadata": {
    "ExecuteTime": {
     "end_time": "2023-12-05T03:58:20.569390600Z",
     "start_time": "2023-12-05T03:58:20.456776400Z"
    }
   },
   "outputs": [
    {
     "data": {
      "text/plain": "   Age Accessibility        EdLevel  Employment MentalHealth MainBranch  \\\n0  <35            No         Master           1           No        Dev   \n1  <35            No  Undergraduate           1           No        Dev   \n2  <35            No         Master           1           No        Dev   \n3  <35            No  Undergraduate           1           No        Dev   \n4  >35            No            PhD           0           No     NotDev   \n5  <35            No         Master           1           No        Dev   \n6  >35            No         Master           1           No        Dev   \n7  <35            No         Master           1           No     NotDev   \n8  >35            No  Undergraduate           1           No        Dev   \n9  >35            No         Master           1           No        Dev   \n\n   YearsExp  YearsProExp  PreviousSalary  NumSkills  Employed  \n0         7            4           51552          4         0  \n1        12            5           46482         12         1  \n2        15            6           77290          7         0  \n3         9            6           46135         13         0  \n4        40           30          160932          2         0  \n5         9            2           38915          5         0  \n6        26           18           77831         17         1  \n7        14            5           81319          4         0  \n8        39           21           68507          3         0  \n9        20           16           37752          6         0  ",
      "text/html": "<div>\n<style scoped>\n    .dataframe tbody tr th:only-of-type {\n        vertical-align: middle;\n    }\n\n    .dataframe tbody tr th {\n        vertical-align: top;\n    }\n\n    .dataframe thead th {\n        text-align: right;\n    }\n</style>\n<table border=\"1\" class=\"dataframe\">\n  <thead>\n    <tr style=\"text-align: right;\">\n      <th></th>\n      <th>Age</th>\n      <th>Accessibility</th>\n      <th>EdLevel</th>\n      <th>Employment</th>\n      <th>MentalHealth</th>\n      <th>MainBranch</th>\n      <th>YearsExp</th>\n      <th>YearsProExp</th>\n      <th>PreviousSalary</th>\n      <th>NumSkills</th>\n      <th>Employed</th>\n    </tr>\n  </thead>\n  <tbody>\n    <tr>\n      <th>0</th>\n      <td>&lt;35</td>\n      <td>No</td>\n      <td>Master</td>\n      <td>1</td>\n      <td>No</td>\n      <td>Dev</td>\n      <td>7</td>\n      <td>4</td>\n      <td>51552</td>\n      <td>4</td>\n      <td>0</td>\n    </tr>\n    <tr>\n      <th>1</th>\n      <td>&lt;35</td>\n      <td>No</td>\n      <td>Undergraduate</td>\n      <td>1</td>\n      <td>No</td>\n      <td>Dev</td>\n      <td>12</td>\n      <td>5</td>\n      <td>46482</td>\n      <td>12</td>\n      <td>1</td>\n    </tr>\n    <tr>\n      <th>2</th>\n      <td>&lt;35</td>\n      <td>No</td>\n      <td>Master</td>\n      <td>1</td>\n      <td>No</td>\n      <td>Dev</td>\n      <td>15</td>\n      <td>6</td>\n      <td>77290</td>\n      <td>7</td>\n      <td>0</td>\n    </tr>\n    <tr>\n      <th>3</th>\n      <td>&lt;35</td>\n      <td>No</td>\n      <td>Undergraduate</td>\n      <td>1</td>\n      <td>No</td>\n      <td>Dev</td>\n      <td>9</td>\n      <td>6</td>\n      <td>46135</td>\n      <td>13</td>\n      <td>0</td>\n    </tr>\n    <tr>\n      <th>4</th>\n      <td>&gt;35</td>\n      <td>No</td>\n      <td>PhD</td>\n      <td>0</td>\n      <td>No</td>\n      <td>NotDev</td>\n      <td>40</td>\n      <td>30</td>\n      <td>160932</td>\n      <td>2</td>\n      <td>0</td>\n    </tr>\n    <tr>\n      <th>5</th>\n      <td>&lt;35</td>\n      <td>No</td>\n      <td>Master</td>\n      <td>1</td>\n      <td>No</td>\n      <td>Dev</td>\n      <td>9</td>\n      <td>2</td>\n      <td>38915</td>\n      <td>5</td>\n      <td>0</td>\n    </tr>\n    <tr>\n      <th>6</th>\n      <td>&gt;35</td>\n      <td>No</td>\n      <td>Master</td>\n      <td>1</td>\n      <td>No</td>\n      <td>Dev</td>\n      <td>26</td>\n      <td>18</td>\n      <td>77831</td>\n      <td>17</td>\n      <td>1</td>\n    </tr>\n    <tr>\n      <th>7</th>\n      <td>&lt;35</td>\n      <td>No</td>\n      <td>Master</td>\n      <td>1</td>\n      <td>No</td>\n      <td>NotDev</td>\n      <td>14</td>\n      <td>5</td>\n      <td>81319</td>\n      <td>4</td>\n      <td>0</td>\n    </tr>\n    <tr>\n      <th>8</th>\n      <td>&gt;35</td>\n      <td>No</td>\n      <td>Undergraduate</td>\n      <td>1</td>\n      <td>No</td>\n      <td>Dev</td>\n      <td>39</td>\n      <td>21</td>\n      <td>68507</td>\n      <td>3</td>\n      <td>0</td>\n    </tr>\n    <tr>\n      <th>9</th>\n      <td>&gt;35</td>\n      <td>No</td>\n      <td>Master</td>\n      <td>1</td>\n      <td>No</td>\n      <td>Dev</td>\n      <td>20</td>\n      <td>16</td>\n      <td>37752</td>\n      <td>6</td>\n      <td>0</td>\n    </tr>\n  </tbody>\n</table>\n</div>"
     },
     "execution_count": 2,
     "metadata": {},
     "output_type": "execute_result"
    }
   ],
   "source": [
    "df_feature_x = pd.read_csv(\"EDA.csv\", index_col=0)\n",
    "df_feature_x.head(10)"
   ]
  },
  {
   "cell_type": "code",
   "execution_count": 3,
   "metadata": {
    "collapsed": false,
    "ExecuteTime": {
     "end_time": "2023-12-05T03:58:21.776987700Z",
     "start_time": "2023-12-05T03:58:21.763993300Z"
    }
   },
   "outputs": [
    {
     "data": {
      "text/plain": "   Age        EdLevel  YearsExp  YearsProExp  PreviousSalary  NumSkills  \\\n0  <35         Master         7            4           51552          4   \n1  <35  Undergraduate        12            5           46482         12   \n2  <35         Master        15            6           77290          7   \n3  <35  Undergraduate         9            6           46135         13   \n4  >35            PhD        40           30          160932          2   \n5  <35         Master         9            2           38915          5   \n6  >35         Master        26           18           77831         17   \n7  <35         Master        14            5           81319          4   \n8  >35  Undergraduate        39           21           68507          3   \n9  >35         Master        20           16           37752          6   \n\n   Employed  \n0         0  \n1         1  \n2         0  \n3         0  \n4         0  \n5         0  \n6         1  \n7         0  \n8         0  \n9         0  ",
      "text/html": "<div>\n<style scoped>\n    .dataframe tbody tr th:only-of-type {\n        vertical-align: middle;\n    }\n\n    .dataframe tbody tr th {\n        vertical-align: top;\n    }\n\n    .dataframe thead th {\n        text-align: right;\n    }\n</style>\n<table border=\"1\" class=\"dataframe\">\n  <thead>\n    <tr style=\"text-align: right;\">\n      <th></th>\n      <th>Age</th>\n      <th>EdLevel</th>\n      <th>YearsExp</th>\n      <th>YearsProExp</th>\n      <th>PreviousSalary</th>\n      <th>NumSkills</th>\n      <th>Employed</th>\n    </tr>\n  </thead>\n  <tbody>\n    <tr>\n      <th>0</th>\n      <td>&lt;35</td>\n      <td>Master</td>\n      <td>7</td>\n      <td>4</td>\n      <td>51552</td>\n      <td>4</td>\n      <td>0</td>\n    </tr>\n    <tr>\n      <th>1</th>\n      <td>&lt;35</td>\n      <td>Undergraduate</td>\n      <td>12</td>\n      <td>5</td>\n      <td>46482</td>\n      <td>12</td>\n      <td>1</td>\n    </tr>\n    <tr>\n      <th>2</th>\n      <td>&lt;35</td>\n      <td>Master</td>\n      <td>15</td>\n      <td>6</td>\n      <td>77290</td>\n      <td>7</td>\n      <td>0</td>\n    </tr>\n    <tr>\n      <th>3</th>\n      <td>&lt;35</td>\n      <td>Undergraduate</td>\n      <td>9</td>\n      <td>6</td>\n      <td>46135</td>\n      <td>13</td>\n      <td>0</td>\n    </tr>\n    <tr>\n      <th>4</th>\n      <td>&gt;35</td>\n      <td>PhD</td>\n      <td>40</td>\n      <td>30</td>\n      <td>160932</td>\n      <td>2</td>\n      <td>0</td>\n    </tr>\n    <tr>\n      <th>5</th>\n      <td>&lt;35</td>\n      <td>Master</td>\n      <td>9</td>\n      <td>2</td>\n      <td>38915</td>\n      <td>5</td>\n      <td>0</td>\n    </tr>\n    <tr>\n      <th>6</th>\n      <td>&gt;35</td>\n      <td>Master</td>\n      <td>26</td>\n      <td>18</td>\n      <td>77831</td>\n      <td>17</td>\n      <td>1</td>\n    </tr>\n    <tr>\n      <th>7</th>\n      <td>&lt;35</td>\n      <td>Master</td>\n      <td>14</td>\n      <td>5</td>\n      <td>81319</td>\n      <td>4</td>\n      <td>0</td>\n    </tr>\n    <tr>\n      <th>8</th>\n      <td>&gt;35</td>\n      <td>Undergraduate</td>\n      <td>39</td>\n      <td>21</td>\n      <td>68507</td>\n      <td>3</td>\n      <td>0</td>\n    </tr>\n    <tr>\n      <th>9</th>\n      <td>&gt;35</td>\n      <td>Master</td>\n      <td>20</td>\n      <td>16</td>\n      <td>37752</td>\n      <td>6</td>\n      <td>0</td>\n    </tr>\n  </tbody>\n</table>\n</div>"
     },
     "execution_count": 3,
     "metadata": {},
     "output_type": "execute_result"
    }
   ],
   "source": [
    "df_feature_x.drop(columns=[\"Accessibility\", \"Employment\", \"MentalHealth\", \"MainBranch\"], inplace=True)\n",
    "df_feature_x.head(10)"
   ]
  },
  {
   "cell_type": "code",
   "execution_count": 4,
   "metadata": {
    "ExecuteTime": {
     "end_time": "2023-12-05T03:58:22.674291400Z",
     "start_time": "2023-12-05T03:58:22.580153900Z"
    }
   },
   "outputs": [
    {
     "data": {
      "text/plain": "   Age  EdLevel  YearsExp  YearsProExp  PreviousSalary  NumSkills  Employed\n0    0        4         7            4           51552          4         0\n1    0        3        12            5           46482         12         1\n2    0        4        15            6           77290          7         0\n3    0        3         9            6           46135         13         0\n4    1        5        40           30          160932          2         0\n5    0        4         9            2           38915          5         0\n6    1        4        26           18           77831         17         1\n7    0        4        14            5           81319          4         0\n8    1        3        39           21           68507          3         0\n9    1        4        20           16           37752          6         0",
      "text/html": "<div>\n<style scoped>\n    .dataframe tbody tr th:only-of-type {\n        vertical-align: middle;\n    }\n\n    .dataframe tbody tr th {\n        vertical-align: top;\n    }\n\n    .dataframe thead th {\n        text-align: right;\n    }\n</style>\n<table border=\"1\" class=\"dataframe\">\n  <thead>\n    <tr style=\"text-align: right;\">\n      <th></th>\n      <th>Age</th>\n      <th>EdLevel</th>\n      <th>YearsExp</th>\n      <th>YearsProExp</th>\n      <th>PreviousSalary</th>\n      <th>NumSkills</th>\n      <th>Employed</th>\n    </tr>\n  </thead>\n  <tbody>\n    <tr>\n      <th>0</th>\n      <td>0</td>\n      <td>4</td>\n      <td>7</td>\n      <td>4</td>\n      <td>51552</td>\n      <td>4</td>\n      <td>0</td>\n    </tr>\n    <tr>\n      <th>1</th>\n      <td>0</td>\n      <td>3</td>\n      <td>12</td>\n      <td>5</td>\n      <td>46482</td>\n      <td>12</td>\n      <td>1</td>\n    </tr>\n    <tr>\n      <th>2</th>\n      <td>0</td>\n      <td>4</td>\n      <td>15</td>\n      <td>6</td>\n      <td>77290</td>\n      <td>7</td>\n      <td>0</td>\n    </tr>\n    <tr>\n      <th>3</th>\n      <td>0</td>\n      <td>3</td>\n      <td>9</td>\n      <td>6</td>\n      <td>46135</td>\n      <td>13</td>\n      <td>0</td>\n    </tr>\n    <tr>\n      <th>4</th>\n      <td>1</td>\n      <td>5</td>\n      <td>40</td>\n      <td>30</td>\n      <td>160932</td>\n      <td>2</td>\n      <td>0</td>\n    </tr>\n    <tr>\n      <th>5</th>\n      <td>0</td>\n      <td>4</td>\n      <td>9</td>\n      <td>2</td>\n      <td>38915</td>\n      <td>5</td>\n      <td>0</td>\n    </tr>\n    <tr>\n      <th>6</th>\n      <td>1</td>\n      <td>4</td>\n      <td>26</td>\n      <td>18</td>\n      <td>77831</td>\n      <td>17</td>\n      <td>1</td>\n    </tr>\n    <tr>\n      <th>7</th>\n      <td>0</td>\n      <td>4</td>\n      <td>14</td>\n      <td>5</td>\n      <td>81319</td>\n      <td>4</td>\n      <td>0</td>\n    </tr>\n    <tr>\n      <th>8</th>\n      <td>1</td>\n      <td>3</td>\n      <td>39</td>\n      <td>21</td>\n      <td>68507</td>\n      <td>3</td>\n      <td>0</td>\n    </tr>\n    <tr>\n      <th>9</th>\n      <td>1</td>\n      <td>4</td>\n      <td>20</td>\n      <td>16</td>\n      <td>37752</td>\n      <td>6</td>\n      <td>0</td>\n    </tr>\n  </tbody>\n</table>\n</div>"
     },
     "execution_count": 4,
     "metadata": {},
     "output_type": "execute_result"
    }
   ],
   "source": [
    "df_feature_x[\"Age\"].replace({\"<35\": 0, \">35\": 1}, inplace=True)\n",
    "df_feature_x[\"EdLevel\"].replace({\"NoHigherEd\": 1, \"Other\": 2, \"Undergraduate\": 3, \"Master\": 4, \"PhD\": 5}, inplace=True)\n",
    "df_feature_x.head(10)"
   ]
  },
  {
   "cell_type": "code",
   "execution_count": 5,
   "metadata": {
    "collapsed": false,
    "ExecuteTime": {
     "end_time": "2023-12-05T03:58:23.542479600Z",
     "start_time": "2023-12-05T03:58:23.433632800Z"
    }
   },
   "outputs": [],
   "source": [
    "df_feature_x.to_csv(\"preprocessing.csv\")"
   ]
  },
  {
   "cell_type": "code",
   "execution_count": null,
   "outputs": [],
   "source": [],
   "metadata": {
    "collapsed": false
   }
  }
 ],
 "metadata": {
  "kernelspec": {
   "display_name": "Python 3",
   "language": "python",
   "name": "python3"
  },
  "language_info": {
   "codemirror_mode": {
    "name": "ipython",
    "version": 3
   },
   "file_extension": ".py",
   "mimetype": "text/x-python",
   "name": "python",
   "nbconvert_exporter": "python",
   "pygments_lexer": "ipython3",
   "version": "3.10.12"
  }
 },
 "nbformat": 4,
 "nbformat_minor": 2
}
