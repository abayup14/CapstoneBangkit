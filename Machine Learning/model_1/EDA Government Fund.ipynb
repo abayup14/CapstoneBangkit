{
 "cells": [
  {
   "cell_type": "code",
   "execution_count": 2,
   "metadata": {
    "ExecuteTime": {
     "end_time": "2023-11-20T05:31:13.190914400Z",
     "start_time": "2023-11-20T05:31:12.587676900Z"
    }
   },
   "outputs": [],
   "source": [
    "import matplotlib as plt\n",
    "import pandas as pd"
   ]
  },
  {
   "cell_type": "code",
   "execution_count": 7,
   "metadata": {
    "ExecuteTime": {
     "end_time": "2023-11-20T05:36:12.050616200Z",
     "start_time": "2023-11-20T05:36:08.358791200Z"
    }
   },
   "outputs": [
    {
     "data": {
      "text/plain": "   DATA_AS_AT TRANSACTION_ID  EXPENDITURE STATE  JSKR_LINKAGE_KEY  \\\n0  2018-08-05        303887J        150.0   QLD                 1   \n1  2018-08-05        283232J        300.0   QLD                 1   \n2  2018-08-05        412011J        150.0   QLD                 1   \n3  2018-08-05        376042J        150.0   QLD                 1   \n4  2018-08-05        415778J        225.0   VIC                 2   \n5  2018-08-05        495384J        300.0   VIC                 2   \n6  2018-08-05        498425J        225.0   VIC                 2   \n7  2018-08-05        460100J        300.0   VIC                 2   \n8  2018-08-05        976373J        150.0   VIC                 2   \n9  2018-08-05        973682J        150.0   VIC                 2   \n\n  STREAM_PLACEMENT_DESC EF_CATEGORY_DESCRIPTION DERIVED_DATE_OF_SERVICE  \\\n0              Stream A   Professional Services              2016-01-04   \n1              Stream A   Professional Services              2015-12-21   \n2              Stream A   Professional Services              2016-01-11   \n3              Stream A   Professional Services              2016-02-08   \n4              Stream C   Professional Services              2016-02-18   \n5              Stream C   Professional Services              2016-02-26   \n6              Stream C   Professional Services              2016-02-18   \n7              Stream C   Professional Services              2016-03-01   \n8              Stream C   Professional Services              2016-08-30   \n9              Stream C   Professional Services              2016-08-30   \n\n  ACTIVITY_TYPE_DESC ACTIVITY_SUB_DESC  ... CALD REFUGEE  EX_OFFENDER  \\\n0                NaN               NaN  ...  1.0     NaN          NaN   \n1                NaN               NaN  ...  1.0     NaN          NaN   \n2                NaN               NaN  ...  1.0     NaN          NaN   \n3                NaN               NaN  ...  1.0     NaN          NaN   \n4                NaN               NaN  ...  NaN     NaN          NaN   \n5                NaN               NaN  ...  NaN     NaN          NaN   \n6                NaN               NaN  ...  NaN     NaN          NaN   \n7                NaN               NaN  ...  NaN     NaN          NaN   \n8                NaN               NaN  ...  NaN     NaN          NaN   \n9                NaN               NaN  ...  NaN     NaN          NaN   \n\n        AGE_GROUP         UE_GROUP  year  month  year_month EDUCATION_ADJ  \\\n0  50 to 54 years  Under 12 Months  2016      1    Jan 2016        Degree   \n1  50 to 54 years  Under 12 Months  2015     12    Dec 2015        Degree   \n2  50 to 54 years  Under 12 Months  2016      1    Jan 2016        Degree   \n3  50 to 54 years  Under 12 Months  2016      2    Feb 2016        Degree   \n4  25 to 29 years  24 to 59 Months  2016      2    Feb 2016       Diploma   \n5  25 to 29 years  24 to 59 Months  2016      2    Feb 2016       Diploma   \n6  25 to 29 years  24 to 59 Months  2016      2    Feb 2016       Diploma   \n7  25 to 29 years  24 to 59 Months  2016      3    Mar 2016       Diploma   \n8  25 to 29 years  24 to 59 Months  2016      8    Aug 2016       Diploma   \n9  25 to 29 years  24 to 59 Months  2016      8    Aug 2016       Diploma   \n\n  EF_CATEGORY_ADJ  \n0    Prof Service  \n1    Prof Service  \n2    Prof Service  \n3    Prof Service  \n4    Prof Service  \n5    Prof Service  \n6    Prof Service  \n7    Prof Service  \n8    Prof Service  \n9    Prof Service  \n\n[10 rows x 25 columns]",
      "text/html": "<div>\n<style scoped>\n    .dataframe tbody tr th:only-of-type {\n        vertical-align: middle;\n    }\n\n    .dataframe tbody tr th {\n        vertical-align: top;\n    }\n\n    .dataframe thead th {\n        text-align: right;\n    }\n</style>\n<table border=\"1\" class=\"dataframe\">\n  <thead>\n    <tr style=\"text-align: right;\">\n      <th></th>\n      <th>DATA_AS_AT</th>\n      <th>TRANSACTION_ID</th>\n      <th>EXPENDITURE</th>\n      <th>STATE</th>\n      <th>JSKR_LINKAGE_KEY</th>\n      <th>STREAM_PLACEMENT_DESC</th>\n      <th>EF_CATEGORY_DESCRIPTION</th>\n      <th>DERIVED_DATE_OF_SERVICE</th>\n      <th>ACTIVITY_TYPE_DESC</th>\n      <th>ACTIVITY_SUB_DESC</th>\n      <th>...</th>\n      <th>CALD</th>\n      <th>REFUGEE</th>\n      <th>EX_OFFENDER</th>\n      <th>AGE_GROUP</th>\n      <th>UE_GROUP</th>\n      <th>year</th>\n      <th>month</th>\n      <th>year_month</th>\n      <th>EDUCATION_ADJ</th>\n      <th>EF_CATEGORY_ADJ</th>\n    </tr>\n  </thead>\n  <tbody>\n    <tr>\n      <th>0</th>\n      <td>2018-08-05</td>\n      <td>303887J</td>\n      <td>150.0</td>\n      <td>QLD</td>\n      <td>1</td>\n      <td>Stream A</td>\n      <td>Professional Services</td>\n      <td>2016-01-04</td>\n      <td>NaN</td>\n      <td>NaN</td>\n      <td>...</td>\n      <td>1.0</td>\n      <td>NaN</td>\n      <td>NaN</td>\n      <td>50 to 54 years</td>\n      <td>Under 12 Months</td>\n      <td>2016</td>\n      <td>1</td>\n      <td>Jan 2016</td>\n      <td>Degree</td>\n      <td>Prof Service</td>\n    </tr>\n    <tr>\n      <th>1</th>\n      <td>2018-08-05</td>\n      <td>283232J</td>\n      <td>300.0</td>\n      <td>QLD</td>\n      <td>1</td>\n      <td>Stream A</td>\n      <td>Professional Services</td>\n      <td>2015-12-21</td>\n      <td>NaN</td>\n      <td>NaN</td>\n      <td>...</td>\n      <td>1.0</td>\n      <td>NaN</td>\n      <td>NaN</td>\n      <td>50 to 54 years</td>\n      <td>Under 12 Months</td>\n      <td>2015</td>\n      <td>12</td>\n      <td>Dec 2015</td>\n      <td>Degree</td>\n      <td>Prof Service</td>\n    </tr>\n    <tr>\n      <th>2</th>\n      <td>2018-08-05</td>\n      <td>412011J</td>\n      <td>150.0</td>\n      <td>QLD</td>\n      <td>1</td>\n      <td>Stream A</td>\n      <td>Professional Services</td>\n      <td>2016-01-11</td>\n      <td>NaN</td>\n      <td>NaN</td>\n      <td>...</td>\n      <td>1.0</td>\n      <td>NaN</td>\n      <td>NaN</td>\n      <td>50 to 54 years</td>\n      <td>Under 12 Months</td>\n      <td>2016</td>\n      <td>1</td>\n      <td>Jan 2016</td>\n      <td>Degree</td>\n      <td>Prof Service</td>\n    </tr>\n    <tr>\n      <th>3</th>\n      <td>2018-08-05</td>\n      <td>376042J</td>\n      <td>150.0</td>\n      <td>QLD</td>\n      <td>1</td>\n      <td>Stream A</td>\n      <td>Professional Services</td>\n      <td>2016-02-08</td>\n      <td>NaN</td>\n      <td>NaN</td>\n      <td>...</td>\n      <td>1.0</td>\n      <td>NaN</td>\n      <td>NaN</td>\n      <td>50 to 54 years</td>\n      <td>Under 12 Months</td>\n      <td>2016</td>\n      <td>2</td>\n      <td>Feb 2016</td>\n      <td>Degree</td>\n      <td>Prof Service</td>\n    </tr>\n    <tr>\n      <th>4</th>\n      <td>2018-08-05</td>\n      <td>415778J</td>\n      <td>225.0</td>\n      <td>VIC</td>\n      <td>2</td>\n      <td>Stream C</td>\n      <td>Professional Services</td>\n      <td>2016-02-18</td>\n      <td>NaN</td>\n      <td>NaN</td>\n      <td>...</td>\n      <td>NaN</td>\n      <td>NaN</td>\n      <td>NaN</td>\n      <td>25 to 29 years</td>\n      <td>24 to 59 Months</td>\n      <td>2016</td>\n      <td>2</td>\n      <td>Feb 2016</td>\n      <td>Diploma</td>\n      <td>Prof Service</td>\n    </tr>\n    <tr>\n      <th>5</th>\n      <td>2018-08-05</td>\n      <td>495384J</td>\n      <td>300.0</td>\n      <td>VIC</td>\n      <td>2</td>\n      <td>Stream C</td>\n      <td>Professional Services</td>\n      <td>2016-02-26</td>\n      <td>NaN</td>\n      <td>NaN</td>\n      <td>...</td>\n      <td>NaN</td>\n      <td>NaN</td>\n      <td>NaN</td>\n      <td>25 to 29 years</td>\n      <td>24 to 59 Months</td>\n      <td>2016</td>\n      <td>2</td>\n      <td>Feb 2016</td>\n      <td>Diploma</td>\n      <td>Prof Service</td>\n    </tr>\n    <tr>\n      <th>6</th>\n      <td>2018-08-05</td>\n      <td>498425J</td>\n      <td>225.0</td>\n      <td>VIC</td>\n      <td>2</td>\n      <td>Stream C</td>\n      <td>Professional Services</td>\n      <td>2016-02-18</td>\n      <td>NaN</td>\n      <td>NaN</td>\n      <td>...</td>\n      <td>NaN</td>\n      <td>NaN</td>\n      <td>NaN</td>\n      <td>25 to 29 years</td>\n      <td>24 to 59 Months</td>\n      <td>2016</td>\n      <td>2</td>\n      <td>Feb 2016</td>\n      <td>Diploma</td>\n      <td>Prof Service</td>\n    </tr>\n    <tr>\n      <th>7</th>\n      <td>2018-08-05</td>\n      <td>460100J</td>\n      <td>300.0</td>\n      <td>VIC</td>\n      <td>2</td>\n      <td>Stream C</td>\n      <td>Professional Services</td>\n      <td>2016-03-01</td>\n      <td>NaN</td>\n      <td>NaN</td>\n      <td>...</td>\n      <td>NaN</td>\n      <td>NaN</td>\n      <td>NaN</td>\n      <td>25 to 29 years</td>\n      <td>24 to 59 Months</td>\n      <td>2016</td>\n      <td>3</td>\n      <td>Mar 2016</td>\n      <td>Diploma</td>\n      <td>Prof Service</td>\n    </tr>\n    <tr>\n      <th>8</th>\n      <td>2018-08-05</td>\n      <td>976373J</td>\n      <td>150.0</td>\n      <td>VIC</td>\n      <td>2</td>\n      <td>Stream C</td>\n      <td>Professional Services</td>\n      <td>2016-08-30</td>\n      <td>NaN</td>\n      <td>NaN</td>\n      <td>...</td>\n      <td>NaN</td>\n      <td>NaN</td>\n      <td>NaN</td>\n      <td>25 to 29 years</td>\n      <td>24 to 59 Months</td>\n      <td>2016</td>\n      <td>8</td>\n      <td>Aug 2016</td>\n      <td>Diploma</td>\n      <td>Prof Service</td>\n    </tr>\n    <tr>\n      <th>9</th>\n      <td>2018-08-05</td>\n      <td>973682J</td>\n      <td>150.0</td>\n      <td>VIC</td>\n      <td>2</td>\n      <td>Stream C</td>\n      <td>Professional Services</td>\n      <td>2016-08-30</td>\n      <td>NaN</td>\n      <td>NaN</td>\n      <td>...</td>\n      <td>NaN</td>\n      <td>NaN</td>\n      <td>NaN</td>\n      <td>25 to 29 years</td>\n      <td>24 to 59 Months</td>\n      <td>2016</td>\n      <td>8</td>\n      <td>Aug 2016</td>\n      <td>Diploma</td>\n      <td>Prof Service</td>\n    </tr>\n  </tbody>\n</table>\n<p>10 rows × 25 columns</p>\n</div>"
     },
     "execution_count": 7,
     "metadata": {},
     "output_type": "execute_result"
    }
   ],
   "source": [
    "filename = \"cleaned_jobactive.zip\"\n",
    "df = pd.read_csv(filename, compression=\"zip\")\n",
    "df.head(10)"
   ]
  },
  {
   "cell_type": "code",
   "execution_count": null,
   "outputs": [],
   "source": [],
   "metadata": {
    "collapsed": false
   }
  }
 ],
 "metadata": {
  "kernelspec": {
   "display_name": "Python 3",
   "language": "python",
   "name": "python3"
  },
  "language_info": {
   "codemirror_mode": {
    "name": "ipython",
    "version": 3
   },
   "file_extension": ".py",
   "mimetype": "text/x-python",
   "name": "python",
   "nbconvert_exporter": "python",
   "pygments_lexer": "ipython3",
   "version": "3.10.12"
  }
 },
 "nbformat": 4,
 "nbformat_minor": 2
}
