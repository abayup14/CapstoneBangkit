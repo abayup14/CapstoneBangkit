{
 "cells": [
  {
   "cell_type": "code",
   "execution_count": 11,
   "metadata": {},
   "outputs": [],
   "source": [
    "import pandas as pd"
   ]
  },
  {
   "cell_type": "code",
   "execution_count": 12,
   "metadata": {},
   "outputs": [
    {
     "data": {
      "text/html": [
       "<div>\n",
       "<style scoped>\n",
       "    .dataframe tbody tr th:only-of-type {\n",
       "        vertical-align: middle;\n",
       "    }\n",
       "\n",
       "    .dataframe tbody tr th {\n",
       "        vertical-align: top;\n",
       "    }\n",
       "\n",
       "    .dataframe thead th {\n",
       "        text-align: right;\n",
       "    }\n",
       "</style>\n",
       "<table border=\"1\" class=\"dataframe\">\n",
       "  <thead>\n",
       "    <tr style=\"text-align: right;\">\n",
       "      <th></th>\n",
       "      <th>Age_&lt;35</th>\n",
       "      <th>Age_&gt;35</th>\n",
       "      <th>Accessibility_No</th>\n",
       "      <th>Accessibility_Yes</th>\n",
       "      <th>EdLevel_Master</th>\n",
       "      <th>EdLevel_NoHigherEd</th>\n",
       "      <th>EdLevel_Other</th>\n",
       "      <th>EdLevel_PhD</th>\n",
       "      <th>EdLevel_Undergraduate</th>\n",
       "      <th>MentalHealth_No</th>\n",
       "      <th>MentalHealth_Yes</th>\n",
       "      <th>YearsExp</th>\n",
       "      <th>YearsProExp</th>\n",
       "      <th>NumSkills</th>\n",
       "    </tr>\n",
       "  </thead>\n",
       "  <tbody>\n",
       "    <tr>\n",
       "      <th>0</th>\n",
       "      <td>1.0</td>\n",
       "      <td>0.0</td>\n",
       "      <td>1.0</td>\n",
       "      <td>0.0</td>\n",
       "      <td>1.0</td>\n",
       "      <td>0.0</td>\n",
       "      <td>0.0</td>\n",
       "      <td>0.0</td>\n",
       "      <td>0.0</td>\n",
       "      <td>1.0</td>\n",
       "      <td>0.0</td>\n",
       "      <td>7</td>\n",
       "      <td>4</td>\n",
       "      <td>4</td>\n",
       "    </tr>\n",
       "    <tr>\n",
       "      <th>1</th>\n",
       "      <td>1.0</td>\n",
       "      <td>0.0</td>\n",
       "      <td>1.0</td>\n",
       "      <td>0.0</td>\n",
       "      <td>0.0</td>\n",
       "      <td>0.0</td>\n",
       "      <td>0.0</td>\n",
       "      <td>0.0</td>\n",
       "      <td>1.0</td>\n",
       "      <td>1.0</td>\n",
       "      <td>0.0</td>\n",
       "      <td>12</td>\n",
       "      <td>5</td>\n",
       "      <td>12</td>\n",
       "    </tr>\n",
       "    <tr>\n",
       "      <th>2</th>\n",
       "      <td>1.0</td>\n",
       "      <td>0.0</td>\n",
       "      <td>1.0</td>\n",
       "      <td>0.0</td>\n",
       "      <td>1.0</td>\n",
       "      <td>0.0</td>\n",
       "      <td>0.0</td>\n",
       "      <td>0.0</td>\n",
       "      <td>0.0</td>\n",
       "      <td>1.0</td>\n",
       "      <td>0.0</td>\n",
       "      <td>15</td>\n",
       "      <td>6</td>\n",
       "      <td>7</td>\n",
       "    </tr>\n",
       "    <tr>\n",
       "      <th>3</th>\n",
       "      <td>1.0</td>\n",
       "      <td>0.0</td>\n",
       "      <td>1.0</td>\n",
       "      <td>0.0</td>\n",
       "      <td>0.0</td>\n",
       "      <td>0.0</td>\n",
       "      <td>0.0</td>\n",
       "      <td>0.0</td>\n",
       "      <td>1.0</td>\n",
       "      <td>1.0</td>\n",
       "      <td>0.0</td>\n",
       "      <td>9</td>\n",
       "      <td>6</td>\n",
       "      <td>13</td>\n",
       "    </tr>\n",
       "    <tr>\n",
       "      <th>5</th>\n",
       "      <td>1.0</td>\n",
       "      <td>0.0</td>\n",
       "      <td>1.0</td>\n",
       "      <td>0.0</td>\n",
       "      <td>1.0</td>\n",
       "      <td>0.0</td>\n",
       "      <td>0.0</td>\n",
       "      <td>0.0</td>\n",
       "      <td>0.0</td>\n",
       "      <td>1.0</td>\n",
       "      <td>0.0</td>\n",
       "      <td>9</td>\n",
       "      <td>2</td>\n",
       "      <td>5</td>\n",
       "    </tr>\n",
       "    <tr>\n",
       "      <th>6</th>\n",
       "      <td>0.0</td>\n",
       "      <td>1.0</td>\n",
       "      <td>1.0</td>\n",
       "      <td>0.0</td>\n",
       "      <td>1.0</td>\n",
       "      <td>0.0</td>\n",
       "      <td>0.0</td>\n",
       "      <td>0.0</td>\n",
       "      <td>0.0</td>\n",
       "      <td>1.0</td>\n",
       "      <td>0.0</td>\n",
       "      <td>26</td>\n",
       "      <td>18</td>\n",
       "      <td>17</td>\n",
       "    </tr>\n",
       "    <tr>\n",
       "      <th>7</th>\n",
       "      <td>1.0</td>\n",
       "      <td>0.0</td>\n",
       "      <td>1.0</td>\n",
       "      <td>0.0</td>\n",
       "      <td>1.0</td>\n",
       "      <td>0.0</td>\n",
       "      <td>0.0</td>\n",
       "      <td>0.0</td>\n",
       "      <td>0.0</td>\n",
       "      <td>1.0</td>\n",
       "      <td>0.0</td>\n",
       "      <td>14</td>\n",
       "      <td>5</td>\n",
       "      <td>4</td>\n",
       "    </tr>\n",
       "    <tr>\n",
       "      <th>8</th>\n",
       "      <td>0.0</td>\n",
       "      <td>1.0</td>\n",
       "      <td>1.0</td>\n",
       "      <td>0.0</td>\n",
       "      <td>0.0</td>\n",
       "      <td>0.0</td>\n",
       "      <td>0.0</td>\n",
       "      <td>0.0</td>\n",
       "      <td>1.0</td>\n",
       "      <td>1.0</td>\n",
       "      <td>0.0</td>\n",
       "      <td>39</td>\n",
       "      <td>21</td>\n",
       "      <td>3</td>\n",
       "    </tr>\n",
       "    <tr>\n",
       "      <th>9</th>\n",
       "      <td>0.0</td>\n",
       "      <td>1.0</td>\n",
       "      <td>1.0</td>\n",
       "      <td>0.0</td>\n",
       "      <td>1.0</td>\n",
       "      <td>0.0</td>\n",
       "      <td>0.0</td>\n",
       "      <td>0.0</td>\n",
       "      <td>0.0</td>\n",
       "      <td>1.0</td>\n",
       "      <td>0.0</td>\n",
       "      <td>20</td>\n",
       "      <td>16</td>\n",
       "      <td>6</td>\n",
       "    </tr>\n",
       "    <tr>\n",
       "      <th>10</th>\n",
       "      <td>1.0</td>\n",
       "      <td>0.0</td>\n",
       "      <td>1.0</td>\n",
       "      <td>0.0</td>\n",
       "      <td>0.0</td>\n",
       "      <td>0.0</td>\n",
       "      <td>0.0</td>\n",
       "      <td>0.0</td>\n",
       "      <td>1.0</td>\n",
       "      <td>0.0</td>\n",
       "      <td>1.0</td>\n",
       "      <td>4</td>\n",
       "      <td>2</td>\n",
       "      <td>18</td>\n",
       "    </tr>\n",
       "  </tbody>\n",
       "</table>\n",
       "</div>"
      ],
      "text/plain": [
       "    Age_<35  Age_>35  Accessibility_No  Accessibility_Yes  EdLevel_Master  \\\n",
       "0       1.0      0.0               1.0                0.0             1.0   \n",
       "1       1.0      0.0               1.0                0.0             0.0   \n",
       "2       1.0      0.0               1.0                0.0             1.0   \n",
       "3       1.0      0.0               1.0                0.0             0.0   \n",
       "5       1.0      0.0               1.0                0.0             1.0   \n",
       "6       0.0      1.0               1.0                0.0             1.0   \n",
       "7       1.0      0.0               1.0                0.0             1.0   \n",
       "8       0.0      1.0               1.0                0.0             0.0   \n",
       "9       0.0      1.0               1.0                0.0             1.0   \n",
       "10      1.0      0.0               1.0                0.0             0.0   \n",
       "\n",
       "    EdLevel_NoHigherEd  EdLevel_Other  EdLevel_PhD  EdLevel_Undergraduate  \\\n",
       "0                  0.0            0.0          0.0                    0.0   \n",
       "1                  0.0            0.0          0.0                    1.0   \n",
       "2                  0.0            0.0          0.0                    0.0   \n",
       "3                  0.0            0.0          0.0                    1.0   \n",
       "5                  0.0            0.0          0.0                    0.0   \n",
       "6                  0.0            0.0          0.0                    0.0   \n",
       "7                  0.0            0.0          0.0                    0.0   \n",
       "8                  0.0            0.0          0.0                    1.0   \n",
       "9                  0.0            0.0          0.0                    0.0   \n",
       "10                 0.0            0.0          0.0                    1.0   \n",
       "\n",
       "    MentalHealth_No  MentalHealth_Yes  YearsExp  YearsProExp  NumSkills  \n",
       "0               1.0               0.0         7            4          4  \n",
       "1               1.0               0.0        12            5         12  \n",
       "2               1.0               0.0        15            6          7  \n",
       "3               1.0               0.0         9            6         13  \n",
       "5               1.0               0.0         9            2          5  \n",
       "6               1.0               0.0        26           18         17  \n",
       "7               1.0               0.0        14            5          4  \n",
       "8               1.0               0.0        39           21          3  \n",
       "9               1.0               0.0        20           16          6  \n",
       "10              0.0               1.0         4            2         18  "
      ]
     },
     "execution_count": 12,
     "metadata": {},
     "output_type": "execute_result"
    }
   ],
   "source": [
    "df_feature_x = pd.read_csv(\"preprocess.csv\", index_col=0)\n",
    "df_feature_x.head(10)"
   ]
  },
  {
   "cell_type": "code",
   "execution_count": 13,
   "metadata": {},
   "outputs": [
    {
     "data": {
      "text/html": [
       "<div>\n",
       "<style scoped>\n",
       "    .dataframe tbody tr th:only-of-type {\n",
       "        vertical-align: middle;\n",
       "    }\n",
       "\n",
       "    .dataframe tbody tr th {\n",
       "        vertical-align: top;\n",
       "    }\n",
       "\n",
       "    .dataframe thead th {\n",
       "        text-align: right;\n",
       "    }\n",
       "</style>\n",
       "<table border=\"1\" class=\"dataframe\">\n",
       "  <thead>\n",
       "    <tr style=\"text-align: right;\">\n",
       "      <th></th>\n",
       "      <th>Employed</th>\n",
       "    </tr>\n",
       "  </thead>\n",
       "  <tbody>\n",
       "    <tr>\n",
       "      <th>0</th>\n",
       "      <td>0.0</td>\n",
       "    </tr>\n",
       "    <tr>\n",
       "      <th>1</th>\n",
       "      <td>1.0</td>\n",
       "    </tr>\n",
       "    <tr>\n",
       "      <th>2</th>\n",
       "      <td>0.0</td>\n",
       "    </tr>\n",
       "    <tr>\n",
       "      <th>3</th>\n",
       "      <td>0.0</td>\n",
       "    </tr>\n",
       "    <tr>\n",
       "      <th>5</th>\n",
       "      <td>0.0</td>\n",
       "    </tr>\n",
       "    <tr>\n",
       "      <th>6</th>\n",
       "      <td>1.0</td>\n",
       "    </tr>\n",
       "    <tr>\n",
       "      <th>7</th>\n",
       "      <td>0.0</td>\n",
       "    </tr>\n",
       "    <tr>\n",
       "      <th>8</th>\n",
       "      <td>0.0</td>\n",
       "    </tr>\n",
       "    <tr>\n",
       "      <th>9</th>\n",
       "      <td>0.0</td>\n",
       "    </tr>\n",
       "    <tr>\n",
       "      <th>10</th>\n",
       "      <td>1.0</td>\n",
       "    </tr>\n",
       "  </tbody>\n",
       "</table>\n",
       "</div>"
      ],
      "text/plain": [
       "    Employed\n",
       "0        0.0\n",
       "1        1.0\n",
       "2        0.0\n",
       "3        0.0\n",
       "5        0.0\n",
       "6        1.0\n",
       "7        0.0\n",
       "8        0.0\n",
       "9        0.0\n",
       "10       1.0"
      ]
     },
     "execution_count": 13,
     "metadata": {},
     "output_type": "execute_result"
    }
   ],
   "source": [
    "df_feature_y = pd.read_csv(\"label.csv\", index_col=0)\n",
    "df_feature_y.head(10)"
   ]
  },
  {
   "cell_type": "code",
   "execution_count": 30,
   "metadata": {},
   "outputs": [
    {
     "name": "stdout",
     "output_type": "stream",
     "text": [
      "Data before splitting: 66965\n",
      "Train data: 53572\n",
      "Validation data: 13393\n"
     ]
    }
   ],
   "source": [
    "from sklearn.model_selection import train_test_split\n",
    "X_train, X_valid, Y_train, Y_valid = train_test_split(df_feature_x, df_feature_y, test_size=0.2, random_state=1)\n",
    "\n",
    "\n",
    "print(f\"Data before splitting: {len(df_feature_x)}\")\n",
    "print(f\"Train data: {len(X_train)}\")\n",
    "print(f\"Validation data: {len(X_valid)}\")"
   ]
  },
  {
   "cell_type": "code",
   "execution_count": 31,
   "metadata": {},
   "outputs": [],
   "source": [
    "EPOCH = 20\n",
    "LEARNING_RATE = 1e-3"
   ]
  },
  {
   "cell_type": "code",
   "execution_count": 32,
   "metadata": {},
   "outputs": [
    {
     "name": "stdout",
     "output_type": "stream",
     "text": [
      "Epoch 1/20\n",
      "1675/1675 [==============================] - 11s 6ms/step - loss: 0.5119 - accuracy: 0.7514 - val_loss: 0.4575 - val_accuracy: 0.7802\n",
      "Epoch 2/20\n",
      "1675/1675 [==============================] - 11s 6ms/step - loss: 0.4622 - accuracy: 0.7736 - val_loss: 0.4645 - val_accuracy: 0.7761\n",
      "Epoch 3/20\n",
      "1675/1675 [==============================] - 10s 6ms/step - loss: 0.4598 - accuracy: 0.7742 - val_loss: 0.4541 - val_accuracy: 0.7806\n",
      "Epoch 4/20\n",
      "1675/1675 [==============================] - 11s 6ms/step - loss: 0.4586 - accuracy: 0.7757 - val_loss: 0.4558 - val_accuracy: 0.7802\n",
      "Epoch 5/20\n",
      "1675/1675 [==============================] - 11s 6ms/step - loss: 0.4575 - accuracy: 0.7759 - val_loss: 0.4535 - val_accuracy: 0.7800\n",
      "Epoch 6/20\n",
      "1675/1675 [==============================] - 11s 6ms/step - loss: 0.4574 - accuracy: 0.7740 - val_loss: 0.4524 - val_accuracy: 0.7814\n",
      "Epoch 7/20\n",
      "1675/1675 [==============================] - 11s 6ms/step - loss: 0.4569 - accuracy: 0.7760 - val_loss: 0.4541 - val_accuracy: 0.7797\n",
      "Epoch 8/20\n",
      "1675/1675 [==============================] - 11s 6ms/step - loss: 0.4564 - accuracy: 0.7763 - val_loss: 0.4517 - val_accuracy: 0.7821\n",
      "Epoch 9/20\n",
      "1675/1675 [==============================] - 11s 6ms/step - loss: 0.4565 - accuracy: 0.7757 - val_loss: 0.4570 - val_accuracy: 0.7780\n",
      "Epoch 10/20\n",
      "1675/1675 [==============================] - 12s 7ms/step - loss: 0.4563 - accuracy: 0.7765 - val_loss: 0.4513 - val_accuracy: 0.7821\n",
      "Epoch 11/20\n",
      "1675/1675 [==============================] - 11s 7ms/step - loss: 0.4554 - accuracy: 0.7766 - val_loss: 0.4518 - val_accuracy: 0.7818\n",
      "Epoch 12/20\n",
      "1675/1675 [==============================] - 12s 7ms/step - loss: 0.4554 - accuracy: 0.7770 - val_loss: 0.4513 - val_accuracy: 0.7820\n",
      "Epoch 13/20\n",
      "1675/1675 [==============================] - 11s 7ms/step - loss: 0.4552 - accuracy: 0.7767 - val_loss: 0.4514 - val_accuracy: 0.7823\n",
      "Epoch 14/20\n",
      "1675/1675 [==============================] - 11s 7ms/step - loss: 0.4553 - accuracy: 0.7765 - val_loss: 0.4545 - val_accuracy: 0.7806\n",
      "Epoch 15/20\n",
      "1675/1675 [==============================] - 11s 7ms/step - loss: 0.4551 - accuracy: 0.7765 - val_loss: 0.4518 - val_accuracy: 0.7810\n",
      "Epoch 16/20\n",
      "1675/1675 [==============================] - 11s 7ms/step - loss: 0.4550 - accuracy: 0.7777 - val_loss: 0.4525 - val_accuracy: 0.7814\n",
      "Epoch 17/20\n",
      "1675/1675 [==============================] - 12s 7ms/step - loss: 0.4549 - accuracy: 0.7773 - val_loss: 0.4533 - val_accuracy: 0.7804\n",
      "Epoch 18/20\n",
      "1675/1675 [==============================] - 12s 7ms/step - loss: 0.4546 - accuracy: 0.7768 - val_loss: 0.4517 - val_accuracy: 0.7821\n",
      "Epoch 19/20\n",
      "1675/1675 [==============================] - 12s 7ms/step - loss: 0.4546 - accuracy: 0.7775 - val_loss: 0.4522 - val_accuracy: 0.7818\n",
      "Epoch 20/20\n",
      "1675/1675 [==============================] - 12s 7ms/step - loss: 0.4544 - accuracy: 0.7769 - val_loss: 0.4532 - val_accuracy: 0.7797\n"
     ]
    }
   ],
   "source": [
    "import tensorflow as tf\n",
    "len_feature = len(df_feature_x.columns)\n",
    "\n",
    "tf.keras.backend.clear_session()\n",
    "\n",
    "model = tf.keras.Sequential([\n",
    "    tf.keras.layers.Input(shape=(len_feature,)),\n",
    "    tf.keras.layers.Dense(16, activation=\"relu\"),\n",
    "    tf.keras.layers.Dense(8, activation=\"relu\"),\n",
    "    tf.keras.layers.Dense(2, activation=\"softmax\")\n",
    "])\n",
    "\n",
    "model.compile(optimizer=tf.keras.optimizers.Adam(learning_rate=LEARNING_RATE), \n",
    "              loss=tf.keras.losses.SparseCategoricalCrossentropy(),\n",
    "              metrics=[\"accuracy\"])\n",
    "\n",
    "history = model.fit(X_train, Y_train, epochs=EPOCH, validation_data=(X_valid, Y_valid))"
   ]
  },
  {
   "cell_type": "code",
   "execution_count": 33,
   "metadata": {},
   "outputs": [
    {
     "data": {
      "image/png": "[encoded data removed]",
      "text/plain": [
       "<Figure size 640x480 with 1 Axes>"
      ]
     },
     "metadata": {},
     "output_type": "display_data"
    },
    {
     "data": {
      "image/png": "[encoded data removed]",
      "text/plain": [
       "<Figure size 640x480 with 1 Axes>"
      ]
     },
     "metadata": {},
     "output_type": "display_data"
    }
   ],
   "source": [
    "import matplotlib.pyplot as plt\n",
    "\n",
    "acc = history.history['accuracy']\n",
    "val_acc = history.history['val_accuracy']\n",
    "loss = history.history['loss']\n",
    "val_loss = history.history['val_loss']\n",
    "\n",
    "epochs = range(len(acc))\n",
    "\n",
    "plt.plot(epochs, acc, 'r', label='Training accuracy')\n",
    "plt.plot(epochs, val_acc, 'b', label='Validation accuracy')\n",
    "plt.title('Training and validation accuracy')\n",
    "plt.legend()\n",
    "plt.figure()\n",
    "\n",
    "plt.plot(epochs, loss, 'r', label='Training Loss')\n",
    "plt.plot(epochs, val_loss, 'b', label='Validation Loss')\n",
    "plt.title('Training and validation loss')\n",
    "plt.legend()\n",
    "\n",
    "plt.show()"
   ]
  },
  {
   "cell_type": "code",
   "execution_count": 34,
   "metadata": {},
   "outputs": [
    {
     "name": "stdout",
     "output_type": "stream",
     "text": [
      "1/1 [==============================] - 0s 69ms/step\n"
     ]
    },
    {
     "data": {
      "text/plain": [
       "array([[9.9998260e-01, 1.7377786e-05]], dtype=float32)"
      ]
     },
     "execution_count": 34,
     "metadata": {},
     "output_type": "execute_result"
    }
   ],
   "source": [
    "model.predict([[1.0,0.0,1.0,0.0,1.0,0.0,0.0,0.0,0.0,1.0,0.0,-0.72,-0.84,-0.925234]])"
   ]
  },
  {
   "cell_type": "code",
   "execution_count": 35,
   "metadata": {},
   "outputs": [
    {
     "name": "stdout",
     "output_type": "stream",
     "text": [
      "Model: \"sequential\"\n",
      "_________________________________________________________________\n",
      " Layer (type)                Output Shape              Param #   \n",
      "=================================================================\n",
      " dense (Dense)               (None, 16)                240       \n",
      "                                                                 \n",
      " dense_1 (Dense)             (None, 8)                 136       \n",
      "                                                                 \n",
      " dense_2 (Dense)             (None, 2)                 18        \n",
      "                                                                 \n",
      "=================================================================\n",
      "Total params: 394 (1.54 KB)\n",
      "Trainable params: 394 (1.54 KB)\n",
      "Non-trainable params: 0 (0.00 Byte)\n",
      "_________________________________________________________________\n"
     ]
    }
   ],
   "source": [
    "model.summary()"
   ]
  },
  {
   "cell_type": "code",
   "execution_count": 36,
   "metadata": {},
   "outputs": [
    {
     "name": "stderr",
     "output_type": "stream",
     "text": [
      "/home/abayup14/.local/lib/python3.10/site-packages/keras/src/engine/training.py:3079: UserWarning: You are saving your model as an HDF5 file via `model.save()`. This file format is considered legacy. We recommend using instead the native Keras format, e.g. `model.save('my_model.keras')`.\n",
      "  saving_api.save_model(\n"
     ]
    }
   ],
   "source": [
    "saved_model = \"mdl_wo_std/model_without_std.h5\"\n",
    "model.save(saved_model)"
   ]
  },
  {
   "cell_type": "code",
   "execution_count": 37,
   "metadata": {},
   "outputs": [
    {
     "name": "stdout",
     "output_type": "stream",
     "text": [
      "2023-11-10 12:18:11.132158: E tensorflow/compiler/xla/stream_executor/cuda/cuda_dnn.cc:9342] Unable to register cuDNN factory: Attempting to register factory for plugin cuDNN when one has already been registered\n",
      "2023-11-10 12:18:11.132226: E tensorflow/compiler/xla/stream_executor/cuda/cuda_fft.cc:609] Unable to register cuFFT factory: Attempting to register factory for plugin cuFFT when one has already been registered\n",
      "2023-11-10 12:18:11.132283: E tensorflow/compiler/xla/stream_executor/cuda/cuda_blas.cc:1518] Unable to register cuBLAS factory: Attempting to register factory for plugin cuBLAS when one has already been registered\n"
     ]
    }
   ],
   "source": [
    "!tensorflowjs_converter --input_format=keras {saved_model} ./mdl_wo_std"
   ]
  },
  {
   "cell_type": "markdown",
   "metadata": {},
   "source": [
    "# Cari model TF.JS di folder mdl_wo_std"
   ]
  }
 ],
 "metadata": {
  "kernelspec": {
   "display_name": "Python 3 (ipykernel)",
   "language": "python",
   "name": "python3"
  },
  "language_info": {
   "codemirror_mode": {
    "name": "ipython",
    "version": 3
   },
   "file_extension": ".py",
   "mimetype": "text/x-python",
   "name": "python",
   "nbconvert_exporter": "python",
   "pygments_lexer": "ipython3",
   "version": "3.10.12"
  }
 },
 "nbformat": 4,
 "nbformat_minor": 4
}
