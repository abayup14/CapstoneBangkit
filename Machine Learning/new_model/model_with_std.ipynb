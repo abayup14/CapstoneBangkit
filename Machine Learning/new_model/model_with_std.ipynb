{
 "cells": [
  {
   "cell_type": "code",
   "execution_count": 1,
   "metadata": {
    "ExecuteTime": {
     "end_time": "2023-11-12T10:08:43.028645100Z",
     "start_time": "2023-11-12T10:08:42.124858Z"
    }
   },
   "outputs": [],
   "source": [
    "import pandas as pd"
   ]
  },
  {
   "cell_type": "code",
   "execution_count": 2,
   "metadata": {
    "ExecuteTime": {
     "end_time": "2023-11-12T10:09:00.443742700Z",
     "start_time": "2023-11-12T10:09:00.182738200Z"
    }
   },
   "outputs": [
    {
     "data": {
      "text/plain": "   Age_<35  Age_>35  Accessibility_No  Accessibility_Yes  EdLevel_Master  \\\n0      1.0      0.0               1.0                0.0             1.0   \n1      1.0      0.0               1.0                0.0             0.0   \n2      1.0      0.0               1.0                0.0             1.0   \n3      1.0      0.0               1.0                0.0             0.0   \n5      1.0      0.0               1.0                0.0             1.0   \n\n   EdLevel_NoHigherEd  EdLevel_Other  EdLevel_PhD  EdLevel_Undergraduate  \\\n0                 0.0            0.0          0.0                    0.0   \n1                 0.0            0.0          0.0                    1.0   \n2                 0.0            0.0          0.0                    0.0   \n3                 0.0            0.0          0.0                    1.0   \n5                 0.0            0.0          0.0                    0.0   \n\n   MentalHealth_No  MentalHealth_Yes  YearsExp  YearsProExp  NumSkills  \n0              1.0               0.0         7            4          4  \n1              1.0               0.0        12            5         12  \n2              1.0               0.0        15            6          7  \n3              1.0               0.0         9            6         13  \n5              1.0               0.0         9            2          5  ",
      "text/html": "<div>\n<style scoped>\n    .dataframe tbody tr th:only-of-type {\n        vertical-align: middle;\n    }\n\n    .dataframe tbody tr th {\n        vertical-align: top;\n    }\n\n    .dataframe thead th {\n        text-align: right;\n    }\n</style>\n<table border=\"1\" class=\"dataframe\">\n  <thead>\n    <tr style=\"text-align: right;\">\n      <th></th>\n      <th>Age_&lt;35</th>\n      <th>Age_&gt;35</th>\n      <th>Accessibility_No</th>\n      <th>Accessibility_Yes</th>\n      <th>EdLevel_Master</th>\n      <th>EdLevel_NoHigherEd</th>\n      <th>EdLevel_Other</th>\n      <th>EdLevel_PhD</th>\n      <th>EdLevel_Undergraduate</th>\n      <th>MentalHealth_No</th>\n      <th>MentalHealth_Yes</th>\n      <th>YearsExp</th>\n      <th>YearsProExp</th>\n      <th>NumSkills</th>\n    </tr>\n  </thead>\n  <tbody>\n    <tr>\n      <th>0</th>\n      <td>1.0</td>\n      <td>0.0</td>\n      <td>1.0</td>\n      <td>0.0</td>\n      <td>1.0</td>\n      <td>0.0</td>\n      <td>0.0</td>\n      <td>0.0</td>\n      <td>0.0</td>\n      <td>1.0</td>\n      <td>0.0</td>\n      <td>7</td>\n      <td>4</td>\n      <td>4</td>\n    </tr>\n    <tr>\n      <th>1</th>\n      <td>1.0</td>\n      <td>0.0</td>\n      <td>1.0</td>\n      <td>0.0</td>\n      <td>0.0</td>\n      <td>0.0</td>\n      <td>0.0</td>\n      <td>0.0</td>\n      <td>1.0</td>\n      <td>1.0</td>\n      <td>0.0</td>\n      <td>12</td>\n      <td>5</td>\n      <td>12</td>\n    </tr>\n    <tr>\n      <th>2</th>\n      <td>1.0</td>\n      <td>0.0</td>\n      <td>1.0</td>\n      <td>0.0</td>\n      <td>1.0</td>\n      <td>0.0</td>\n      <td>0.0</td>\n      <td>0.0</td>\n      <td>0.0</td>\n      <td>1.0</td>\n      <td>0.0</td>\n      <td>15</td>\n      <td>6</td>\n      <td>7</td>\n    </tr>\n    <tr>\n      <th>3</th>\n      <td>1.0</td>\n      <td>0.0</td>\n      <td>1.0</td>\n      <td>0.0</td>\n      <td>0.0</td>\n      <td>0.0</td>\n      <td>0.0</td>\n      <td>0.0</td>\n      <td>1.0</td>\n      <td>1.0</td>\n      <td>0.0</td>\n      <td>9</td>\n      <td>6</td>\n      <td>13</td>\n    </tr>\n    <tr>\n      <th>5</th>\n      <td>1.0</td>\n      <td>0.0</td>\n      <td>1.0</td>\n      <td>0.0</td>\n      <td>1.0</td>\n      <td>0.0</td>\n      <td>0.0</td>\n      <td>0.0</td>\n      <td>0.0</td>\n      <td>1.0</td>\n      <td>0.0</td>\n      <td>9</td>\n      <td>2</td>\n      <td>5</td>\n    </tr>\n  </tbody>\n</table>\n</div>"
     },
     "execution_count": 2,
     "metadata": {},
     "output_type": "execute_result"
    }
   ],
   "source": [
    "df_feature_x = pd.read_csv(\"preprocess.csv\", index_col=0)\n",
    "df_feature_x.head()"
   ]
  },
  {
   "cell_type": "code",
   "execution_count": 3,
   "metadata": {
    "ExecuteTime": {
     "end_time": "2023-11-12T10:09:25.721900800Z",
     "start_time": "2023-11-12T10:09:25.622271800Z"
    }
   },
   "outputs": [
    {
     "data": {
      "text/plain": "   Employed\n0       0.0\n1       1.0\n2       0.0\n3       0.0\n5       0.0",
      "text/html": "<div>\n<style scoped>\n    .dataframe tbody tr th:only-of-type {\n        vertical-align: middle;\n    }\n\n    .dataframe tbody tr th {\n        vertical-align: top;\n    }\n\n    .dataframe thead th {\n        text-align: right;\n    }\n</style>\n<table border=\"1\" class=\"dataframe\">\n  <thead>\n    <tr style=\"text-align: right;\">\n      <th></th>\n      <th>Employed</th>\n    </tr>\n  </thead>\n  <tbody>\n    <tr>\n      <th>0</th>\n      <td>0.0</td>\n    </tr>\n    <tr>\n      <th>1</th>\n      <td>1.0</td>\n    </tr>\n    <tr>\n      <th>2</th>\n      <td>0.0</td>\n    </tr>\n    <tr>\n      <th>3</th>\n      <td>0.0</td>\n    </tr>\n    <tr>\n      <th>5</th>\n      <td>0.0</td>\n    </tr>\n  </tbody>\n</table>\n</div>"
     },
     "execution_count": 3,
     "metadata": {},
     "output_type": "execute_result"
    }
   ],
   "source": [
    "df_feature_y = pd.read_csv(\"label.csv\", index_col=0)\n",
    "df_feature_y.head()"
   ]
  },
  {
   "cell_type": "code",
   "execution_count": 4,
   "metadata": {
    "ExecuteTime": {
     "end_time": "2023-11-12T10:09:33.131711800Z",
     "start_time": "2023-11-12T10:09:31.682029100Z"
    }
   },
   "outputs": [
    {
     "data": {
      "text/plain": "   Age_<35  Age_>35  Accessibility_No  Accessibility_Yes  EdLevel_Master  \\\n0      1.0      0.0               1.0                0.0             1.0   \n1      1.0      0.0               1.0                0.0             0.0   \n2      1.0      0.0               1.0                0.0             1.0   \n3      1.0      0.0               1.0                0.0             0.0   \n5      1.0      0.0               1.0                0.0             1.0   \n\n   EdLevel_NoHigherEd  EdLevel_Other  EdLevel_PhD  EdLevel_Undergraduate  \\\n0                 0.0            0.0          0.0                    0.0   \n1                 0.0            0.0          0.0                    1.0   \n2                 0.0            0.0          0.0                    0.0   \n3                 0.0            0.0          0.0                    1.0   \n5                 0.0            0.0          0.0                    0.0   \n\n   MentalHealth_No  MentalHealth_Yes  YearsExp  YearsProExp  NumSkills  \n0              1.0               0.0 -0.758018    -0.628905  -1.471693  \n1              1.0               0.0 -0.109125    -0.464633  -0.161156  \n2              1.0               0.0  0.280211    -0.300361  -0.980242  \n3              1.0               0.0 -0.498461    -0.300361   0.002662  \n5              1.0               0.0 -0.498461    -0.957449  -1.307876  ",
      "text/html": "<div>\n<style scoped>\n    .dataframe tbody tr th:only-of-type {\n        vertical-align: middle;\n    }\n\n    .dataframe tbody tr th {\n        vertical-align: top;\n    }\n\n    .dataframe thead th {\n        text-align: right;\n    }\n</style>\n<table border=\"1\" class=\"dataframe\">\n  <thead>\n    <tr style=\"text-align: right;\">\n      <th></th>\n      <th>Age_&lt;35</th>\n      <th>Age_&gt;35</th>\n      <th>Accessibility_No</th>\n      <th>Accessibility_Yes</th>\n      <th>EdLevel_Master</th>\n      <th>EdLevel_NoHigherEd</th>\n      <th>EdLevel_Other</th>\n      <th>EdLevel_PhD</th>\n      <th>EdLevel_Undergraduate</th>\n      <th>MentalHealth_No</th>\n      <th>MentalHealth_Yes</th>\n      <th>YearsExp</th>\n      <th>YearsProExp</th>\n      <th>NumSkills</th>\n    </tr>\n  </thead>\n  <tbody>\n    <tr>\n      <th>0</th>\n      <td>1.0</td>\n      <td>0.0</td>\n      <td>1.0</td>\n      <td>0.0</td>\n      <td>1.0</td>\n      <td>0.0</td>\n      <td>0.0</td>\n      <td>0.0</td>\n      <td>0.0</td>\n      <td>1.0</td>\n      <td>0.0</td>\n      <td>-0.758018</td>\n      <td>-0.628905</td>\n      <td>-1.471693</td>\n    </tr>\n    <tr>\n      <th>1</th>\n      <td>1.0</td>\n      <td>0.0</td>\n      <td>1.0</td>\n      <td>0.0</td>\n      <td>0.0</td>\n      <td>0.0</td>\n      <td>0.0</td>\n      <td>0.0</td>\n      <td>1.0</td>\n      <td>1.0</td>\n      <td>0.0</td>\n      <td>-0.109125</td>\n      <td>-0.464633</td>\n      <td>-0.161156</td>\n    </tr>\n    <tr>\n      <th>2</th>\n      <td>1.0</td>\n      <td>0.0</td>\n      <td>1.0</td>\n      <td>0.0</td>\n      <td>1.0</td>\n      <td>0.0</td>\n      <td>0.0</td>\n      <td>0.0</td>\n      <td>0.0</td>\n      <td>1.0</td>\n      <td>0.0</td>\n      <td>0.280211</td>\n      <td>-0.300361</td>\n      <td>-0.980242</td>\n    </tr>\n    <tr>\n      <th>3</th>\n      <td>1.0</td>\n      <td>0.0</td>\n      <td>1.0</td>\n      <td>0.0</td>\n      <td>0.0</td>\n      <td>0.0</td>\n      <td>0.0</td>\n      <td>0.0</td>\n      <td>1.0</td>\n      <td>1.0</td>\n      <td>0.0</td>\n      <td>-0.498461</td>\n      <td>-0.300361</td>\n      <td>0.002662</td>\n    </tr>\n    <tr>\n      <th>5</th>\n      <td>1.0</td>\n      <td>0.0</td>\n      <td>1.0</td>\n      <td>0.0</td>\n      <td>1.0</td>\n      <td>0.0</td>\n      <td>0.0</td>\n      <td>0.0</td>\n      <td>0.0</td>\n      <td>1.0</td>\n      <td>0.0</td>\n      <td>-0.498461</td>\n      <td>-0.957449</td>\n      <td>-1.307876</td>\n    </tr>\n  </tbody>\n</table>\n</div>"
     },
     "execution_count": 4,
     "metadata": {},
     "output_type": "execute_result"
    }
   ],
   "source": [
    "from sklearn.preprocessing import StandardScaler\n",
    "import numpy as np\n",
    "\n",
    "norm_scaler = StandardScaler()\n",
    "\n",
    "years_exp = df_feature_x[\"YearsExp\"].values.reshape(-1, 1)\n",
    "years_pro_exp = df_feature_x[\"YearsProExp\"].values.reshape(-1, 1)\n",
    "num_skills = df_feature_x[\"NumSkills\"].values.reshape(-1, 1)\n",
    "\n",
    "data_to_normal = np.column_stack((years_exp, years_pro_exp, num_skills))\n",
    "\n",
    "new_values = norm_scaler.fit_transform(data_to_normal)\n",
    "\n",
    "df_feature_x[\"YearsExp\"] = new_values[:, 0]\n",
    "df_feature_x[\"YearsProExp\"] = new_values[:, 1]\n",
    "df_feature_x[\"NumSkills\"] = new_values[:, 2]\n",
    "\n",
    "df_feature_x.head()"
   ]
  },
  {
   "cell_type": "code",
   "execution_count": 5,
   "metadata": {
    "ExecuteTime": {
     "end_time": "2023-11-12T10:09:38.750961700Z",
     "start_time": "2023-11-12T10:09:38.654375300Z"
    }
   },
   "outputs": [
    {
     "data": {
      "text/plain": "   Age_<35  Age_>35  Accessibility_No  Accessibility_Yes  EdLevel_Master  \\\n0      1.0      0.0               1.0                0.0             1.0   \n1      1.0      0.0               1.0                0.0             0.0   \n2      1.0      0.0               1.0                0.0             1.0   \n3      1.0      0.0               1.0                0.0             0.0   \n5      1.0      0.0               1.0                0.0             1.0   \n\n   EdLevel_NoHigherEd  EdLevel_Other  EdLevel_PhD  EdLevel_Undergraduate  \\\n0                 0.0            0.0          0.0                    0.0   \n1                 0.0            0.0          0.0                    1.0   \n2                 0.0            0.0          0.0                    0.0   \n3                 0.0            0.0          0.0                    1.0   \n5                 0.0            0.0          0.0                    0.0   \n\n   MentalHealth_No  MentalHealth_Yes  YearsExp  YearsProExp  NumSkills  \n0              1.0               0.0 -0.758018    -0.628905  -1.471693  \n1              1.0               0.0 -0.109125    -0.464633  -0.161156  \n2              1.0               0.0  0.280211    -0.300361  -0.980242  \n3              1.0               0.0 -0.498461    -0.300361   0.002662  \n5              1.0               0.0 -0.498461    -0.957449  -1.307876  ",
      "text/html": "<div>\n<style scoped>\n    .dataframe tbody tr th:only-of-type {\n        vertical-align: middle;\n    }\n\n    .dataframe tbody tr th {\n        vertical-align: top;\n    }\n\n    .dataframe thead th {\n        text-align: right;\n    }\n</style>\n<table border=\"1\" class=\"dataframe\">\n  <thead>\n    <tr style=\"text-align: right;\">\n      <th></th>\n      <th>Age_&lt;35</th>\n      <th>Age_&gt;35</th>\n      <th>Accessibility_No</th>\n      <th>Accessibility_Yes</th>\n      <th>EdLevel_Master</th>\n      <th>EdLevel_NoHigherEd</th>\n      <th>EdLevel_Other</th>\n      <th>EdLevel_PhD</th>\n      <th>EdLevel_Undergraduate</th>\n      <th>MentalHealth_No</th>\n      <th>MentalHealth_Yes</th>\n      <th>YearsExp</th>\n      <th>YearsProExp</th>\n      <th>NumSkills</th>\n    </tr>\n  </thead>\n  <tbody>\n    <tr>\n      <th>0</th>\n      <td>1.0</td>\n      <td>0.0</td>\n      <td>1.0</td>\n      <td>0.0</td>\n      <td>1.0</td>\n      <td>0.0</td>\n      <td>0.0</td>\n      <td>0.0</td>\n      <td>0.0</td>\n      <td>1.0</td>\n      <td>0.0</td>\n      <td>-0.758018</td>\n      <td>-0.628905</td>\n      <td>-1.471693</td>\n    </tr>\n    <tr>\n      <th>1</th>\n      <td>1.0</td>\n      <td>0.0</td>\n      <td>1.0</td>\n      <td>0.0</td>\n      <td>0.0</td>\n      <td>0.0</td>\n      <td>0.0</td>\n      <td>0.0</td>\n      <td>1.0</td>\n      <td>1.0</td>\n      <td>0.0</td>\n      <td>-0.109125</td>\n      <td>-0.464633</td>\n      <td>-0.161156</td>\n    </tr>\n    <tr>\n      <th>2</th>\n      <td>1.0</td>\n      <td>0.0</td>\n      <td>1.0</td>\n      <td>0.0</td>\n      <td>1.0</td>\n      <td>0.0</td>\n      <td>0.0</td>\n      <td>0.0</td>\n      <td>0.0</td>\n      <td>1.0</td>\n      <td>0.0</td>\n      <td>0.280211</td>\n      <td>-0.300361</td>\n      <td>-0.980242</td>\n    </tr>\n    <tr>\n      <th>3</th>\n      <td>1.0</td>\n      <td>0.0</td>\n      <td>1.0</td>\n      <td>0.0</td>\n      <td>0.0</td>\n      <td>0.0</td>\n      <td>0.0</td>\n      <td>0.0</td>\n      <td>1.0</td>\n      <td>1.0</td>\n      <td>0.0</td>\n      <td>-0.498461</td>\n      <td>-0.300361</td>\n      <td>0.002662</td>\n    </tr>\n    <tr>\n      <th>5</th>\n      <td>1.0</td>\n      <td>0.0</td>\n      <td>1.0</td>\n      <td>0.0</td>\n      <td>1.0</td>\n      <td>0.0</td>\n      <td>0.0</td>\n      <td>0.0</td>\n      <td>0.0</td>\n      <td>1.0</td>\n      <td>0.0</td>\n      <td>-0.498461</td>\n      <td>-0.957449</td>\n      <td>-1.307876</td>\n    </tr>\n  </tbody>\n</table>\n</div>"
     },
     "execution_count": 5,
     "metadata": {},
     "output_type": "execute_result"
    }
   ],
   "source": [
    "from sklearn.preprocessing import MinMaxScaler\n",
    "\n",
    "scaler = MinMaxScaler(feature_range=(0, 1))\n",
    "\n",
    "years_exp = df_feature_x[\"YearsExp\"].values.reshape(-1, 1)\n",
    "years_pro_exp = df_feature_x[\"YearsProExp\"].values.reshape(-1, 1)\n",
    "num_skills = df_feature_x[\"NumSkills\"].values.reshape(-1, 1)\n",
    "\n",
    "data_to_minmax = np.column_stack((years_exp, years_pro_exp, num_skills))\n",
    "\n",
    "new_values = norm_scaler.fit_transform(data_to_normal)\n",
    "\n",
    "df_feature_x[\"YearsExp\"] = new_values[:, 0]\n",
    "df_feature_x[\"YearsProExp\"] = new_values[:, 1]\n",
    "df_feature_x[\"NumSkills\"] = new_values[:, 2]\n",
    "\n",
    "df_feature_x.head()"
   ]
  },
  {
   "cell_type": "code",
   "execution_count": 6,
   "metadata": {
    "ExecuteTime": {
     "end_time": "2023-11-12T10:09:42.027550Z",
     "start_time": "2023-11-12T10:09:41.784473Z"
    }
   },
   "outputs": [
    {
     "name": "stdout",
     "output_type": "stream",
     "text": [
      "Data before splitting: 66965\n",
      "Train data: 53572\n",
      "Validation data: 13393\n"
     ]
    }
   ],
   "source": [
    "from sklearn.model_selection import train_test_split\n",
    "X_train, X_valid, Y_train, Y_valid = train_test_split(df_feature_x, df_feature_y, test_size=0.2, random_state=1)\n",
    "\n",
    "\n",
    "print(f\"Data before splitting: {len(df_feature_x)}\")\n",
    "print(f\"Train data: {len(X_train)}\")\n",
    "print(f\"Validation data: {len(X_valid)}\")"
   ]
  },
  {
   "cell_type": "code",
   "execution_count": 7,
   "metadata": {
    "ExecuteTime": {
     "end_time": "2023-11-12T06:37:16.251067700Z",
     "start_time": "2023-11-12T06:37:16.230357800Z"
    }
   },
   "outputs": [],
   "source": [
    "EPOCH = 20\n",
    "LEARNING_RATE = 1e-3"
   ]
  },
  {
   "cell_type": "code",
   "execution_count": 8,
   "metadata": {
    "ExecuteTime": {
     "end_time": "2023-11-12T06:40:30.796138700Z",
     "start_time": "2023-11-12T06:37:17.291233100Z"
    }
   },
   "outputs": [
    {
     "name": "stderr",
     "output_type": "stream",
     "text": [
      "2023-11-12 13:37:18.875533: E tensorflow/compiler/xla/stream_executor/cuda/cuda_dnn.cc:9342] Unable to register cuDNN factory: Attempting to register factory for plugin cuDNN when one has already been registered\n",
      "2023-11-12 13:37:18.875686: E tensorflow/compiler/xla/stream_executor/cuda/cuda_fft.cc:609] Unable to register cuFFT factory: Attempting to register factory for plugin cuFFT when one has already been registered\n",
      "2023-11-12 13:37:18.878032: E tensorflow/compiler/xla/stream_executor/cuda/cuda_blas.cc:1518] Unable to register cuBLAS factory: Attempting to register factory for plugin cuBLAS when one has already been registered\n",
      "2023-11-12 13:37:19.095936: I tensorflow/core/platform/cpu_feature_guard.cc:182] This TensorFlow binary is optimized to use available CPU instructions in performance-critical operations.\n",
      "To enable the following instructions: AVX2 FMA, in other operations, rebuild TensorFlow with the appropriate compiler flags.\n",
      "2023-11-12 13:37:26.846511: I tensorflow/compiler/xla/stream_executor/cuda/cuda_gpu_executor.cc:880] could not open file to read NUMA node: /sys/bus/pci/devices/0000:01:00.0/numa_node\n",
      "Your kernel may have been built without NUMA support.\n",
      "2023-11-12 13:37:26.867820: I tensorflow/compiler/xla/stream_executor/cuda/cuda_gpu_executor.cc:880] could not open file to read NUMA node: /sys/bus/pci/devices/0000:01:00.0/numa_node\n",
      "Your kernel may have been built without NUMA support.\n",
      "2023-11-12 13:37:26.867896: I tensorflow/compiler/xla/stream_executor/cuda/cuda_gpu_executor.cc:880] could not open file to read NUMA node: /sys/bus/pci/devices/0000:01:00.0/numa_node\n",
      "Your kernel may have been built without NUMA support.\n",
      "2023-11-12 13:37:26.870043: I tensorflow/compiler/xla/stream_executor/cuda/cuda_gpu_executor.cc:880] could not open file to read NUMA node: /sys/bus/pci/devices/0000:01:00.0/numa_node\n",
      "Your kernel may have been built without NUMA support.\n",
      "2023-11-12 13:37:26.870098: I tensorflow/compiler/xla/stream_executor/cuda/cuda_gpu_executor.cc:880] could not open file to read NUMA node: /sys/bus/pci/devices/0000:01:00.0/numa_node\n",
      "Your kernel may have been built without NUMA support.\n",
      "2023-11-12 13:37:26.870125: I tensorflow/compiler/xla/stream_executor/cuda/cuda_gpu_executor.cc:880] could not open file to read NUMA node: /sys/bus/pci/devices/0000:01:00.0/numa_node\n",
      "Your kernel may have been built without NUMA support.\n",
      "2023-11-12 13:37:27.069124: I tensorflow/compiler/xla/stream_executor/cuda/cuda_gpu_executor.cc:880] could not open file to read NUMA node: /sys/bus/pci/devices/0000:01:00.0/numa_node\n",
      "Your kernel may have been built without NUMA support.\n",
      "2023-11-12 13:37:27.069190: I tensorflow/compiler/xla/stream_executor/cuda/cuda_gpu_executor.cc:880] could not open file to read NUMA node: /sys/bus/pci/devices/0000:01:00.0/numa_node\n",
      "Your kernel may have been built without NUMA support.\n",
      "2023-11-12 13:37:27.069197: I tensorflow/core/common_runtime/gpu/gpu_device.cc:1977] Could not identify NUMA node of platform GPU id 0, defaulting to 0.  Your kernel may not have been built with NUMA support.\n",
      "2023-11-12 13:37:27.069241: I tensorflow/compiler/xla/stream_executor/cuda/cuda_gpu_executor.cc:880] could not open file to read NUMA node: /sys/bus/pci/devices/0000:01:00.0/numa_node\n",
      "Your kernel may have been built without NUMA support.\n",
      "2023-11-12 13:37:27.069261: I tensorflow/core/common_runtime/gpu/gpu_device.cc:1886] Created device /job:localhost/replica:0/task:0/device:GPU:0 with 1778 MB memory:  -> device: 0, name: NVIDIA GeForce RTX 3050 Laptop GPU, pci bus id: 0000:01:00.0, compute capability: 8.6\n"
     ]
    },
    {
     "name": "stdout",
     "output_type": "stream",
     "text": [
      "Epoch 1/20\n"
     ]
    },
    {
     "name": "stderr",
     "output_type": "stream",
     "text": [
      "2023-11-12 13:37:28.156138: I tensorflow/compiler/xla/service/service.cc:168] XLA service 0x7f62b2885be0 initialized for platform CUDA (this does not guarantee that XLA will be used). Devices:\n",
      "2023-11-12 13:37:28.156213: I tensorflow/compiler/xla/service/service.cc:176]   StreamExecutor device (0): NVIDIA GeForce RTX 3050 Laptop GPU, Compute Capability 8.6\n",
      "2023-11-12 13:37:28.164975: I tensorflow/compiler/mlir/tensorflow/utils/dump_mlir_util.cc:269] disabling MLIR crash reproducer, set env var `MLIR_CRASH_REPRODUCER_DIRECTORY` to enable.\n",
      "2023-11-12 13:37:28.188188: I tensorflow/compiler/xla/stream_executor/cuda/cuda_dnn.cc:442] Loaded cuDNN version 8700\n",
      "2023-11-12 13:37:28.265272: I ./tensorflow/compiler/jit/device_compiler.h:186] Compiled cluster using XLA!  This line is logged at most once for the lifetime of the process.\n"
     ]
    },
    {
     "name": "stdout",
     "output_type": "stream",
     "text": [
      "1675/1675 [==============================] - 10s 5ms/step - loss: 0.4725 - accuracy: 0.7703 - val_loss: 0.4592 - val_accuracy: 0.7788\n",
      "Epoch 2/20\n",
      "1675/1675 [==============================] - 9s 6ms/step - loss: 0.4576 - accuracy: 0.7769 - val_loss: 0.4529 - val_accuracy: 0.7806\n",
      "Epoch 3/20\n",
      "1675/1675 [==============================] - 10s 6ms/step - loss: 0.4560 - accuracy: 0.7773 - val_loss: 0.4522 - val_accuracy: 0.7821\n",
      "Epoch 4/20\n",
      "1675/1675 [==============================] - 10s 6ms/step - loss: 0.4553 - accuracy: 0.7775 - val_loss: 0.4521 - val_accuracy: 0.7828\n",
      "Epoch 5/20\n",
      "1675/1675 [==============================] - 9s 6ms/step - loss: 0.4552 - accuracy: 0.7776 - val_loss: 0.4524 - val_accuracy: 0.7790\n",
      "Epoch 6/20\n",
      "1675/1675 [==============================] - 9s 5ms/step - loss: 0.4548 - accuracy: 0.7769 - val_loss: 0.4518 - val_accuracy: 0.7813\n",
      "Epoch 7/20\n",
      "1675/1675 [==============================] - 9s 6ms/step - loss: 0.4544 - accuracy: 0.7779 - val_loss: 0.4519 - val_accuracy: 0.7838\n",
      "Epoch 8/20\n",
      "1675/1675 [==============================] - 9s 5ms/step - loss: 0.4543 - accuracy: 0.7780 - val_loss: 0.4516 - val_accuracy: 0.7817\n",
      "Epoch 9/20\n",
      "1675/1675 [==============================] - 9s 6ms/step - loss: 0.4543 - accuracy: 0.7772 - val_loss: 0.4515 - val_accuracy: 0.7829\n",
      "Epoch 10/20\n",
      "1675/1675 [==============================] - 8s 5ms/step - loss: 0.4540 - accuracy: 0.7769 - val_loss: 0.4511 - val_accuracy: 0.7826\n",
      "Epoch 11/20\n",
      "1675/1675 [==============================] - 9s 5ms/step - loss: 0.4542 - accuracy: 0.7777 - val_loss: 0.4514 - val_accuracy: 0.7830\n",
      "Epoch 12/20\n",
      "1675/1675 [==============================] - 10s 6ms/step - loss: 0.4537 - accuracy: 0.7782 - val_loss: 0.4516 - val_accuracy: 0.7803\n",
      "Epoch 13/20\n",
      "1675/1675 [==============================] - 9s 6ms/step - loss: 0.4538 - accuracy: 0.7776 - val_loss: 0.4520 - val_accuracy: 0.7829\n",
      "Epoch 14/20\n",
      "1675/1675 [==============================] - 9s 5ms/step - loss: 0.4538 - accuracy: 0.7773 - val_loss: 0.4512 - val_accuracy: 0.7823\n",
      "Epoch 15/20\n",
      "1675/1675 [==============================] - 9s 5ms/step - loss: 0.4538 - accuracy: 0.7770 - val_loss: 0.4534 - val_accuracy: 0.7818\n",
      "Epoch 16/20\n",
      "1675/1675 [==============================] - 9s 5ms/step - loss: 0.4536 - accuracy: 0.7779 - val_loss: 0.4516 - val_accuracy: 0.7832\n",
      "Epoch 17/20\n",
      "1675/1675 [==============================] - 9s 5ms/step - loss: 0.4536 - accuracy: 0.7783 - val_loss: 0.4528 - val_accuracy: 0.7797\n",
      "Epoch 18/20\n",
      "1675/1675 [==============================] - 9s 5ms/step - loss: 0.4537 - accuracy: 0.7774 - val_loss: 0.4528 - val_accuracy: 0.7794\n",
      "Epoch 19/20\n",
      "1675/1675 [==============================] - 9s 5ms/step - loss: 0.4536 - accuracy: 0.7775 - val_loss: 0.4518 - val_accuracy: 0.7826\n",
      "Epoch 20/20\n",
      "1675/1675 [==============================] - 9s 5ms/step - loss: 0.4535 - accuracy: 0.7771 - val_loss: 0.4526 - val_accuracy: 0.7838\n"
     ]
    }
   ],
   "source": [
    "import tensorflow as tf\n",
    "len_feature = len(df_feature_x.columns)\n",
    "\n",
    "tf.keras.backend.clear_session()\n",
    "\n",
    "model = tf.keras.Sequential([\n",
    "    tf.keras.layers.Input(shape=(len_feature,)),\n",
    "    tf.keras.layers.Dense(16, activation=\"relu\"),\n",
    "    tf.keras.layers.Dense(8, activation=\"relu\"),\n",
    "    tf.keras.layers.Dense(2, activation=\"softmax\")\n",
    "])\n",
    "\n",
    "model.compile(optimizer=tf.keras.optimizers.Adam(learning_rate=LEARNING_RATE), \n",
    "              loss=tf.keras.losses.SparseCategoricalCrossentropy(),\n",
    "              metrics=[\"accuracy\"])\n",
    "\n",
    "history = model.fit(X_train, Y_train, epochs=EPOCH, validation_data=(X_valid, Y_valid))"
   ]
  },
  {
   "cell_type": "code",
   "execution_count": 9,
   "metadata": {
    "ExecuteTime": {
     "end_time": "2023-11-12T06:41:10.594938100Z",
     "start_time": "2023-11-12T06:41:09.972427Z"
    }
   },
   "outputs": [
    {
     "data": {
      "text/plain": "<Figure size 640x480 with 1 Axes>",
      "image/png": "[encoded data removed]"
     },
     "metadata": {},
     "output_type": "display_data"
    },
    {
     "data": {
      "text/plain": "<Figure size 640x480 with 1 Axes>",
      "image/png": "[encoded data removed]"
     },
     "metadata": {},
     "output_type": "display_data"
    }
   ],
   "source": [
    "import matplotlib.pyplot as plt\n",
    "\n",
    "acc = history.history['accuracy']\n",
    "val_acc = history.history['val_accuracy']\n",
    "loss = history.history['loss']\n",
    "val_loss = history.history['val_loss']\n",
    "\n",
    "epochs = range(len(acc))\n",
    "\n",
    "plt.plot(epochs, acc, 'r', label='Training accuracy')\n",
    "plt.plot(epochs, val_acc, 'b', label='Validation accuracy')\n",
    "plt.title('Training and validation accuracy')\n",
    "plt.legend()\n",
    "plt.figure()\n",
    "\n",
    "plt.plot(epochs, loss, 'r', label='Training Loss')\n",
    "plt.plot(epochs, val_loss, 'b', label='Validation Loss')\n",
    "plt.title('Training and validation loss')\n",
    "plt.legend()\n",
    "\n",
    "plt.show()"
   ]
  },
  {
   "cell_type": "code",
   "execution_count": 10,
   "metadata": {
    "ExecuteTime": {
     "end_time": "2023-11-12T06:41:17.504620Z",
     "start_time": "2023-11-12T06:41:17.389394600Z"
    }
   },
   "outputs": [
    {
     "name": "stdout",
     "output_type": "stream",
     "text": [
      "1/1 [==============================] - 0s 71ms/step\n"
     ]
    },
    {
     "data": {
      "text/plain": "array([[0.89999795, 0.10000206]], dtype=float32)"
     },
     "execution_count": 10,
     "metadata": {},
     "output_type": "execute_result"
    }
   ],
   "source": [
    "model.predict([[1.0,0.0,1.0,0.0,1.0,0.0,0.0,0.0,0.0,1.0,0.0,-0.72,-0.84,-0.925234]])"
   ]
  },
  {
   "cell_type": "code",
   "execution_count": 11,
   "metadata": {
    "ExecuteTime": {
     "end_time": "2023-11-12T06:41:19.431845200Z",
     "start_time": "2023-11-12T06:41:19.419160500Z"
    }
   },
   "outputs": [
    {
     "name": "stdout",
     "output_type": "stream",
     "text": [
      "Model: \"sequential\"\n",
      "_________________________________________________________________\n",
      " Layer (type)                Output Shape              Param #   \n",
      "=================================================================\n",
      " dense (Dense)               (None, 16)                240       \n",
      "                                                                 \n",
      " dense_1 (Dense)             (None, 8)                 136       \n",
      "                                                                 \n",
      " dense_2 (Dense)             (None, 2)                 18        \n",
      "                                                                 \n",
      "=================================================================\n",
      "Total params: 394 (1.54 KB)\n",
      "Trainable params: 394 (1.54 KB)\n",
      "Non-trainable params: 0 (0.00 Byte)\n",
      "_________________________________________________________________\n"
     ]
    }
   ],
   "source": [
    "model.summary()"
   ]
  },
  {
   "cell_type": "code",
   "execution_count": 12,
   "metadata": {
    "ExecuteTime": {
     "end_time": "2023-11-12T06:41:24.906511600Z",
     "start_time": "2023-11-12T06:41:24.863660200Z"
    }
   },
   "outputs": [
    {
     "data": {
      "text/plain": "'saved_model = \"mdl_std/model_with_std.h5\"\\nmodel.save(saved_model)'"
     },
     "execution_count": 12,
     "metadata": {},
     "output_type": "execute_result"
    }
   ],
   "source": [
    "'''saved_model = \"mdl_std/model_with_std.h5\"\n",
    "model.save(saved_model)'''"
   ]
  },
  {
   "cell_type": "code",
   "execution_count": 13,
   "metadata": {
    "ExecuteTime": {
     "end_time": "2023-11-12T06:41:25.466094900Z",
     "start_time": "2023-11-12T06:41:25.450579900Z"
    }
   },
   "outputs": [
    {
     "data": {
      "text/plain": "'!tensorflowjs_converter --input_format=keras {saved_model} ./mdl_std'"
     },
     "execution_count": 13,
     "metadata": {},
     "output_type": "execute_result"
    }
   ],
   "source": [
    "'''!tensorflowjs_converter --input_format=keras {saved_model} ./mdl_std'''"
   ]
  },
  {
   "cell_type": "markdown",
   "metadata": {},
   "source": [
    "# Cari model TF.JS di folder mdl_std"
   ]
  },
  {
   "cell_type": "code",
   "execution_count": 14,
   "metadata": {
    "ExecuteTime": {
     "end_time": "2023-11-12T06:41:33.610749500Z",
     "start_time": "2023-11-12T06:41:33.090751500Z"
    }
   },
   "outputs": [
    {
     "name": "stdout",
     "output_type": "stream",
     "text": [
      "/tmp\n",
      "/tmp/1\n",
      "INFO:tensorflow:Assets written to: /tmp/1/assets\n"
     ]
    },
    {
     "name": "stderr",
     "output_type": "stream",
     "text": [
      "INFO:tensorflow:Assets written to: /tmp/1/assets\n"
     ]
    },
    {
     "name": "stdout",
     "output_type": "stream",
     "text": [
      "\n",
      "export_path = /tmp/1\n",
      "/bin/bash: warning: setlocale: LC_ALL: cannot change locale (en_US.UTF-8)\r\n",
      "total 120\r\n",
      "drwxr-xr-x 2 abayup14 abayup14  4096 Nov 12 13:41 assets\r\n",
      "-rw-r--r-- 1 abayup14 abayup14    55 Nov 12 13:41 fingerprint.pb\r\n",
      "-rw-r--r-- 1 abayup14 abayup14  8698 Nov 12 13:41 keras_metadata.pb\r\n",
      "-rw-r--r-- 1 abayup14 abayup14 94807 Nov 12 13:41 saved_model.pb\r\n",
      "drwxr-xr-x 2 abayup14 abayup14  4096 Nov 12 13:41 variables\r\n"
     ]
    }
   ],
   "source": [
    "import tempfile\n",
    "import os\n",
    "MODEL_DIR = tempfile.gettempdir()\n",
    "\n",
    "print(MODEL_DIR)\n",
    "\n",
    "version = 1\n",
    "\n",
    "export_path = os.path.join(MODEL_DIR, str(version))\n",
    "\n",
    "print(export_path)\n",
    "\n",
    "if os.path.isdir(export_path):\n",
    "    print('\\nAlready saved a model, cleaning up\\n')\n",
    "    !rm -r {export_path}\n",
    "\n",
    "model.save(export_path, save_format=\"tf\")\n",
    "\n",
    "print('\\nexport_path = {}'.format(export_path))\n",
    "!ls -l {export_path}"
   ]
  },
  {
   "cell_type": "code",
   "execution_count": 15,
   "metadata": {
    "ExecuteTime": {
     "end_time": "2023-11-12T06:41:38.764369700Z",
     "start_time": "2023-11-12T06:41:34.940699Z"
    }
   },
   "outputs": [
    {
     "name": "stdout",
     "output_type": "stream",
     "text": [
      "/bin/bash: warning: setlocale: LC_ALL: cannot change locale (en_US.UTF-8)\r\n",
      "2023-11-12 13:41:35.237139: E tensorflow/compiler/xla/stream_executor/cuda/cuda_dnn.cc:9342] Unable to register cuDNN factory: Attempting to register factory for plugin cuDNN when one has already been registered\r\n",
      "2023-11-12 13:41:35.237217: E tensorflow/compiler/xla/stream_executor/cuda/cuda_fft.cc:609] Unable to register cuFFT factory: Attempting to register factory for plugin cuFFT when one has already been registered\r\n",
      "2023-11-12 13:41:35.237238: E tensorflow/compiler/xla/stream_executor/cuda/cuda_blas.cc:1518] Unable to register cuBLAS factory: Attempting to register factory for plugin cuBLAS when one has already been registered\r\n",
      "\r\n",
      "MetaGraphDef with tag-set: 'serve' contains the following SignatureDefs:\r\n",
      "\r\n",
      "signature_def['__saved_model_init_op']:\r\n",
      "  The given SavedModel SignatureDef contains the following input(s):\r\n",
      "  The given SavedModel SignatureDef contains the following output(s):\r\n",
      "    outputs['__saved_model_init_op'] tensor_info:\r\n",
      "        dtype: DT_INVALID\r\n",
      "        shape: unknown_rank\r\n",
      "        name: NoOp\r\n",
      "  Method name is: \r\n",
      "\r\n",
      "signature_def['serving_default']:\r\n",
      "  The given SavedModel SignatureDef contains the following input(s):\r\n",
      "    inputs['input_1'] tensor_info:\r\n",
      "        dtype: DT_FLOAT\r\n",
      "        shape: (-1, 14)\r\n",
      "        name: serving_default_input_1:0\r\n",
      "  The given SavedModel SignatureDef contains the following output(s):\r\n",
      "    outputs['dense_2'] tensor_info:\r\n",
      "        dtype: DT_FLOAT\r\n",
      "        shape: (-1, 2)\r\n",
      "        name: StatefulPartitionedCall:0\r\n",
      "  Method name is: tensorflow/serving/predict\r\n",
      "The MetaGraph with tag set ['serve'] contains the following ops: {'StaticRegexFullMatch', 'Const', 'AssignVariableOp', 'MatMul', 'Select', 'SaveV2', 'VarHandleOp', 'StatefulPartitionedCall', 'MergeV2Checkpoints', 'ReadVariableOp', 'Relu', 'Identity', 'Placeholder', 'DisableCopyOnRead', 'Pack', 'RestoreV2', 'NoOp', 'StringJoin', 'ShardedFilename', 'BiasAdd', 'Softmax'}\r\n",
      "\r\n",
      "Concrete Functions:\r\n",
      "  Function Name: '__call__'\r\n",
      "    Option #1\r\n",
      "      Callable with:\r\n",
      "        Argument #1\r\n",
      "          input_1: TensorSpec(shape=(None, 14), dtype=tf.float32, name='input_1')\r\n",
      "        Argument #2\r\n",
      "          DType: bool\r\n",
      "          Value: False\r\n",
      "        Argument #3\r\n",
      "          DType: NoneType\r\n",
      "          Value: None\r\n",
      "    Option #2\r\n",
      "      Callable with:\r\n",
      "        Argument #1\r\n",
      "          input_1: TensorSpec(shape=(None, 14), dtype=tf.float32, name='input_1')\r\n",
      "        Argument #2\r\n",
      "          DType: bool\r\n",
      "          Value: True\r\n",
      "        Argument #3\r\n",
      "          DType: NoneType\r\n",
      "          Value: None\r\n",
      "\r\n",
      "  Function Name: '_default_save_signature'\r\n",
      "    Option #1\r\n",
      "      Callable with:\r\n",
      "        Argument #1\r\n",
      "          input_1: TensorSpec(shape=(None, 14), dtype=tf.float32, name='input_1')\r\n",
      "\r\n",
      "  Function Name: 'call_and_return_all_conditional_losses'\r\n",
      "    Option #1\r\n",
      "      Callable with:\r\n",
      "        Argument #1\r\n",
      "          input_1: TensorSpec(shape=(None, 14), dtype=tf.float32, name='input_1')\r\n",
      "        Argument #2\r\n",
      "          DType: bool\r\n",
      "          Value: False\r\n",
      "        Argument #3\r\n",
      "          DType: NoneType\r\n",
      "          Value: None\r\n",
      "    Option #2\r\n",
      "      Callable with:\r\n",
      "        Argument #1\r\n",
      "          input_1: TensorSpec(shape=(None, 14), dtype=tf.float32, name='input_1')\r\n",
      "        Argument #2\r\n",
      "          DType: bool\r\n",
      "          Value: True\r\n",
      "        Argument #3\r\n",
      "          DType: NoneType\r\n",
      "          Value: None\r\n"
     ]
    }
   ],
   "source": [
    "!saved_model_cli show --dir {export_path} --all"
   ]
  },
  {
   "cell_type": "code",
   "execution_count": 16,
   "metadata": {
    "ExecuteTime": {
     "end_time": "2023-11-12T06:41:41.271385Z",
     "start_time": "2023-11-12T06:41:41.263218400Z"
    }
   },
   "outputs": [],
   "source": [
    "os.environ[\"MODEL_DIR\"] = MODEL_DIR"
   ]
  },
  {
   "cell_type": "code",
   "execution_count": 17,
   "metadata": {
    "ExecuteTime": {
     "end_time": "2023-11-12T06:41:42.398613800Z",
     "start_time": "2023-11-12T06:41:42.389615500Z"
    }
   },
   "outputs": [],
   "source": [
    "%%bash --bg \n",
    "nohup tensorflow_model_server \\\n",
    "  --rest_api_port=8501 \\\n",
    "  --model_name=model_std \\\n",
    "  --model_base_path=\"${MODEL_DIR}\" >server.log 2>&1"
   ]
  },
  {
   "cell_type": "code",
   "execution_count": 18,
   "metadata": {
    "ExecuteTime": {
     "end_time": "2023-11-12T06:41:43.603309800Z",
     "start_time": "2023-11-12T06:41:43.476608600Z"
    }
   },
   "outputs": [
    {
     "name": "stdout",
     "output_type": "stream",
     "text": [
      "/bin/bash: warning: setlocale: LC_ALL: cannot change locale (en_US.UTF-8)\r\n",
      "[evhttp_server.cc : 245] NET_LOG: Entering the event loop ...\r\n"
     ]
    }
   ],
   "source": [
    "!tail server.log"
   ]
  },
  {
   "cell_type": "code",
   "execution_count": 19,
   "metadata": {
    "ExecuteTime": {
     "end_time": "2023-11-12T06:41:47.977452700Z",
     "start_time": "2023-11-12T06:41:47.927287300Z"
    }
   },
   "outputs": [
    {
     "name": "stdout",
     "output_type": "stream",
     "text": [
      "{\"signature_name\": \"serving_default\", \"instances\": [[1.0, 0.0, 1.0, 0.0, 1.0, 0.0, 0.0, 0.0, 0.0, 1.0, 0.0, 0.14, 0.08, 0.037383177570093455], [0.0, 1.0, 1.0, 0.0, 0.0, 0.0, 0.0, 1.0, 0.0, 1.0, 0.0, 0.8, 0.6, 0.018691588785046728]]}\n"
     ]
    }
   ],
   "source": [
    "import json\n",
    "xs = np.array([[1.0,0.0,1.0,0.0,1.0,0.0,0.0,0.0,0.0,1.0,0.0,0.14,0.08,0.037383177570093455], [0.0,1.0,1.0,0.0,0.0,0.0,0.0,1.0,0.0,1.0,0.0,0.8,0.6,0.018691588785046728]])\n",
    "data = json.dumps({\"signature_name\": \"serving_default\", \"instances\": xs.tolist()})\n",
    "print(data)"
   ]
  },
  {
   "cell_type": "code",
   "execution_count": 20,
   "metadata": {
    "ExecuteTime": {
     "end_time": "2023-11-12T06:41:49.643024100Z",
     "start_time": "2023-11-12T06:41:49.577745300Z"
    }
   },
   "outputs": [
    {
     "name": "stdout",
     "output_type": "stream",
     "text": [
      "{\n",
      "    \"predictions\": [[0.432526171, 0.567473888], [0.535844207, 0.464155763]\n",
      "    ]\n",
      "}\n"
     ]
    }
   ],
   "source": [
    "# if this cell fails execution because of an \"...Failed to establish a new connection...\" error,\n",
    "# try replacing in the link below 'localhost' with '127.0.0.1'\n",
    "import requests\n",
    "headers = {\"content-type\": \"application/json\"}\n",
    "json_response = requests.post('http://127.0.0.1:8501/v1/models/model_std:predict', data=data, headers=headers)\n",
    "\n",
    "print(json_response.text)"
   ]
  },
  {
   "cell_type": "code",
   "execution_count": 21,
   "metadata": {
    "ExecuteTime": {
     "end_time": "2023-11-12T06:41:55.549901400Z",
     "start_time": "2023-11-12T06:41:55.498433700Z"
    }
   },
   "outputs": [
    {
     "name": "stdout",
     "output_type": "stream",
     "text": [
      "[[0.432526171, 0.567473888], [0.535844207, 0.464155763]]\n"
     ]
    }
   ],
   "source": [
    "predictions = json.loads(json_response.text)['predictions']\n",
    "print(predictions)"
   ]
  },
  {
   "cell_type": "code",
   "execution_count": null,
   "outputs": [],
   "source": [],
   "metadata": {
    "collapsed": false
   }
  }
 ],
 "metadata": {
  "kernelspec": {
   "display_name": "Python 3",
   "language": "python",
   "name": "python3"
  },
  "language_info": {
   "codemirror_mode": {
    "name": "ipython",
    "version": 3
   },
   "file_extension": ".py",
   "mimetype": "text/x-python",
   "name": "python",
   "nbconvert_exporter": "python",
   "pygments_lexer": "ipython3",
   "version": "3.10.12"
  }
 },
 "nbformat": 4,
 "nbformat_minor": 2
}
